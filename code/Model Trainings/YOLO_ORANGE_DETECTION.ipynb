{
  "nbformat": 4,
  "nbformat_minor": 0,
  "metadata": {
    "colab": {
      "provenance": [],
      "gpuType": "T4"
    },
    "kernelspec": {
      "name": "python3",
      "display_name": "Python 3"
    },
    "language_info": {
      "name": "python"
    },
    "accelerator": "GPU"
  },
  "cells": [
    {
      "cell_type": "code",
      "source": [
        "! unzip \"/content/Orange detection.v8i.yolov9.zip\""
      ],
      "metadata": {
        "colab": {
          "base_uri": "https://localhost:8080/"
        },
        "collapsed": true,
        "id": "xdw2lT3VyvdY",
        "outputId": "4c2dddd0-b6fb-42a0-a5ac-38b8077e3a80"
      },
      "execution_count": null,
      "outputs": [
        {
          "output_type": "stream",
          "name": "stdout",
          "text": [
            "Archive:  /content/Orange detection.v8i.yolov9.zip\n",
            " extracting: README.dataset.txt      \n",
            " extracting: README.roboflow.txt     \n",
            " extracting: data.yaml               \n",
            "   creating: test/\n",
            "   creating: test/images/\n",
            " extracting: test/images/orange--10-_jpg.rf.82c46744d4a29d42a3c9274a07050be7.jpg  \n",
            " extracting: test/images/orange--101-_jpg.rf.4432c8a22f6ab940bfeb2000b63bcb96.jpg  \n",
            " extracting: test/images/orange--102-_jpg.rf.25e8e5c3d6dcb3fa31cb2c386a936717.jpg  \n",
            " extracting: test/images/orange--111-_jpg.rf.753255a5e224f0d435ab90f8db252019.jpg  \n",
            " extracting: test/images/orange--22-_jpg.rf.3d52ed18561963401c7142b8c2992818.jpg  \n",
            " extracting: test/images/orange--23-_jpg.rf.995e393eb12bf39d8dfad7c7cc760293.jpg  \n",
            " extracting: test/images/orange--25-_jpg.rf.fccb01773171cb66aae6bf01e4b9411e.jpg  \n",
            " extracting: test/images/orange--26-_jpg.rf.7bdff7d5f52797c493c88eabf79dad61.jpg  \n",
            " extracting: test/images/orange--27-_jpg.rf.e88e52a988561be5918971144ab399aa.jpg  \n",
            " extracting: test/images/orange--33-_jpg.rf.94e60e20017d03289bf6798fde6f2824.jpg  \n",
            " extracting: test/images/orange--34-_jpg.rf.6e557ab133177174ae7257e3ec61527c.jpg  \n",
            " extracting: test/images/orange--4-_jpg.rf.ca1dffd149ada1c58749ae442252166a.jpg  \n",
            " extracting: test/images/orange--45-_jpg.rf.a709906f3a6b508c23c43c8eb28e0b2d.jpg  \n",
            " extracting: test/images/orange--5-_jpg.rf.a5aa063534b91fc135f656160888074b.jpg  \n",
            " extracting: test/images/orange--58-_jpg.rf.1b732a72550d7c474e42a8b98c4424b1.jpg  \n",
            " extracting: test/images/orange--93-_jpg.rf.cf91fd5e276f7f219e019b7e8da3c9df.jpg  \n",
            "   creating: test/labels/\n",
            " extracting: test/labels/orange--10-_jpg.rf.82c46744d4a29d42a3c9274a07050be7.txt  \n",
            " extracting: test/labels/orange--101-_jpg.rf.4432c8a22f6ab940bfeb2000b63bcb96.txt  \n",
            " extracting: test/labels/orange--102-_jpg.rf.25e8e5c3d6dcb3fa31cb2c386a936717.txt  \n",
            " extracting: test/labels/orange--111-_jpg.rf.753255a5e224f0d435ab90f8db252019.txt  \n",
            " extracting: test/labels/orange--22-_jpg.rf.3d52ed18561963401c7142b8c2992818.txt  \n",
            " extracting: test/labels/orange--23-_jpg.rf.995e393eb12bf39d8dfad7c7cc760293.txt  \n",
            " extracting: test/labels/orange--25-_jpg.rf.fccb01773171cb66aae6bf01e4b9411e.txt  \n",
            " extracting: test/labels/orange--26-_jpg.rf.7bdff7d5f52797c493c88eabf79dad61.txt  \n",
            " extracting: test/labels/orange--27-_jpg.rf.e88e52a988561be5918971144ab399aa.txt  \n",
            " extracting: test/labels/orange--33-_jpg.rf.94e60e20017d03289bf6798fde6f2824.txt  \n",
            " extracting: test/labels/orange--34-_jpg.rf.6e557ab133177174ae7257e3ec61527c.txt  \n",
            " extracting: test/labels/orange--4-_jpg.rf.ca1dffd149ada1c58749ae442252166a.txt  \n",
            " extracting: test/labels/orange--45-_jpg.rf.a709906f3a6b508c23c43c8eb28e0b2d.txt  \n",
            " extracting: test/labels/orange--5-_jpg.rf.a5aa063534b91fc135f656160888074b.txt  \n",
            " extracting: test/labels/orange--58-_jpg.rf.1b732a72550d7c474e42a8b98c4424b1.txt  \n",
            " extracting: test/labels/orange--93-_jpg.rf.cf91fd5e276f7f219e019b7e8da3c9df.txt  \n",
            "   creating: train/\n",
            "   creating: train/images/\n",
            " extracting: train/images/orange--1-_jpg.rf.0049e6355311078316d2f58a91eb89c0.jpg  \n",
            " extracting: train/images/orange--1-_jpg.rf.005865cb9a8ff41d90fce1679882cd10.jpg  \n",
            " extracting: train/images/orange--1-_jpg.rf.2e002878e20be9cd0bdea4a2b3eaada4.jpg  \n",
            " extracting: train/images/orange--1-_jpg.rf.53a7df72814d448e715e8a29410f8b56.jpg  \n",
            " extracting: train/images/orange--1-_jpg.rf.99cf7dfa31ea3aa0e3b54e9b77ce7c33.jpg  \n",
            " extracting: train/images/orange--1-_jpg.rf.ac2acc1edaa08eccdb67fa0ede598820.jpg  \n",
            " extracting: train/images/orange--100-_jpg.rf.059443a56e78fc6e35f15d232dd6c7a2.jpg  \n",
            " extracting: train/images/orange--100-_jpg.rf.37b4c3148bb09b3dbf2d2fdaeddda17d.jpg  \n",
            " extracting: train/images/orange--100-_jpg.rf.72167a0f1af07e322528b6d6f56533df.jpg  \n",
            " extracting: train/images/orange--103-_jpg.rf.4c20f9b2e783bc0ddf809d7bdfa74aca.jpg  \n",
            " extracting: train/images/orange--103-_jpg.rf.723135d6baee6b84159a889801e803df.jpg  \n",
            " extracting: train/images/orange--103-_jpg.rf.b36009db65d73a814964683d0235bbee.jpg  \n",
            " extracting: train/images/orange--104-_jpg.rf.59ef4234deda0150304eca894a9b5088.jpg  \n",
            " extracting: train/images/orange--104-_jpg.rf.61174c44721571d79b0b20d2faa5d776.jpg  \n",
            " extracting: train/images/orange--104-_jpg.rf.a5d1601919dd003ec5a200f76f66eba0.jpg  \n",
            " extracting: train/images/orange--105-_jpg.rf.5775740658a4db79ab401043498e6701.jpg  \n",
            " extracting: train/images/orange--105-_jpg.rf.7883b67a5ae145460d7ff46e3d94d52f.jpg  \n",
            " extracting: train/images/orange--105-_jpg.rf.ff189c0049a8c031b816776fdd4eee00.jpg  \n",
            " extracting: train/images/orange--106-_jpg.rf.1de631293707726138a04832221fbef3.jpg  \n",
            " extracting: train/images/orange--106-_jpg.rf.73ecdd91558d216e1c119c69866c3575.jpg  \n",
            " extracting: train/images/orange--106-_jpg.rf.9c0c299ea67f0ed9bd5b07e92f47a5ed.jpg  \n",
            " extracting: train/images/orange--107-_jpg.rf.56fdb935ddbbb0f966b1ecbcb11539cf.jpg  \n",
            " extracting: train/images/orange--107-_jpg.rf.5b937a604a462e018c771af96d3ede7c.jpg  \n",
            " extracting: train/images/orange--107-_jpg.rf.e2f29b20736642c0201bca382a637a9e.jpg  \n",
            " extracting: train/images/orange--11-_jpg.rf.2694e26f29a4d18576c3acb4a80cb37c.jpg  \n",
            " extracting: train/images/orange--11-_jpg.rf.2a5b691a0abf1491fba8b754f716e612.jpg  \n",
            " extracting: train/images/orange--11-_jpg.rf.5d785fc94b0d1c34fa6bc322f2eb9d27.jpg  \n",
            " extracting: train/images/orange--11-_jpg.rf.d826b23b4392579a3db9cc8f381cbe3a.jpg  \n",
            " extracting: train/images/orange--11-_jpg.rf.dd68e244d788af1e722a5bfc4c4f8047.jpg  \n",
            " extracting: train/images/orange--11-_jpg.rf.e1613e5995769e9ad1bb6192ad587347.jpg  \n",
            " extracting: train/images/orange--113-_jpg.rf.501bab430bf3df4ad1461ced41f320aa.jpg  \n",
            " extracting: train/images/orange--113-_jpg.rf.70ca320442c0f329d7136c4de62f70d2.jpg  \n",
            " extracting: train/images/orange--113-_jpg.rf.b72b0cd449f99d2aebb12093dc7b3c73.jpg  \n",
            " extracting: train/images/orange--114-_jpg.rf.24941eced9801eb529c4beee4eabc13b.jpg  \n",
            " extracting: train/images/orange--114-_jpg.rf.3df310459e55af897d519e454e12636b.jpg  \n",
            " extracting: train/images/orange--114-_jpg.rf.ff8406fc342bbecb840ed33662e1265b.jpg  \n",
            " extracting: train/images/orange--115-_jpg.rf.04845d84164ba102957ad1479b9dad3e.jpg  \n",
            " extracting: train/images/orange--115-_jpg.rf.1da438c87416c8eef97942ae70f5ba36.jpg  \n",
            " extracting: train/images/orange--115-_jpg.rf.7a146419399c4ddcf8e2c02bf1459c9f.jpg  \n",
            " extracting: train/images/orange--116-_jpg.rf.0e2d565a645668e881ebc1b5a1b0d28d.jpg  \n",
            " extracting: train/images/orange--116-_jpg.rf.8ea342479e468fc6f164f4f9c58385a9.jpg  \n",
            " extracting: train/images/orange--116-_jpg.rf.a941c834fb0eac3931a4237de709c9a8.jpg  \n",
            " extracting: train/images/orange--117-_jpg.rf.1dcc18a27024e23b444c645483a7cb64.jpg  \n",
            " extracting: train/images/orange--117-_jpg.rf.3a28b0b9357839d33928368547e4b5ca.jpg  \n",
            " extracting: train/images/orange--117-_jpg.rf.6c8d6440ebdcc346ec9403aa1a913958.jpg  \n",
            " extracting: train/images/orange--119-_jpg.rf.2e8b018a88baea1789ab23d1ff4d4add.jpg  \n",
            " extracting: train/images/orange--119-_jpg.rf.efdcbb082d1077722e22dee3becb112c.jpg  \n",
            " extracting: train/images/orange--119-_jpg.rf.f339f2e4c61333284cd36b2fa146ffb6.jpg  \n",
            " extracting: train/images/orange--12-_jpg.rf.339f97b6e2d52c67dde2efccbf7302c4.jpg  \n",
            " extracting: train/images/orange--12-_jpg.rf.34fd9665e277938336d2dfdbdfad6acf.jpg  \n",
            " extracting: train/images/orange--12-_jpg.rf.6af6ffeb6fccd4e774a92cadbfa69c66.jpg  \n",
            " extracting: train/images/orange--12-_jpg.rf.881812a1055f8c8d547feca29e6ef797.jpg  \n",
            " extracting: train/images/orange--12-_jpg.rf.c59740225288d3880a3a937cd57cd10d.jpg  \n",
            " extracting: train/images/orange--12-_jpg.rf.df196583fa3fbbcd6a4ec9d0664f08b6.jpg  \n",
            " extracting: train/images/orange--120-_jpg.rf.80679a6243387752c4e57de75c70912d.jpg  \n",
            " extracting: train/images/orange--120-_jpg.rf.a3b65e8039a96738c98f53cbe7648aa2.jpg  \n",
            " extracting: train/images/orange--120-_jpg.rf.d045765c449fa2d871057e2bc33c5c5f.jpg  \n",
            " extracting: train/images/orange--13-_jpg.rf.796398ee0f0c69ac09e4b447dbd9727b.jpg  \n",
            " extracting: train/images/orange--13-_jpg.rf.bcabc21bd1189715b85f1678a059b2fa.jpg  \n",
            " extracting: train/images/orange--13-_jpg.rf.cbe7230875185591676d84b43f6306b9.jpg  \n",
            " extracting: train/images/orange--14-_jpg.rf.014fe774217fdfb1ed30fd339053f5c1.jpg  \n",
            " extracting: train/images/orange--14-_jpg.rf.3e1790b4d6171d0e717eb397d1ae2bee.jpg  \n",
            " extracting: train/images/orange--14-_jpg.rf.883a3d2b57823c6cb91450f07acc477a.jpg  \n",
            " extracting: train/images/orange--14-_jpg.rf.9da23e39205bd5e29bb5e8dc9646b276.jpg  \n",
            " extracting: train/images/orange--14-_jpg.rf.f5beac5f61a2259cc952714dfb590694.jpg  \n",
            " extracting: train/images/orange--14-_jpg.rf.fe764c6e9d99f27922f71351c5f6eb4d.jpg  \n",
            " extracting: train/images/orange--15-_jpg.rf.01453ec490d173d40407d2d6a7b604d0.jpg  \n",
            " extracting: train/images/orange--15-_jpg.rf.5473d12e43b242691a40f3a2540f0a88.jpg  \n",
            " extracting: train/images/orange--15-_jpg.rf.70bad8e1198019ef3ed26c8a67f3f6fa.jpg  \n",
            " extracting: train/images/orange--15-_jpg.rf.7414cf5acbbe1de83ad1c783b00e446e.jpg  \n",
            " extracting: train/images/orange--15-_jpg.rf.849c83628dffbeb1cabc65ca547d9bd1.jpg  \n",
            " extracting: train/images/orange--15-_jpg.rf.ac98abb7964735f6c74567cb28789b4f.jpg  \n",
            " extracting: train/images/orange--16-_jpg.rf.13b02e9be8bcc1f7af0e7c252be3e369.jpg  \n",
            " extracting: train/images/orange--16-_jpg.rf.1f123092e31f0fb42e94a249f1316b55.jpg  \n",
            " extracting: train/images/orange--16-_jpg.rf.57e1b56cdd6e79cbd2a1cf4574525407.jpg  \n",
            " extracting: train/images/orange--16-_jpg.rf.6d2750a98fd2a0c9df4e9de1812c8cfd.jpg  \n",
            " extracting: train/images/orange--16-_jpg.rf.c55604e074664e5cda0e68ac16e1bcb9.jpg  \n",
            " extracting: train/images/orange--16-_jpg.rf.f93e67691c3825b81ead4a42c11ea577.jpg  \n",
            " extracting: train/images/orange--17-_jpg.rf.0595dae1259f6773a40ed93b30153d78.jpg  \n",
            " extracting: train/images/orange--17-_jpg.rf.238dcb69dbc9c58b9b0178fe822da5c2.jpg  \n",
            " extracting: train/images/orange--17-_jpg.rf.aa266867cdede09a70b5c82dd897097a.jpg  \n",
            " extracting: train/images/orange--17-_jpg.rf.aa53b2902f44b29aa4ee4809ddfc1fdc.jpg  \n",
            " extracting: train/images/orange--17-_jpg.rf.ea250898b215fa88f5bb698723f250a6.jpg  \n",
            " extracting: train/images/orange--17-_jpg.rf.eff75b11550ba5c7f44fd7201c709565.jpg  \n",
            " extracting: train/images/orange--18-_jpg.rf.0af3718a7b73c965a55588daa5b2807a.jpg  \n",
            " extracting: train/images/orange--18-_jpg.rf.3bd0aaca928a4a356dd3ef3d91ef0336.jpg  \n",
            " extracting: train/images/orange--18-_jpg.rf.4e6ac9603cacde86f9d37a4e1882d655.jpg  \n",
            " extracting: train/images/orange--18-_jpg.rf.5e880915c181a96250a62db9dd222de6.jpg  \n",
            " extracting: train/images/orange--18-_jpg.rf.79c1ef3a14442c4dd6364f588168cb69.jpg  \n",
            " extracting: train/images/orange--18-_jpg.rf.df47cf88752583d6bb04773c2120139e.jpg  \n",
            " extracting: train/images/orange--19-_jpg.rf.2b6739c8df2ff5f0691db0a661545b60.jpg  \n",
            " extracting: train/images/orange--19-_jpg.rf.d84dca440e7f040d30507b596b6fe6c2.jpg  \n",
            " extracting: train/images/orange--19-_jpg.rf.d850f94d0fd1ee7e4a4b5af6e521b6f6.jpg  \n",
            " extracting: train/images/orange--2-_jpg.rf.5e81a17ffdefc4e7c62244788f487110.jpg  \n",
            " extracting: train/images/orange--2-_jpg.rf.81bb4b79b1eaacbe9d16a9276ec19413.jpg  \n",
            " extracting: train/images/orange--2-_jpg.rf.90c03ba1d645093e1a53d5f69fd403f4.jpg  \n",
            " extracting: train/images/orange--2-_jpg.rf.973acca336ffb2af6fc1370ac32b77a9.jpg  \n",
            " extracting: train/images/orange--2-_jpg.rf.ddf83b91d4d3f0632c2b6d3a072ddf29.jpg  \n",
            " extracting: train/images/orange--2-_jpg.rf.f8e9e048b2fa77203aa28762c04daf02.jpg  \n",
            " extracting: train/images/orange--20-_jpg.rf.018a510da9f076e28a51ddf8a2fd8c79.jpg  \n",
            " extracting: train/images/orange--20-_jpg.rf.3ce90717d2c614b64177639b8b4505b4.jpg  \n",
            " extracting: train/images/orange--20-_jpg.rf.d67937dd74939358b988dc2363199e73.jpg  \n",
            " extracting: train/images/orange--21-_jpg.rf.3c5da394b32f5975cc942f4d63c3ac02.jpg  \n",
            " extracting: train/images/orange--21-_jpg.rf.47276a33ec1323d9969c8ce1571489ee.jpg  \n",
            " extracting: train/images/orange--21-_jpg.rf.517e1667f0d723ea9d0a4b55b8ead1a3.jpg  \n",
            " extracting: train/images/orange--21-_jpg.rf.573ebb72fae59b796aa7aca56eee31ff.jpg  \n",
            " extracting: train/images/orange--21-_jpg.rf.902a966709b37c0e379d0a0f2b1d9026.jpg  \n",
            " extracting: train/images/orange--21-_jpg.rf.b761e2496da63c7bee0695303089baf2.jpg  \n",
            " extracting: train/images/orange--24-_jpg.rf.1d229b599bdaf5da3ff963a84c6aa689.jpg  \n",
            " extracting: train/images/orange--24-_jpg.rf.309bab107b931f369d2f6d1851849302.jpg  \n",
            " extracting: train/images/orange--24-_jpg.rf.6b5d5baeb1521fc0029a6bf72a26f17b.jpg  \n",
            " extracting: train/images/orange--26-_jpg.rf.83d6844c7b47d4a14ba73f3410e980b0.jpg  \n",
            " extracting: train/images/orange--26-_jpg.rf.c9cb6f6e0e252911437b22f1f8796ab4.jpg  \n",
            " extracting: train/images/orange--26-_jpg.rf.e3b944a33a2ee13457c49f86bf7ce2e2.jpg  \n",
            " extracting: train/images/orange--27-_jpg.rf.39d6245e251deca8e17ab0ae53545cb2.jpg  \n",
            " extracting: train/images/orange--27-_jpg.rf.5f03dc4370f17379ba2d6da48035179f.jpg  \n",
            " extracting: train/images/orange--27-_jpg.rf.a4ebb9d9980ab3902d0a3521bef8562b.jpg  \n",
            " extracting: train/images/orange--28-_jpg.rf.1018e1b09a5266eca58104b3b22c124d.jpg  \n",
            " extracting: train/images/orange--28-_jpg.rf.489f2f6046b1495b7bd5c44135b2547f.jpg  \n",
            " extracting: train/images/orange--28-_jpg.rf.a383a9604aff5f244c11e73eb3f2f70b.jpg  \n",
            " extracting: train/images/orange--29-_jpg.rf.008dfbf16a8c1667444a4a796d95592d.jpg  \n",
            " extracting: train/images/orange--29-_jpg.rf.6e4411d419bdbbdef25a057bc706556a.jpg  \n",
            " extracting: train/images/orange--29-_jpg.rf.8df321d9621236e0d8985977dd539a32.jpg  \n",
            " extracting: train/images/orange--29-_jpg.rf.a4759142388224b04d2152d059826a22.jpg  \n",
            " extracting: train/images/orange--29-_jpg.rf.d644fbd8598da1544feeba5e9a111af8.jpg  \n",
            " extracting: train/images/orange--29-_jpg.rf.da5d6cf8e2f8fc50f866e482d7cc225f.jpg  \n",
            " extracting: train/images/orange--3-_jpg.rf.1761ae28467fb8e267346ae77e52099f.jpg  \n",
            " extracting: train/images/orange--3-_jpg.rf.27eda683d82f6eeb07da3f0dd810e02a.jpg  \n",
            " extracting: train/images/orange--3-_jpg.rf.324e116ba6b16e6485d106f4141f1327.jpg  \n",
            " extracting: train/images/orange--3-_jpg.rf.aa2e3c39f758b55d7218d320c55a678e.jpg  \n",
            " extracting: train/images/orange--3-_jpg.rf.aad702492cfa8ee9d58fccbd4555207c.jpg  \n",
            " extracting: train/images/orange--3-_jpg.rf.ae0b4ee52f38a5db6e9db79d4b7f6a8d.jpg  \n",
            " extracting: train/images/orange--31-_jpg.rf.104d7a5b636e4ff7db34e3b2122478ec.jpg  \n",
            " extracting: train/images/orange--31-_jpg.rf.31c27076a7dca013d748c599e92f4252.jpg  \n",
            " extracting: train/images/orange--31-_jpg.rf.603ab4af9497486252b55f8a9b377713.jpg  \n",
            " extracting: train/images/orange--31-_jpg.rf.ab8a0a81065740344af5a0d3a4a2bcdc.jpg  \n",
            " extracting: train/images/orange--31-_jpg.rf.df43621db810fad217cb0cf8cd7859b2.jpg  \n",
            " extracting: train/images/orange--31-_jpg.rf.f26e7042fc998b25c718863363dab751.jpg  \n",
            " extracting: train/images/orange--32-_jpg.rf.38dd4a010acdd2c1d5703387746f4d71.jpg  \n",
            " extracting: train/images/orange--32-_jpg.rf.53b6e1a45589ffaac7e7f1c3da38c010.jpg  \n",
            " extracting: train/images/orange--32-_jpg.rf.8e1c51b34fe01041fd9df9d2542c8df4.jpg  \n",
            " extracting: train/images/orange--32-_jpg.rf.d7ca60797297064b65254f720e6b502e.jpg  \n",
            " extracting: train/images/orange--32-_jpg.rf.dfd49d236152f029ccc28896235fd832.jpg  \n",
            " extracting: train/images/orange--32-_jpg.rf.efa125cee02bd8f54523fa051487ca72.jpg  \n",
            " extracting: train/images/orange--33-_jpg.rf.2ad2e2c99f9b632afbd3391c0b1ecbff.jpg  \n",
            " extracting: train/images/orange--33-_jpg.rf.70d5d800b34f47eb4a0b025d0aea325a.jpg  \n",
            " extracting: train/images/orange--33-_jpg.rf.c9368d23e46814a300b2ebf794defac7.jpg  \n",
            " extracting: train/images/orange--34-_jpg.rf.777333c7286f418160ad0b8437fff035.jpg  \n",
            " extracting: train/images/orange--34-_jpg.rf.df2f27ffa07667b4b7632b06cf65c8cb.jpg  \n",
            " extracting: train/images/orange--34-_jpg.rf.e77ba73d025fdbc3ad62a8952966e2e8.jpg  \n",
            " extracting: train/images/orange--35-_jpg.rf.02f60fd181bb8cc34f18c95538a772a5.jpg  \n",
            " extracting: train/images/orange--35-_jpg.rf.1457de52d0f27d587537a3782964d948.jpg  \n",
            " extracting: train/images/orange--35-_jpg.rf.18ea299b3518e3392a3640b85a3050fd.jpg  \n",
            " extracting: train/images/orange--35-_jpg.rf.7d46369fcb87bd7caeac1dca3560120c.jpg  \n",
            " extracting: train/images/orange--35-_jpg.rf.a6c466806581fd46207ddf5adf3dc1ff.jpg  \n",
            " extracting: train/images/orange--35-_jpg.rf.de448544e928e76df7f89e364e775b4e.jpg  \n",
            " extracting: train/images/orange--36-_jpg.rf.1853c4ca43f90d7169d878ec8f62777e.jpg  \n",
            " extracting: train/images/orange--36-_jpg.rf.5f554e5544d353141107f17b12a7c395.jpg  \n",
            " extracting: train/images/orange--36-_jpg.rf.86acdcee67377888669e3f48d4a9c2b7.jpg  \n",
            " extracting: train/images/orange--36-_jpg.rf.b64e5ad46189574ec7a2d714d5718ac4.jpg  \n",
            " extracting: train/images/orange--36-_jpg.rf.c485dd0a4e0562731da7de864efb5850.jpg  \n",
            " extracting: train/images/orange--36-_jpg.rf.c9a7a45138980decdf80945fd7a23b53.jpg  \n",
            " extracting: train/images/orange--38-_jpg.rf.2490eff6a68ac86135d649a0e7c0b336.jpg  \n",
            " extracting: train/images/orange--38-_jpg.rf.31f0a25f773908a4fd20ef7b45b86953.jpg  \n",
            " extracting: train/images/orange--38-_jpg.rf.9b7c9e4e0f319ed0902fcf933e424431.jpg  \n",
            " extracting: train/images/orange--38-_jpg.rf.d70c0872af8ed2ee9c4081ce06abc5a6.jpg  \n",
            " extracting: train/images/orange--38-_jpg.rf.f518c328a6f2c691c822e10b7a7f8d8a.jpg  \n",
            " extracting: train/images/orange--38-_jpg.rf.f80009091f52b5ae3a497727119e765c.jpg  \n",
            " extracting: train/images/orange--39-_jpg.rf.0f14757708696f48895d9f246d50123b.jpg  \n",
            " extracting: train/images/orange--39-_jpg.rf.4354094f7e0de6241700538df6c3d568.jpg  \n",
            " extracting: train/images/orange--39-_jpg.rf.6d47ad355f6fe6009e1e3f72b0e6ee27.jpg  \n",
            " extracting: train/images/orange--39-_jpg.rf.80a3db4afb925772169b58bea62b51de.jpg  \n",
            " extracting: train/images/orange--39-_jpg.rf.84211b528928b838d3acfcaa3b3bd23c.jpg  \n",
            " extracting: train/images/orange--39-_jpg.rf.de07740214426bd8d620600036390ba3.jpg  \n",
            " extracting: train/images/orange--40-_jpg.rf.12e5366fef3d7548b1187ef675570c67.jpg  \n",
            " extracting: train/images/orange--40-_jpg.rf.41baf9dceaddfe92823a7eb209fcd889.jpg  \n",
            " extracting: train/images/orange--40-_jpg.rf.86b12d833adb7aa0faa2e40ef30686cf.jpg  \n",
            " extracting: train/images/orange--40-_jpg.rf.8a3c56f87fedb0d347b7835655561c8b.jpg  \n",
            " extracting: train/images/orange--40-_jpg.rf.d517e66959c8cbbef1845a37833c24e0.jpg  \n",
            " extracting: train/images/orange--40-_jpg.rf.f9365e11e988ea99d4d47c04e3b68828.jpg  \n",
            " extracting: train/images/orange--41-_jpg.rf.5b16c3722a527f4900e05d62be568dc3.jpg  \n",
            " extracting: train/images/orange--41-_jpg.rf.6b85d94807d5d8647db743666ed84ce2.jpg  \n",
            " extracting: train/images/orange--41-_jpg.rf.e93f372d6b6c5d474d4ce5b1431b5279.jpg  \n",
            " extracting: train/images/orange--43-_jpg.rf.27cd4c8f707ac20a779f49286b52fb3b.jpg  \n",
            " extracting: train/images/orange--43-_jpg.rf.75bd7efdf6f2571a0370fa9fec650dd4.jpg  \n",
            " extracting: train/images/orange--43-_jpg.rf.fd3fba1eae2bec77159bd649c5a1b728.jpg  \n",
            " extracting: train/images/orange--48-_jpg.rf.4c3e53ba848b447a300d63a82e80a62d.jpg  \n",
            " extracting: train/images/orange--48-_jpg.rf.b6cd5776322d252a433aa601965cabb3.jpg  \n",
            " extracting: train/images/orange--48-_jpg.rf.d4d91d782b31e18650d1f6240e0c0c33.jpg  \n",
            " extracting: train/images/orange--49-_jpg.rf.801a906f9787ec1d263e1c94fa63d7ce.jpg  \n",
            " extracting: train/images/orange--49-_jpg.rf.9a0577a5ec78fa137e834bad2cb89638.jpg  \n",
            " extracting: train/images/orange--49-_jpg.rf.b2cb6b12f7da40ba06ea6087d247c5ff.jpg  \n",
            " extracting: train/images/orange--5-_jpg.rf.5a168d7408c9160fcc3f924820f44282.jpg  \n",
            " extracting: train/images/orange--5-_jpg.rf.dae08083e3ade454d7955ab141fd6f36.jpg  \n",
            " extracting: train/images/orange--5-_jpg.rf.e4a56002c0cc356cf9acc05acf0ad2e9.jpg  \n",
            " extracting: train/images/orange--50-_jpg.rf.23c1f8619ecd887e7f821f70d0f7883b.jpg  \n",
            " extracting: train/images/orange--50-_jpg.rf.c2c4f4fd74e9667f3cb6ec2b25249594.jpg  \n",
            " extracting: train/images/orange--50-_jpg.rf.fc08cea7a3f8aca0e5c8da254afee5d2.jpg  \n",
            " extracting: train/images/orange--51-_jpg.rf.1ea28bd470b811b593ef5b78a06bed3b.jpg  \n",
            " extracting: train/images/orange--51-_jpg.rf.4d21504b97b8ced23ddac47ec2c80085.jpg  \n",
            " extracting: train/images/orange--51-_jpg.rf.5ab4ab36e8f3ff7b83d3c90981033eeb.jpg  \n",
            " extracting: train/images/orange--52-_jpg.rf.2ae1400ebbfa49ccbf417a4dc8a54454.jpg  \n",
            " extracting: train/images/orange--52-_jpg.rf.48366219ca6f8b1c8af53539b11752de.jpg  \n",
            " extracting: train/images/orange--52-_jpg.rf.6a995af68a394a0041945fd26cba5b56.jpg  \n",
            " extracting: train/images/orange--53-_jpg.rf.3269d4cde1581d7bd3ef052c63fcfce1.jpg  \n",
            " extracting: train/images/orange--53-_jpg.rf.51b0c3d0a4fb67b25a7d1b2367eaebe9.jpg  \n",
            " extracting: train/images/orange--53-_jpg.rf.8ae1db4e0d0cee458efcf10ef4b21eca.jpg  \n",
            " extracting: train/images/orange--54-_jpg.rf.4925f3d34bad59d64782cfdb30461133.jpg  \n",
            " extracting: train/images/orange--54-_jpg.rf.5efede6a4864258d72940ee77f91ae8e.jpg  \n",
            " extracting: train/images/orange--54-_jpg.rf.9b29164dd54bccf33becef4c7c4ef771.jpg  \n",
            " extracting: train/images/orange--55-_jpg.rf.2e14a24002401776ec91c93ef7fd65c6.jpg  \n",
            " extracting: train/images/orange--55-_jpg.rf.38744a89c42d33c8b7d4cdacaa0dca6d.jpg  \n",
            " extracting: train/images/orange--55-_jpg.rf.eec29f062e0c70dce3c2a23efb19ff5e.jpg  \n",
            " extracting: train/images/orange--56-_jpg.rf.0f848feff70f3a64a1719e0d0e17e1db.jpg  \n",
            " extracting: train/images/orange--56-_jpg.rf.138c5e064ced263cd219d834b24e3205.jpg  \n",
            " extracting: train/images/orange--56-_jpg.rf.5744450a74b76f2d0eb6dac85908a647.jpg  \n",
            " extracting: train/images/orange--57-_jpg.rf.c50c00f2cbb7af2a43e49929504b8d55.jpg  \n",
            " extracting: train/images/orange--57-_jpg.rf.c7182a649c6dfce706a9948db2c98e6c.jpg  \n",
            " extracting: train/images/orange--57-_jpg.rf.f0b2b3ccbcfbbf25a3afa9ce1a362420.jpg  \n",
            " extracting: train/images/orange--6-_jpg.rf.2003a4f9e34a14cc39a81aa16e463265.jpg  \n",
            " extracting: train/images/orange--6-_jpg.rf.5c70d1902fdaf60bac98079120ce5276.jpg  \n",
            " extracting: train/images/orange--6-_jpg.rf.68b71a2dbff7bbe806ffcdf711a0a575.jpg  \n",
            " extracting: train/images/orange--6-_jpg.rf.8bd792203808a4abaa2d9370aaefddfe.jpg  \n",
            " extracting: train/images/orange--6-_jpg.rf.a04053d06cf76f8db63a135d546e0af3.jpg  \n",
            " extracting: train/images/orange--6-_jpg.rf.b0b20cb17b6c40db3887997f1a60ea5d.jpg  \n",
            " extracting: train/images/orange--60-_jpg.rf.7be4c4a873e04ae567aefcfd03b2c45d.jpg  \n",
            " extracting: train/images/orange--60-_jpg.rf.d362d28a66f38d356c3635b15440455d.jpg  \n",
            " extracting: train/images/orange--60-_jpg.rf.d614593544141f08847d1603a4385322.jpg  \n",
            " extracting: train/images/orange--61-_jpg.rf.347cd785e65a38c1be5a9a483dc349c4.jpg  \n",
            " extracting: train/images/orange--61-_jpg.rf.9b7a00ff22768e70199b32a59dc797b5.jpg  \n",
            " extracting: train/images/orange--61-_jpg.rf.bcee6f46f2b488473d184ddc3d641d6c.jpg  \n",
            " extracting: train/images/orange--62-_jpg.rf.5360f076d8947f50221c6fc18513e554.jpg  \n",
            " extracting: train/images/orange--62-_jpg.rf.9e8a3f9884de947bb78e79e542b3ec55.jpg  \n",
            " extracting: train/images/orange--62-_jpg.rf.b10722c634910402afc26fbecf7dab0e.jpg  \n",
            " extracting: train/images/orange--63-_jpg.rf.1acf4d7c5195d1e7ec5ff51dacbe08d3.jpg  \n",
            " extracting: train/images/orange--63-_jpg.rf.cb589b6d8aaac4785eb8743d55e688c9.jpg  \n",
            " extracting: train/images/orange--63-_jpg.rf.fe9d507f6cb384149465f59571a11f16.jpg  \n",
            " extracting: train/images/orange--65-_jpg.rf.3c088f4c48b9a6c1424799910fe41484.jpg  \n",
            " extracting: train/images/orange--65-_jpg.rf.c5940f28ec4e49a8a9f713cb90d9297a.jpg  \n",
            " extracting: train/images/orange--65-_jpg.rf.d2877b921ae8d23823e982b0029e8d83.jpg  \n",
            " extracting: train/images/orange--66-_jpg.rf.1c84081bf500ec12ad01467d54f2f44d.jpg  \n",
            " extracting: train/images/orange--66-_jpg.rf.68cd5ae53b8268c3608d690bb7f24f3e.jpg  \n",
            " extracting: train/images/orange--66-_jpg.rf.d0ae536f45219084dfbaca1d135203c8.jpg  \n",
            " extracting: train/images/orange--67-_jpg.rf.265b90a68929353ce5719ad16d54d7a5.jpg  \n",
            " extracting: train/images/orange--67-_jpg.rf.7825d8843debf2462a024e16576c2fe6.jpg  \n",
            " extracting: train/images/orange--67-_jpg.rf.bf1d9e3e569e026b442d2fcd15e464e4.jpg  \n",
            " extracting: train/images/orange--68-_jpg.rf.220a7be9f4a6ab2ab04871314a2eae2f.jpg  \n",
            " extracting: train/images/orange--68-_jpg.rf.5bb94cf907b824b95a16a1d2dd33924b.jpg  \n",
            " extracting: train/images/orange--68-_jpg.rf.e6e53749a987b44ba863f24940161b39.jpg  \n",
            " extracting: train/images/orange--69-_jpg.rf.2f56325e0ecc2152cbd46e1da72071f2.jpg  \n",
            " extracting: train/images/orange--69-_jpg.rf.3d39e8cb16dfbdf23859731e5e52146c.jpg  \n",
            " extracting: train/images/orange--69-_jpg.rf.bcb67d8719584d54b5d88d866acf6ed6.jpg  \n",
            " extracting: train/images/orange--7-_jpg.rf.5230bd2b911644e025242dc7b0dcb268.jpg  \n",
            " extracting: train/images/orange--7-_jpg.rf.6fbaf902078ece0386839d255dba53a6.jpg  \n",
            " extracting: train/images/orange--7-_jpg.rf.92336bf7530de0fae2c299f763e0b87f.jpg  \n",
            " extracting: train/images/orange--7-_jpg.rf.cf606b0236a9a80e1bf5bdf7b546767b.jpg  \n",
            " extracting: train/images/orange--7-_jpg.rf.d78dfbc9d3292730a0de3d82db5800d5.jpg  \n",
            " extracting: train/images/orange--7-_jpg.rf.db6aea3ca9190239e70ab8c31b5fa4fc.jpg  \n",
            " extracting: train/images/orange--70-_jpg.rf.02ad94e24d2ccb492df48b9ed10aa853.jpg  \n",
            " extracting: train/images/orange--70-_jpg.rf.5970c94ef3685b3d31b8105b98aef4bc.jpg  \n",
            " extracting: train/images/orange--70-_jpg.rf.ad6b27fde8c52f34cd8ca8691981112c.jpg  \n",
            " extracting: train/images/orange--71-_jpg.rf.2414e0634b259dabf1ca4c03689328f4.jpg  \n",
            " extracting: train/images/orange--71-_jpg.rf.710b5c50280a57285a04f52474b4f94f.jpg  \n",
            " extracting: train/images/orange--71-_jpg.rf.7bc129c0012d23dc17b7b3bb651977ae.jpg  \n",
            " extracting: train/images/orange--73-_jpg.rf.4334a7473b67a0a53b61e451984b242c.jpg  \n",
            " extracting: train/images/orange--73-_jpg.rf.cb23ce22800451fcd3590c328419078b.jpg  \n",
            " extracting: train/images/orange--73-_jpg.rf.e4ef0411d10ba13d23d3e2afc843515f.jpg  \n",
            " extracting: train/images/orange--75-_jpg.rf.24a106fbb057115b4297e48a44f762ac.jpg  \n",
            " extracting: train/images/orange--75-_jpg.rf.3deebaff4f0faae897c3468b785e46cd.jpg  \n",
            " extracting: train/images/orange--75-_jpg.rf.f9928b10a330a800d708aa787f39d262.jpg  \n",
            " extracting: train/images/orange--76-_jpg.rf.2963bac47ca75c1a39b56c3ea797723e.jpg  \n",
            " extracting: train/images/orange--76-_jpg.rf.bdae7bd457bed168422b2076ff68460b.jpg  \n",
            " extracting: train/images/orange--76-_jpg.rf.c3e1587d6903c5c01f8d44b78a72c2cd.jpg  \n",
            " extracting: train/images/orange--77-_jpg.rf.17d048017d5704ea3e8a867e38521b17.jpg  \n",
            " extracting: train/images/orange--77-_jpg.rf.cb114fc4297720affb5ca2aa2be39978.jpg  \n",
            " extracting: train/images/orange--77-_jpg.rf.f62530c125f65177b8d10ef240c5b98d.jpg  \n",
            " extracting: train/images/orange--78-_jpg.rf.3dd82c25311ad255afe280956d558fb5.jpg  \n",
            " extracting: train/images/orange--78-_jpg.rf.b603a2552a7480c622fff239e9d9cacb.jpg  \n",
            " extracting: train/images/orange--78-_jpg.rf.e8d8b94d5ee722e3a88887c0370b6981.jpg  \n",
            " extracting: train/images/orange--8-_jpg.rf.455f2529eea266bacacf23e38a57fed9.jpg  \n",
            " extracting: train/images/orange--8-_jpg.rf.46f8fa26cee8974fa782b1af233775fc.jpg  \n",
            " extracting: train/images/orange--8-_jpg.rf.76eb4e9668364d29053e306325660dff.jpg  \n",
            " extracting: train/images/orange--8-_jpg.rf.7b8f344da214f9186da77d681fda5c38.jpg  \n",
            " extracting: train/images/orange--8-_jpg.rf.ac49d90de06b76af1a0d8f936194ddd3.jpg  \n",
            " extracting: train/images/orange--8-_jpg.rf.d24bdfa66b8f35baec385ba4e6da54ce.jpg  \n",
            " extracting: train/images/orange--80-_jpg.rf.706ebdc1ded206cb42ef10a0f1226c8e.jpg  \n",
            " extracting: train/images/orange--80-_jpg.rf.a29a645f24ff782b356ed9acc448db5f.jpg  \n",
            " extracting: train/images/orange--80-_jpg.rf.b9e8375b6be70cbf78a773019ae26118.jpg  \n",
            " extracting: train/images/orange--81-_jpg.rf.545c2ab8dcf576bc3e000dc198ec9b41.jpg  \n",
            " extracting: train/images/orange--81-_jpg.rf.a296995f00f2f2feec0c2565043250b3.jpg  \n",
            " extracting: train/images/orange--81-_jpg.rf.f055451423f8a31403de6e95d5ee1714.jpg  \n",
            " extracting: train/images/orange--82-_jpg.rf.0e196aa5581d87fe5060d358d16f3881.jpg  \n",
            " extracting: train/images/orange--82-_jpg.rf.1ec8237a37c5c3b603d2fd6a97ee421c.jpg  \n",
            " extracting: train/images/orange--82-_jpg.rf.d312fadf794f90d06eb2010ceb6d1a82.jpg  \n",
            " extracting: train/images/orange--83-_jpg.rf.67a20283d24d5bda2a98fb3b4fd58cb8.jpg  \n",
            " extracting: train/images/orange--83-_jpg.rf.d66c7ebc4adec4298465b7e2653e0b54.jpg  \n",
            " extracting: train/images/orange--83-_jpg.rf.eca24b41c20e6784942ab93910489cca.jpg  \n",
            " extracting: train/images/orange--84-_jpg.rf.158311a875af8d99aeecbdce0ac65577.jpg  \n",
            " extracting: train/images/orange--84-_jpg.rf.206eac419a99cbfc7b1743d319cf0f0f.jpg  \n",
            " extracting: train/images/orange--84-_jpg.rf.606dc5275fc217e27c82365866b62d01.jpg  \n",
            " extracting: train/images/orange--85-_jpg.rf.330c9093282b909caeedb8f00732d432.jpg  \n",
            " extracting: train/images/orange--85-_jpg.rf.3a928e3d56bdcc96ec95d7f5021aa940.jpg  \n",
            " extracting: train/images/orange--85-_jpg.rf.4736565d6594dc8746f74dccd63c9141.jpg  \n",
            " extracting: train/images/orange--87-_jpg.rf.58b0dc58617bbf5cdbc01b61ebf909bf.jpg  \n",
            " extracting: train/images/orange--87-_jpg.rf.9f112ba8e1135d445209933c57199c18.jpg  \n",
            " extracting: train/images/orange--87-_jpg.rf.bfb36c65f3512d54ed3ac93ba2a05b59.jpg  \n",
            " extracting: train/images/orange--88-_jpg.rf.4df750dd072818826ad61641b790183a.jpg  \n",
            " extracting: train/images/orange--88-_jpg.rf.59f8662bebd2488101c5e2d860bcafbf.jpg  \n",
            " extracting: train/images/orange--88-_jpg.rf.be86d4ec5127d4a9a384f3ac7c0e6bff.jpg  \n",
            " extracting: train/images/orange--9-_jpg.rf.4c1ebbcad106c6b0cfc321cdaa9107f7.jpg  \n",
            " extracting: train/images/orange--9-_jpg.rf.70f5970286ef995af226fc5f1c983b2f.jpg  \n",
            " extracting: train/images/orange--9-_jpg.rf.77fcec44a2c9ec75730873f21de0317a.jpg  \n",
            " extracting: train/images/orange--9-_jpg.rf.a0095188657c0f5132553297e60210a3.jpg  \n",
            " extracting: train/images/orange--9-_jpg.rf.af690cf3896657ab934458253b6e180b.jpg  \n",
            " extracting: train/images/orange--9-_jpg.rf.c9c44c4c248d123902100e2e98b410bb.jpg  \n",
            " extracting: train/images/orange--90-_jpg.rf.a7aa473aff9346908ee351cc8d88a75a.jpg  \n",
            " extracting: train/images/orange--90-_jpg.rf.cb05791d9b80d2128a48ff59145ccbfa.jpg  \n",
            " extracting: train/images/orange--90-_jpg.rf.f57d3670f319fada49dadc9a75e3376b.jpg  \n",
            " extracting: train/images/orange--91-_jpg.rf.5f4b6bb2911519dc2e13931926c9ecfa.jpg  \n",
            " extracting: train/images/orange--91-_jpg.rf.5ff4e4c51e022943757df8d4c623b908.jpg  \n",
            " extracting: train/images/orange--91-_jpg.rf.f72274bf84cfa5c225b045009a388dc5.jpg  \n",
            " extracting: train/images/orange--92-_jpg.rf.4200d18f01ad2ccd4e7c355a52613d84.jpg  \n",
            " extracting: train/images/orange--92-_jpg.rf.c9ef5d1f740ad3ab25489ef7bc7380f9.jpg  \n",
            " extracting: train/images/orange--92-_jpg.rf.d01356163935f93c75c41d9f12f45862.jpg  \n",
            " extracting: train/images/orange--96-_jpg.rf.1a80493ae7a243861f97d34f054ea723.jpg  \n",
            " extracting: train/images/orange--96-_jpg.rf.7fd9bc5fc46f693706ce5dd0df124d0a.jpg  \n",
            " extracting: train/images/orange--96-_jpg.rf.9e3d5497dba109326d9e857f85c49fda.jpg  \n",
            " extracting: train/images/orange--97-_jpg.rf.0638c2aaf2373f1be109c3f682bd227c.jpg  \n",
            " extracting: train/images/orange--97-_jpg.rf.948618f59c22fdd5fe6d9a417ff76f9c.jpg  \n",
            " extracting: train/images/orange--97-_jpg.rf.ec492d7efe7dd351a468f49573c32b3f.jpg  \n",
            " extracting: train/images/orange--98-_jpg.rf.3beb13a1e99c291f70ba31012df90b86.jpg  \n",
            " extracting: train/images/orange--98-_jpg.rf.b7edca96ca5ff608e6465846ababa5d2.jpg  \n",
            " extracting: train/images/orange--98-_jpg.rf.df5cb839f789f423bf9c8b4287d7f36c.jpg  \n",
            " extracting: train/images/orange--99-_jpg.rf.41355e83536d11114bec1ba8598313f0.jpg  \n",
            " extracting: train/images/orange--99-_jpg.rf.e29a8accee0c49e610461ce995883b4a.jpg  \n",
            " extracting: train/images/orange--99-_jpg.rf.eec3b0103e81abc13cf697faa7278548.jpg  \n",
            "   creating: train/labels/\n",
            " extracting: train/labels/orange--1-_jpg.rf.0049e6355311078316d2f58a91eb89c0.txt  \n",
            " extracting: train/labels/orange--1-_jpg.rf.005865cb9a8ff41d90fce1679882cd10.txt  \n",
            " extracting: train/labels/orange--1-_jpg.rf.2e002878e20be9cd0bdea4a2b3eaada4.txt  \n",
            " extracting: train/labels/orange--1-_jpg.rf.53a7df72814d448e715e8a29410f8b56.txt  \n",
            " extracting: train/labels/orange--1-_jpg.rf.99cf7dfa31ea3aa0e3b54e9b77ce7c33.txt  \n",
            " extracting: train/labels/orange--1-_jpg.rf.ac2acc1edaa08eccdb67fa0ede598820.txt  \n",
            " extracting: train/labels/orange--100-_jpg.rf.059443a56e78fc6e35f15d232dd6c7a2.txt  \n",
            " extracting: train/labels/orange--100-_jpg.rf.37b4c3148bb09b3dbf2d2fdaeddda17d.txt  \n",
            " extracting: train/labels/orange--100-_jpg.rf.72167a0f1af07e322528b6d6f56533df.txt  \n",
            " extracting: train/labels/orange--103-_jpg.rf.4c20f9b2e783bc0ddf809d7bdfa74aca.txt  \n",
            " extracting: train/labels/orange--103-_jpg.rf.723135d6baee6b84159a889801e803df.txt  \n",
            " extracting: train/labels/orange--103-_jpg.rf.b36009db65d73a814964683d0235bbee.txt  \n",
            " extracting: train/labels/orange--104-_jpg.rf.59ef4234deda0150304eca894a9b5088.txt  \n",
            " extracting: train/labels/orange--104-_jpg.rf.61174c44721571d79b0b20d2faa5d776.txt  \n",
            " extracting: train/labels/orange--104-_jpg.rf.a5d1601919dd003ec5a200f76f66eba0.txt  \n",
            " extracting: train/labels/orange--105-_jpg.rf.5775740658a4db79ab401043498e6701.txt  \n",
            " extracting: train/labels/orange--105-_jpg.rf.7883b67a5ae145460d7ff46e3d94d52f.txt  \n",
            " extracting: train/labels/orange--105-_jpg.rf.ff189c0049a8c031b816776fdd4eee00.txt  \n",
            " extracting: train/labels/orange--106-_jpg.rf.1de631293707726138a04832221fbef3.txt  \n",
            " extracting: train/labels/orange--106-_jpg.rf.73ecdd91558d216e1c119c69866c3575.txt  \n",
            " extracting: train/labels/orange--106-_jpg.rf.9c0c299ea67f0ed9bd5b07e92f47a5ed.txt  \n",
            " extracting: train/labels/orange--107-_jpg.rf.56fdb935ddbbb0f966b1ecbcb11539cf.txt  \n",
            " extracting: train/labels/orange--107-_jpg.rf.5b937a604a462e018c771af96d3ede7c.txt  \n",
            " extracting: train/labels/orange--107-_jpg.rf.e2f29b20736642c0201bca382a637a9e.txt  \n",
            " extracting: train/labels/orange--11-_jpg.rf.2694e26f29a4d18576c3acb4a80cb37c.txt  \n",
            " extracting: train/labels/orange--11-_jpg.rf.2a5b691a0abf1491fba8b754f716e612.txt  \n",
            " extracting: train/labels/orange--11-_jpg.rf.5d785fc94b0d1c34fa6bc322f2eb9d27.txt  \n",
            " extracting: train/labels/orange--11-_jpg.rf.d826b23b4392579a3db9cc8f381cbe3a.txt  \n",
            " extracting: train/labels/orange--11-_jpg.rf.dd68e244d788af1e722a5bfc4c4f8047.txt  \n",
            " extracting: train/labels/orange--11-_jpg.rf.e1613e5995769e9ad1bb6192ad587347.txt  \n",
            " extracting: train/labels/orange--113-_jpg.rf.501bab430bf3df4ad1461ced41f320aa.txt  \n",
            " extracting: train/labels/orange--113-_jpg.rf.70ca320442c0f329d7136c4de62f70d2.txt  \n",
            " extracting: train/labels/orange--113-_jpg.rf.b72b0cd449f99d2aebb12093dc7b3c73.txt  \n",
            " extracting: train/labels/orange--114-_jpg.rf.24941eced9801eb529c4beee4eabc13b.txt  \n",
            " extracting: train/labels/orange--114-_jpg.rf.3df310459e55af897d519e454e12636b.txt  \n",
            " extracting: train/labels/orange--114-_jpg.rf.ff8406fc342bbecb840ed33662e1265b.txt  \n",
            " extracting: train/labels/orange--115-_jpg.rf.04845d84164ba102957ad1479b9dad3e.txt  \n",
            " extracting: train/labels/orange--115-_jpg.rf.1da438c87416c8eef97942ae70f5ba36.txt  \n",
            " extracting: train/labels/orange--115-_jpg.rf.7a146419399c4ddcf8e2c02bf1459c9f.txt  \n",
            " extracting: train/labels/orange--116-_jpg.rf.0e2d565a645668e881ebc1b5a1b0d28d.txt  \n",
            " extracting: train/labels/orange--116-_jpg.rf.8ea342479e468fc6f164f4f9c58385a9.txt  \n",
            " extracting: train/labels/orange--116-_jpg.rf.a941c834fb0eac3931a4237de709c9a8.txt  \n",
            " extracting: train/labels/orange--117-_jpg.rf.1dcc18a27024e23b444c645483a7cb64.txt  \n",
            " extracting: train/labels/orange--117-_jpg.rf.3a28b0b9357839d33928368547e4b5ca.txt  \n",
            " extracting: train/labels/orange--117-_jpg.rf.6c8d6440ebdcc346ec9403aa1a913958.txt  \n",
            " extracting: train/labels/orange--119-_jpg.rf.2e8b018a88baea1789ab23d1ff4d4add.txt  \n",
            " extracting: train/labels/orange--119-_jpg.rf.efdcbb082d1077722e22dee3becb112c.txt  \n",
            " extracting: train/labels/orange--119-_jpg.rf.f339f2e4c61333284cd36b2fa146ffb6.txt  \n",
            " extracting: train/labels/orange--12-_jpg.rf.339f97b6e2d52c67dde2efccbf7302c4.txt  \n",
            " extracting: train/labels/orange--12-_jpg.rf.34fd9665e277938336d2dfdbdfad6acf.txt  \n",
            " extracting: train/labels/orange--12-_jpg.rf.6af6ffeb6fccd4e774a92cadbfa69c66.txt  \n",
            " extracting: train/labels/orange--12-_jpg.rf.881812a1055f8c8d547feca29e6ef797.txt  \n",
            " extracting: train/labels/orange--12-_jpg.rf.c59740225288d3880a3a937cd57cd10d.txt  \n",
            " extracting: train/labels/orange--12-_jpg.rf.df196583fa3fbbcd6a4ec9d0664f08b6.txt  \n",
            " extracting: train/labels/orange--120-_jpg.rf.80679a6243387752c4e57de75c70912d.txt  \n",
            " extracting: train/labels/orange--120-_jpg.rf.a3b65e8039a96738c98f53cbe7648aa2.txt  \n",
            " extracting: train/labels/orange--120-_jpg.rf.d045765c449fa2d871057e2bc33c5c5f.txt  \n",
            " extracting: train/labels/orange--13-_jpg.rf.796398ee0f0c69ac09e4b447dbd9727b.txt  \n",
            " extracting: train/labels/orange--13-_jpg.rf.bcabc21bd1189715b85f1678a059b2fa.txt  \n",
            " extracting: train/labels/orange--13-_jpg.rf.cbe7230875185591676d84b43f6306b9.txt  \n",
            " extracting: train/labels/orange--14-_jpg.rf.014fe774217fdfb1ed30fd339053f5c1.txt  \n",
            " extracting: train/labels/orange--14-_jpg.rf.3e1790b4d6171d0e717eb397d1ae2bee.txt  \n",
            " extracting: train/labels/orange--14-_jpg.rf.883a3d2b57823c6cb91450f07acc477a.txt  \n",
            " extracting: train/labels/orange--14-_jpg.rf.9da23e39205bd5e29bb5e8dc9646b276.txt  \n",
            " extracting: train/labels/orange--14-_jpg.rf.f5beac5f61a2259cc952714dfb590694.txt  \n",
            " extracting: train/labels/orange--14-_jpg.rf.fe764c6e9d99f27922f71351c5f6eb4d.txt  \n",
            " extracting: train/labels/orange--15-_jpg.rf.01453ec490d173d40407d2d6a7b604d0.txt  \n",
            " extracting: train/labels/orange--15-_jpg.rf.5473d12e43b242691a40f3a2540f0a88.txt  \n",
            " extracting: train/labels/orange--15-_jpg.rf.70bad8e1198019ef3ed26c8a67f3f6fa.txt  \n",
            " extracting: train/labels/orange--15-_jpg.rf.7414cf5acbbe1de83ad1c783b00e446e.txt  \n",
            " extracting: train/labels/orange--15-_jpg.rf.849c83628dffbeb1cabc65ca547d9bd1.txt  \n",
            " extracting: train/labels/orange--15-_jpg.rf.ac98abb7964735f6c74567cb28789b4f.txt  \n",
            " extracting: train/labels/orange--16-_jpg.rf.13b02e9be8bcc1f7af0e7c252be3e369.txt  \n",
            " extracting: train/labels/orange--16-_jpg.rf.1f123092e31f0fb42e94a249f1316b55.txt  \n",
            " extracting: train/labels/orange--16-_jpg.rf.57e1b56cdd6e79cbd2a1cf4574525407.txt  \n",
            " extracting: train/labels/orange--16-_jpg.rf.6d2750a98fd2a0c9df4e9de1812c8cfd.txt  \n",
            " extracting: train/labels/orange--16-_jpg.rf.c55604e074664e5cda0e68ac16e1bcb9.txt  \n",
            " extracting: train/labels/orange--16-_jpg.rf.f93e67691c3825b81ead4a42c11ea577.txt  \n",
            " extracting: train/labels/orange--17-_jpg.rf.0595dae1259f6773a40ed93b30153d78.txt  \n",
            " extracting: train/labels/orange--17-_jpg.rf.238dcb69dbc9c58b9b0178fe822da5c2.txt  \n",
            " extracting: train/labels/orange--17-_jpg.rf.aa266867cdede09a70b5c82dd897097a.txt  \n",
            " extracting: train/labels/orange--17-_jpg.rf.aa53b2902f44b29aa4ee4809ddfc1fdc.txt  \n",
            " extracting: train/labels/orange--17-_jpg.rf.ea250898b215fa88f5bb698723f250a6.txt  \n",
            " extracting: train/labels/orange--17-_jpg.rf.eff75b11550ba5c7f44fd7201c709565.txt  \n",
            " extracting: train/labels/orange--18-_jpg.rf.0af3718a7b73c965a55588daa5b2807a.txt  \n",
            " extracting: train/labels/orange--18-_jpg.rf.3bd0aaca928a4a356dd3ef3d91ef0336.txt  \n",
            " extracting: train/labels/orange--18-_jpg.rf.4e6ac9603cacde86f9d37a4e1882d655.txt  \n",
            " extracting: train/labels/orange--18-_jpg.rf.5e880915c181a96250a62db9dd222de6.txt  \n",
            " extracting: train/labels/orange--18-_jpg.rf.79c1ef3a14442c4dd6364f588168cb69.txt  \n",
            " extracting: train/labels/orange--18-_jpg.rf.df47cf88752583d6bb04773c2120139e.txt  \n",
            " extracting: train/labels/orange--19-_jpg.rf.2b6739c8df2ff5f0691db0a661545b60.txt  \n",
            " extracting: train/labels/orange--19-_jpg.rf.d84dca440e7f040d30507b596b6fe6c2.txt  \n",
            " extracting: train/labels/orange--19-_jpg.rf.d850f94d0fd1ee7e4a4b5af6e521b6f6.txt  \n",
            " extracting: train/labels/orange--2-_jpg.rf.5e81a17ffdefc4e7c62244788f487110.txt  \n",
            " extracting: train/labels/orange--2-_jpg.rf.81bb4b79b1eaacbe9d16a9276ec19413.txt  \n",
            " extracting: train/labels/orange--2-_jpg.rf.90c03ba1d645093e1a53d5f69fd403f4.txt  \n",
            " extracting: train/labels/orange--2-_jpg.rf.973acca336ffb2af6fc1370ac32b77a9.txt  \n",
            " extracting: train/labels/orange--2-_jpg.rf.ddf83b91d4d3f0632c2b6d3a072ddf29.txt  \n",
            " extracting: train/labels/orange--2-_jpg.rf.f8e9e048b2fa77203aa28762c04daf02.txt  \n",
            " extracting: train/labels/orange--20-_jpg.rf.018a510da9f076e28a51ddf8a2fd8c79.txt  \n",
            " extracting: train/labels/orange--20-_jpg.rf.3ce90717d2c614b64177639b8b4505b4.txt  \n",
            " extracting: train/labels/orange--20-_jpg.rf.d67937dd74939358b988dc2363199e73.txt  \n",
            " extracting: train/labels/orange--21-_jpg.rf.3c5da394b32f5975cc942f4d63c3ac02.txt  \n",
            " extracting: train/labels/orange--21-_jpg.rf.47276a33ec1323d9969c8ce1571489ee.txt  \n",
            " extracting: train/labels/orange--21-_jpg.rf.517e1667f0d723ea9d0a4b55b8ead1a3.txt  \n",
            " extracting: train/labels/orange--21-_jpg.rf.573ebb72fae59b796aa7aca56eee31ff.txt  \n",
            " extracting: train/labels/orange--21-_jpg.rf.902a966709b37c0e379d0a0f2b1d9026.txt  \n",
            " extracting: train/labels/orange--21-_jpg.rf.b761e2496da63c7bee0695303089baf2.txt  \n",
            " extracting: train/labels/orange--24-_jpg.rf.1d229b599bdaf5da3ff963a84c6aa689.txt  \n",
            " extracting: train/labels/orange--24-_jpg.rf.309bab107b931f369d2f6d1851849302.txt  \n",
            " extracting: train/labels/orange--24-_jpg.rf.6b5d5baeb1521fc0029a6bf72a26f17b.txt  \n",
            " extracting: train/labels/orange--26-_jpg.rf.83d6844c7b47d4a14ba73f3410e980b0.txt  \n",
            " extracting: train/labels/orange--26-_jpg.rf.c9cb6f6e0e252911437b22f1f8796ab4.txt  \n",
            " extracting: train/labels/orange--26-_jpg.rf.e3b944a33a2ee13457c49f86bf7ce2e2.txt  \n",
            " extracting: train/labels/orange--27-_jpg.rf.39d6245e251deca8e17ab0ae53545cb2.txt  \n",
            " extracting: train/labels/orange--27-_jpg.rf.5f03dc4370f17379ba2d6da48035179f.txt  \n",
            " extracting: train/labels/orange--27-_jpg.rf.a4ebb9d9980ab3902d0a3521bef8562b.txt  \n",
            " extracting: train/labels/orange--28-_jpg.rf.1018e1b09a5266eca58104b3b22c124d.txt  \n",
            " extracting: train/labels/orange--28-_jpg.rf.489f2f6046b1495b7bd5c44135b2547f.txt  \n",
            " extracting: train/labels/orange--28-_jpg.rf.a383a9604aff5f244c11e73eb3f2f70b.txt  \n",
            " extracting: train/labels/orange--29-_jpg.rf.008dfbf16a8c1667444a4a796d95592d.txt  \n",
            " extracting: train/labels/orange--29-_jpg.rf.6e4411d419bdbbdef25a057bc706556a.txt  \n",
            " extracting: train/labels/orange--29-_jpg.rf.8df321d9621236e0d8985977dd539a32.txt  \n",
            " extracting: train/labels/orange--29-_jpg.rf.a4759142388224b04d2152d059826a22.txt  \n",
            " extracting: train/labels/orange--29-_jpg.rf.d644fbd8598da1544feeba5e9a111af8.txt  \n",
            " extracting: train/labels/orange--29-_jpg.rf.da5d6cf8e2f8fc50f866e482d7cc225f.txt  \n",
            " extracting: train/labels/orange--3-_jpg.rf.1761ae28467fb8e267346ae77e52099f.txt  \n",
            " extracting: train/labels/orange--3-_jpg.rf.27eda683d82f6eeb07da3f0dd810e02a.txt  \n",
            " extracting: train/labels/orange--3-_jpg.rf.324e116ba6b16e6485d106f4141f1327.txt  \n",
            " extracting: train/labels/orange--3-_jpg.rf.aa2e3c39f758b55d7218d320c55a678e.txt  \n",
            " extracting: train/labels/orange--3-_jpg.rf.aad702492cfa8ee9d58fccbd4555207c.txt  \n",
            " extracting: train/labels/orange--3-_jpg.rf.ae0b4ee52f38a5db6e9db79d4b7f6a8d.txt  \n",
            " extracting: train/labels/orange--31-_jpg.rf.104d7a5b636e4ff7db34e3b2122478ec.txt  \n",
            " extracting: train/labels/orange--31-_jpg.rf.31c27076a7dca013d748c599e92f4252.txt  \n",
            " extracting: train/labels/orange--31-_jpg.rf.603ab4af9497486252b55f8a9b377713.txt  \n",
            " extracting: train/labels/orange--31-_jpg.rf.ab8a0a81065740344af5a0d3a4a2bcdc.txt  \n",
            " extracting: train/labels/orange--31-_jpg.rf.df43621db810fad217cb0cf8cd7859b2.txt  \n",
            " extracting: train/labels/orange--31-_jpg.rf.f26e7042fc998b25c718863363dab751.txt  \n",
            " extracting: train/labels/orange--32-_jpg.rf.38dd4a010acdd2c1d5703387746f4d71.txt  \n",
            " extracting: train/labels/orange--32-_jpg.rf.53b6e1a45589ffaac7e7f1c3da38c010.txt  \n",
            " extracting: train/labels/orange--32-_jpg.rf.8e1c51b34fe01041fd9df9d2542c8df4.txt  \n",
            " extracting: train/labels/orange--32-_jpg.rf.d7ca60797297064b65254f720e6b502e.txt  \n",
            " extracting: train/labels/orange--32-_jpg.rf.dfd49d236152f029ccc28896235fd832.txt  \n",
            " extracting: train/labels/orange--32-_jpg.rf.efa125cee02bd8f54523fa051487ca72.txt  \n",
            " extracting: train/labels/orange--33-_jpg.rf.2ad2e2c99f9b632afbd3391c0b1ecbff.txt  \n",
            " extracting: train/labels/orange--33-_jpg.rf.70d5d800b34f47eb4a0b025d0aea325a.txt  \n",
            " extracting: train/labels/orange--33-_jpg.rf.c9368d23e46814a300b2ebf794defac7.txt  \n",
            " extracting: train/labels/orange--34-_jpg.rf.777333c7286f418160ad0b8437fff035.txt  \n",
            " extracting: train/labels/orange--34-_jpg.rf.df2f27ffa07667b4b7632b06cf65c8cb.txt  \n",
            " extracting: train/labels/orange--34-_jpg.rf.e77ba73d025fdbc3ad62a8952966e2e8.txt  \n",
            " extracting: train/labels/orange--35-_jpg.rf.02f60fd181bb8cc34f18c95538a772a5.txt  \n",
            " extracting: train/labels/orange--35-_jpg.rf.1457de52d0f27d587537a3782964d948.txt  \n",
            " extracting: train/labels/orange--35-_jpg.rf.18ea299b3518e3392a3640b85a3050fd.txt  \n",
            " extracting: train/labels/orange--35-_jpg.rf.7d46369fcb87bd7caeac1dca3560120c.txt  \n",
            " extracting: train/labels/orange--35-_jpg.rf.a6c466806581fd46207ddf5adf3dc1ff.txt  \n",
            " extracting: train/labels/orange--35-_jpg.rf.de448544e928e76df7f89e364e775b4e.txt  \n",
            " extracting: train/labels/orange--36-_jpg.rf.1853c4ca43f90d7169d878ec8f62777e.txt  \n",
            " extracting: train/labels/orange--36-_jpg.rf.5f554e5544d353141107f17b12a7c395.txt  \n",
            " extracting: train/labels/orange--36-_jpg.rf.86acdcee67377888669e3f48d4a9c2b7.txt  \n",
            " extracting: train/labels/orange--36-_jpg.rf.b64e5ad46189574ec7a2d714d5718ac4.txt  \n",
            " extracting: train/labels/orange--36-_jpg.rf.c485dd0a4e0562731da7de864efb5850.txt  \n",
            " extracting: train/labels/orange--36-_jpg.rf.c9a7a45138980decdf80945fd7a23b53.txt  \n",
            " extracting: train/labels/orange--38-_jpg.rf.2490eff6a68ac86135d649a0e7c0b336.txt  \n",
            " extracting: train/labels/orange--38-_jpg.rf.31f0a25f773908a4fd20ef7b45b86953.txt  \n",
            " extracting: train/labels/orange--38-_jpg.rf.9b7c9e4e0f319ed0902fcf933e424431.txt  \n",
            " extracting: train/labels/orange--38-_jpg.rf.d70c0872af8ed2ee9c4081ce06abc5a6.txt  \n",
            " extracting: train/labels/orange--38-_jpg.rf.f518c328a6f2c691c822e10b7a7f8d8a.txt  \n",
            " extracting: train/labels/orange--38-_jpg.rf.f80009091f52b5ae3a497727119e765c.txt  \n",
            " extracting: train/labels/orange--39-_jpg.rf.0f14757708696f48895d9f246d50123b.txt  \n",
            " extracting: train/labels/orange--39-_jpg.rf.4354094f7e0de6241700538df6c3d568.txt  \n",
            " extracting: train/labels/orange--39-_jpg.rf.6d47ad355f6fe6009e1e3f72b0e6ee27.txt  \n",
            " extracting: train/labels/orange--39-_jpg.rf.80a3db4afb925772169b58bea62b51de.txt  \n",
            " extracting: train/labels/orange--39-_jpg.rf.84211b528928b838d3acfcaa3b3bd23c.txt  \n",
            " extracting: train/labels/orange--39-_jpg.rf.de07740214426bd8d620600036390ba3.txt  \n",
            " extracting: train/labels/orange--40-_jpg.rf.12e5366fef3d7548b1187ef675570c67.txt  \n",
            " extracting: train/labels/orange--40-_jpg.rf.41baf9dceaddfe92823a7eb209fcd889.txt  \n",
            " extracting: train/labels/orange--40-_jpg.rf.86b12d833adb7aa0faa2e40ef30686cf.txt  \n",
            " extracting: train/labels/orange--40-_jpg.rf.8a3c56f87fedb0d347b7835655561c8b.txt  \n",
            " extracting: train/labels/orange--40-_jpg.rf.d517e66959c8cbbef1845a37833c24e0.txt  \n",
            " extracting: train/labels/orange--40-_jpg.rf.f9365e11e988ea99d4d47c04e3b68828.txt  \n",
            " extracting: train/labels/orange--41-_jpg.rf.5b16c3722a527f4900e05d62be568dc3.txt  \n",
            " extracting: train/labels/orange--41-_jpg.rf.6b85d94807d5d8647db743666ed84ce2.txt  \n",
            " extracting: train/labels/orange--41-_jpg.rf.e93f372d6b6c5d474d4ce5b1431b5279.txt  \n",
            " extracting: train/labels/orange--43-_jpg.rf.27cd4c8f707ac20a779f49286b52fb3b.txt  \n",
            " extracting: train/labels/orange--43-_jpg.rf.75bd7efdf6f2571a0370fa9fec650dd4.txt  \n",
            " extracting: train/labels/orange--43-_jpg.rf.fd3fba1eae2bec77159bd649c5a1b728.txt  \n",
            " extracting: train/labels/orange--48-_jpg.rf.4c3e53ba848b447a300d63a82e80a62d.txt  \n",
            " extracting: train/labels/orange--48-_jpg.rf.b6cd5776322d252a433aa601965cabb3.txt  \n",
            " extracting: train/labels/orange--48-_jpg.rf.d4d91d782b31e18650d1f6240e0c0c33.txt  \n",
            " extracting: train/labels/orange--49-_jpg.rf.801a906f9787ec1d263e1c94fa63d7ce.txt  \n",
            " extracting: train/labels/orange--49-_jpg.rf.9a0577a5ec78fa137e834bad2cb89638.txt  \n",
            " extracting: train/labels/orange--49-_jpg.rf.b2cb6b12f7da40ba06ea6087d247c5ff.txt  \n",
            " extracting: train/labels/orange--5-_jpg.rf.5a168d7408c9160fcc3f924820f44282.txt  \n",
            " extracting: train/labels/orange--5-_jpg.rf.dae08083e3ade454d7955ab141fd6f36.txt  \n",
            " extracting: train/labels/orange--5-_jpg.rf.e4a56002c0cc356cf9acc05acf0ad2e9.txt  \n",
            " extracting: train/labels/orange--50-_jpg.rf.23c1f8619ecd887e7f821f70d0f7883b.txt  \n",
            " extracting: train/labels/orange--50-_jpg.rf.c2c4f4fd74e9667f3cb6ec2b25249594.txt  \n",
            " extracting: train/labels/orange--50-_jpg.rf.fc08cea7a3f8aca0e5c8da254afee5d2.txt  \n",
            " extracting: train/labels/orange--51-_jpg.rf.1ea28bd470b811b593ef5b78a06bed3b.txt  \n",
            " extracting: train/labels/orange--51-_jpg.rf.4d21504b97b8ced23ddac47ec2c80085.txt  \n",
            " extracting: train/labels/orange--51-_jpg.rf.5ab4ab36e8f3ff7b83d3c90981033eeb.txt  \n",
            " extracting: train/labels/orange--52-_jpg.rf.2ae1400ebbfa49ccbf417a4dc8a54454.txt  \n",
            " extracting: train/labels/orange--52-_jpg.rf.48366219ca6f8b1c8af53539b11752de.txt  \n",
            " extracting: train/labels/orange--52-_jpg.rf.6a995af68a394a0041945fd26cba5b56.txt  \n",
            " extracting: train/labels/orange--53-_jpg.rf.3269d4cde1581d7bd3ef052c63fcfce1.txt  \n",
            " extracting: train/labels/orange--53-_jpg.rf.51b0c3d0a4fb67b25a7d1b2367eaebe9.txt  \n",
            " extracting: train/labels/orange--53-_jpg.rf.8ae1db4e0d0cee458efcf10ef4b21eca.txt  \n",
            " extracting: train/labels/orange--54-_jpg.rf.4925f3d34bad59d64782cfdb30461133.txt  \n",
            " extracting: train/labels/orange--54-_jpg.rf.5efede6a4864258d72940ee77f91ae8e.txt  \n",
            " extracting: train/labels/orange--54-_jpg.rf.9b29164dd54bccf33becef4c7c4ef771.txt  \n",
            " extracting: train/labels/orange--55-_jpg.rf.2e14a24002401776ec91c93ef7fd65c6.txt  \n",
            " extracting: train/labels/orange--55-_jpg.rf.38744a89c42d33c8b7d4cdacaa0dca6d.txt  \n",
            " extracting: train/labels/orange--55-_jpg.rf.eec29f062e0c70dce3c2a23efb19ff5e.txt  \n",
            " extracting: train/labels/orange--56-_jpg.rf.0f848feff70f3a64a1719e0d0e17e1db.txt  \n",
            " extracting: train/labels/orange--56-_jpg.rf.138c5e064ced263cd219d834b24e3205.txt  \n",
            " extracting: train/labels/orange--56-_jpg.rf.5744450a74b76f2d0eb6dac85908a647.txt  \n",
            " extracting: train/labels/orange--57-_jpg.rf.c50c00f2cbb7af2a43e49929504b8d55.txt  \n",
            " extracting: train/labels/orange--57-_jpg.rf.c7182a649c6dfce706a9948db2c98e6c.txt  \n",
            " extracting: train/labels/orange--57-_jpg.rf.f0b2b3ccbcfbbf25a3afa9ce1a362420.txt  \n",
            " extracting: train/labels/orange--6-_jpg.rf.2003a4f9e34a14cc39a81aa16e463265.txt  \n",
            " extracting: train/labels/orange--6-_jpg.rf.5c70d1902fdaf60bac98079120ce5276.txt  \n",
            " extracting: train/labels/orange--6-_jpg.rf.68b71a2dbff7bbe806ffcdf711a0a575.txt  \n",
            " extracting: train/labels/orange--6-_jpg.rf.8bd792203808a4abaa2d9370aaefddfe.txt  \n",
            " extracting: train/labels/orange--6-_jpg.rf.a04053d06cf76f8db63a135d546e0af3.txt  \n",
            " extracting: train/labels/orange--6-_jpg.rf.b0b20cb17b6c40db3887997f1a60ea5d.txt  \n",
            " extracting: train/labels/orange--60-_jpg.rf.7be4c4a873e04ae567aefcfd03b2c45d.txt  \n",
            " extracting: train/labels/orange--60-_jpg.rf.d362d28a66f38d356c3635b15440455d.txt  \n",
            " extracting: train/labels/orange--60-_jpg.rf.d614593544141f08847d1603a4385322.txt  \n",
            " extracting: train/labels/orange--61-_jpg.rf.347cd785e65a38c1be5a9a483dc349c4.txt  \n",
            " extracting: train/labels/orange--61-_jpg.rf.9b7a00ff22768e70199b32a59dc797b5.txt  \n",
            " extracting: train/labels/orange--61-_jpg.rf.bcee6f46f2b488473d184ddc3d641d6c.txt  \n",
            " extracting: train/labels/orange--62-_jpg.rf.5360f076d8947f50221c6fc18513e554.txt  \n",
            " extracting: train/labels/orange--62-_jpg.rf.9e8a3f9884de947bb78e79e542b3ec55.txt  \n",
            " extracting: train/labels/orange--62-_jpg.rf.b10722c634910402afc26fbecf7dab0e.txt  \n",
            " extracting: train/labels/orange--63-_jpg.rf.1acf4d7c5195d1e7ec5ff51dacbe08d3.txt  \n",
            " extracting: train/labels/orange--63-_jpg.rf.cb589b6d8aaac4785eb8743d55e688c9.txt  \n",
            " extracting: train/labels/orange--63-_jpg.rf.fe9d507f6cb384149465f59571a11f16.txt  \n",
            " extracting: train/labels/orange--65-_jpg.rf.3c088f4c48b9a6c1424799910fe41484.txt  \n",
            " extracting: train/labels/orange--65-_jpg.rf.c5940f28ec4e49a8a9f713cb90d9297a.txt  \n",
            " extracting: train/labels/orange--65-_jpg.rf.d2877b921ae8d23823e982b0029e8d83.txt  \n",
            " extracting: train/labels/orange--66-_jpg.rf.1c84081bf500ec12ad01467d54f2f44d.txt  \n",
            " extracting: train/labels/orange--66-_jpg.rf.68cd5ae53b8268c3608d690bb7f24f3e.txt  \n",
            " extracting: train/labels/orange--66-_jpg.rf.d0ae536f45219084dfbaca1d135203c8.txt  \n",
            " extracting: train/labels/orange--67-_jpg.rf.265b90a68929353ce5719ad16d54d7a5.txt  \n",
            " extracting: train/labels/orange--67-_jpg.rf.7825d8843debf2462a024e16576c2fe6.txt  \n",
            " extracting: train/labels/orange--67-_jpg.rf.bf1d9e3e569e026b442d2fcd15e464e4.txt  \n",
            " extracting: train/labels/orange--68-_jpg.rf.220a7be9f4a6ab2ab04871314a2eae2f.txt  \n",
            " extracting: train/labels/orange--68-_jpg.rf.5bb94cf907b824b95a16a1d2dd33924b.txt  \n",
            " extracting: train/labels/orange--68-_jpg.rf.e6e53749a987b44ba863f24940161b39.txt  \n",
            " extracting: train/labels/orange--69-_jpg.rf.2f56325e0ecc2152cbd46e1da72071f2.txt  \n",
            " extracting: train/labels/orange--69-_jpg.rf.3d39e8cb16dfbdf23859731e5e52146c.txt  \n",
            " extracting: train/labels/orange--69-_jpg.rf.bcb67d8719584d54b5d88d866acf6ed6.txt  \n",
            " extracting: train/labels/orange--7-_jpg.rf.5230bd2b911644e025242dc7b0dcb268.txt  \n",
            " extracting: train/labels/orange--7-_jpg.rf.6fbaf902078ece0386839d255dba53a6.txt  \n",
            " extracting: train/labels/orange--7-_jpg.rf.92336bf7530de0fae2c299f763e0b87f.txt  \n",
            " extracting: train/labels/orange--7-_jpg.rf.cf606b0236a9a80e1bf5bdf7b546767b.txt  \n",
            " extracting: train/labels/orange--7-_jpg.rf.d78dfbc9d3292730a0de3d82db5800d5.txt  \n",
            " extracting: train/labels/orange--7-_jpg.rf.db6aea3ca9190239e70ab8c31b5fa4fc.txt  \n",
            " extracting: train/labels/orange--70-_jpg.rf.02ad94e24d2ccb492df48b9ed10aa853.txt  \n",
            " extracting: train/labels/orange--70-_jpg.rf.5970c94ef3685b3d31b8105b98aef4bc.txt  \n",
            " extracting: train/labels/orange--70-_jpg.rf.ad6b27fde8c52f34cd8ca8691981112c.txt  \n",
            " extracting: train/labels/orange--71-_jpg.rf.2414e0634b259dabf1ca4c03689328f4.txt  \n",
            " extracting: train/labels/orange--71-_jpg.rf.710b5c50280a57285a04f52474b4f94f.txt  \n",
            " extracting: train/labels/orange--71-_jpg.rf.7bc129c0012d23dc17b7b3bb651977ae.txt  \n",
            " extracting: train/labels/orange--73-_jpg.rf.4334a7473b67a0a53b61e451984b242c.txt  \n",
            " extracting: train/labels/orange--73-_jpg.rf.cb23ce22800451fcd3590c328419078b.txt  \n",
            " extracting: train/labels/orange--73-_jpg.rf.e4ef0411d10ba13d23d3e2afc843515f.txt  \n",
            " extracting: train/labels/orange--75-_jpg.rf.24a106fbb057115b4297e48a44f762ac.txt  \n",
            " extracting: train/labels/orange--75-_jpg.rf.3deebaff4f0faae897c3468b785e46cd.txt  \n",
            " extracting: train/labels/orange--75-_jpg.rf.f9928b10a330a800d708aa787f39d262.txt  \n",
            " extracting: train/labels/orange--76-_jpg.rf.2963bac47ca75c1a39b56c3ea797723e.txt  \n",
            " extracting: train/labels/orange--76-_jpg.rf.bdae7bd457bed168422b2076ff68460b.txt  \n",
            " extracting: train/labels/orange--76-_jpg.rf.c3e1587d6903c5c01f8d44b78a72c2cd.txt  \n",
            " extracting: train/labels/orange--77-_jpg.rf.17d048017d5704ea3e8a867e38521b17.txt  \n",
            " extracting: train/labels/orange--77-_jpg.rf.cb114fc4297720affb5ca2aa2be39978.txt  \n",
            " extracting: train/labels/orange--77-_jpg.rf.f62530c125f65177b8d10ef240c5b98d.txt  \n",
            " extracting: train/labels/orange--78-_jpg.rf.3dd82c25311ad255afe280956d558fb5.txt  \n",
            " extracting: train/labels/orange--78-_jpg.rf.b603a2552a7480c622fff239e9d9cacb.txt  \n",
            " extracting: train/labels/orange--78-_jpg.rf.e8d8b94d5ee722e3a88887c0370b6981.txt  \n",
            " extracting: train/labels/orange--8-_jpg.rf.455f2529eea266bacacf23e38a57fed9.txt  \n",
            " extracting: train/labels/orange--8-_jpg.rf.46f8fa26cee8974fa782b1af233775fc.txt  \n",
            " extracting: train/labels/orange--8-_jpg.rf.76eb4e9668364d29053e306325660dff.txt  \n",
            " extracting: train/labels/orange--8-_jpg.rf.7b8f344da214f9186da77d681fda5c38.txt  \n",
            " extracting: train/labels/orange--8-_jpg.rf.ac49d90de06b76af1a0d8f936194ddd3.txt  \n",
            " extracting: train/labels/orange--8-_jpg.rf.d24bdfa66b8f35baec385ba4e6da54ce.txt  \n",
            " extracting: train/labels/orange--80-_jpg.rf.706ebdc1ded206cb42ef10a0f1226c8e.txt  \n",
            " extracting: train/labels/orange--80-_jpg.rf.a29a645f24ff782b356ed9acc448db5f.txt  \n",
            " extracting: train/labels/orange--80-_jpg.rf.b9e8375b6be70cbf78a773019ae26118.txt  \n",
            " extracting: train/labels/orange--81-_jpg.rf.545c2ab8dcf576bc3e000dc198ec9b41.txt  \n",
            " extracting: train/labels/orange--81-_jpg.rf.a296995f00f2f2feec0c2565043250b3.txt  \n",
            " extracting: train/labels/orange--81-_jpg.rf.f055451423f8a31403de6e95d5ee1714.txt  \n",
            " extracting: train/labels/orange--82-_jpg.rf.0e196aa5581d87fe5060d358d16f3881.txt  \n",
            " extracting: train/labels/orange--82-_jpg.rf.1ec8237a37c5c3b603d2fd6a97ee421c.txt  \n",
            " extracting: train/labels/orange--82-_jpg.rf.d312fadf794f90d06eb2010ceb6d1a82.txt  \n",
            " extracting: train/labels/orange--83-_jpg.rf.67a20283d24d5bda2a98fb3b4fd58cb8.txt  \n",
            " extracting: train/labels/orange--83-_jpg.rf.d66c7ebc4adec4298465b7e2653e0b54.txt  \n",
            " extracting: train/labels/orange--83-_jpg.rf.eca24b41c20e6784942ab93910489cca.txt  \n",
            " extracting: train/labels/orange--84-_jpg.rf.158311a875af8d99aeecbdce0ac65577.txt  \n",
            " extracting: train/labels/orange--84-_jpg.rf.206eac419a99cbfc7b1743d319cf0f0f.txt  \n",
            " extracting: train/labels/orange--84-_jpg.rf.606dc5275fc217e27c82365866b62d01.txt  \n",
            " extracting: train/labels/orange--85-_jpg.rf.330c9093282b909caeedb8f00732d432.txt  \n",
            " extracting: train/labels/orange--85-_jpg.rf.3a928e3d56bdcc96ec95d7f5021aa940.txt  \n",
            " extracting: train/labels/orange--85-_jpg.rf.4736565d6594dc8746f74dccd63c9141.txt  \n",
            " extracting: train/labels/orange--87-_jpg.rf.58b0dc58617bbf5cdbc01b61ebf909bf.txt  \n",
            " extracting: train/labels/orange--87-_jpg.rf.9f112ba8e1135d445209933c57199c18.txt  \n",
            " extracting: train/labels/orange--87-_jpg.rf.bfb36c65f3512d54ed3ac93ba2a05b59.txt  \n",
            " extracting: train/labels/orange--88-_jpg.rf.4df750dd072818826ad61641b790183a.txt  \n",
            " extracting: train/labels/orange--88-_jpg.rf.59f8662bebd2488101c5e2d860bcafbf.txt  \n",
            " extracting: train/labels/orange--88-_jpg.rf.be86d4ec5127d4a9a384f3ac7c0e6bff.txt  \n",
            " extracting: train/labels/orange--9-_jpg.rf.4c1ebbcad106c6b0cfc321cdaa9107f7.txt  \n",
            " extracting: train/labels/orange--9-_jpg.rf.70f5970286ef995af226fc5f1c983b2f.txt  \n",
            " extracting: train/labels/orange--9-_jpg.rf.77fcec44a2c9ec75730873f21de0317a.txt  \n",
            " extracting: train/labels/orange--9-_jpg.rf.a0095188657c0f5132553297e60210a3.txt  \n",
            " extracting: train/labels/orange--9-_jpg.rf.af690cf3896657ab934458253b6e180b.txt  \n",
            " extracting: train/labels/orange--9-_jpg.rf.c9c44c4c248d123902100e2e98b410bb.txt  \n",
            " extracting: train/labels/orange--90-_jpg.rf.a7aa473aff9346908ee351cc8d88a75a.txt  \n",
            " extracting: train/labels/orange--90-_jpg.rf.cb05791d9b80d2128a48ff59145ccbfa.txt  \n",
            " extracting: train/labels/orange--90-_jpg.rf.f57d3670f319fada49dadc9a75e3376b.txt  \n",
            " extracting: train/labels/orange--91-_jpg.rf.5f4b6bb2911519dc2e13931926c9ecfa.txt  \n",
            " extracting: train/labels/orange--91-_jpg.rf.5ff4e4c51e022943757df8d4c623b908.txt  \n",
            " extracting: train/labels/orange--91-_jpg.rf.f72274bf84cfa5c225b045009a388dc5.txt  \n",
            " extracting: train/labels/orange--92-_jpg.rf.4200d18f01ad2ccd4e7c355a52613d84.txt  \n",
            " extracting: train/labels/orange--92-_jpg.rf.c9ef5d1f740ad3ab25489ef7bc7380f9.txt  \n",
            " extracting: train/labels/orange--92-_jpg.rf.d01356163935f93c75c41d9f12f45862.txt  \n",
            " extracting: train/labels/orange--96-_jpg.rf.1a80493ae7a243861f97d34f054ea723.txt  \n",
            " extracting: train/labels/orange--96-_jpg.rf.7fd9bc5fc46f693706ce5dd0df124d0a.txt  \n",
            " extracting: train/labels/orange--96-_jpg.rf.9e3d5497dba109326d9e857f85c49fda.txt  \n",
            " extracting: train/labels/orange--97-_jpg.rf.0638c2aaf2373f1be109c3f682bd227c.txt  \n",
            " extracting: train/labels/orange--97-_jpg.rf.948618f59c22fdd5fe6d9a417ff76f9c.txt  \n",
            " extracting: train/labels/orange--97-_jpg.rf.ec492d7efe7dd351a468f49573c32b3f.txt  \n",
            " extracting: train/labels/orange--98-_jpg.rf.3beb13a1e99c291f70ba31012df90b86.txt  \n",
            " extracting: train/labels/orange--98-_jpg.rf.b7edca96ca5ff608e6465846ababa5d2.txt  \n",
            " extracting: train/labels/orange--98-_jpg.rf.df5cb839f789f423bf9c8b4287d7f36c.txt  \n",
            " extracting: train/labels/orange--99-_jpg.rf.41355e83536d11114bec1ba8598313f0.txt  \n",
            " extracting: train/labels/orange--99-_jpg.rf.e29a8accee0c49e610461ce995883b4a.txt  \n",
            " extracting: train/labels/orange--99-_jpg.rf.eec3b0103e81abc13cf697faa7278548.txt  \n",
            "   creating: valid/\n",
            "   creating: valid/images/\n",
            " extracting: valid/images/orange--10-_jpg.rf.5f2d9beeded2c41e9a21f4122591b448.jpg  \n",
            " extracting: valid/images/orange--108-_jpg.rf.b6f2e7c823e0c814ca82324416daf427.jpg  \n",
            " extracting: valid/images/orange--109-_jpg.rf.14f2e0623a767c17f6348e6f842bb2f4.jpg  \n",
            " extracting: valid/images/orange--110-_jpg.rf.7b300e5479e7f0b983c12a10439bffc9.jpg  \n",
            " extracting: valid/images/orange--112-_jpg.rf.9a04dd8b4347cf4764af769684dc16f2.jpg  \n",
            " extracting: valid/images/orange--118-_jpg.rf.a84669f7eea59c6bee32b4a84b645df5.jpg  \n",
            " extracting: valid/images/orange--13-_jpg.rf.eff34828135e6de18b5afdff73ad8fd3.jpg  \n",
            " extracting: valid/images/orange--19-_jpg.rf.31b7be4fc5a3b616b89ec774d669fcfa.jpg  \n",
            " extracting: valid/images/orange--20-_jpg.rf.87e0e6f9a064e506521a713d7c681864.jpg  \n",
            " extracting: valid/images/orange--22-_jpg.rf.0f98be3964d06c0b115b1265808aaa72.jpg  \n",
            " extracting: valid/images/orange--23-_jpg.rf.35d61f935dd1f66bc4390126e24ea623.jpg  \n",
            " extracting: valid/images/orange--24-_jpg.rf.df4ba12ae83c4813dd7c37dff64b48bb.jpg  \n",
            " extracting: valid/images/orange--25-_jpg.rf.d5d8f903ff19aea34c65533c1443ae04.jpg  \n",
            " extracting: valid/images/orange--28-_jpg.rf.db450989fd164d9d2eedba3613ce1e25.jpg  \n",
            " extracting: valid/images/orange--30-_jpg.rf.b54e1c0ab6d7925d4aaa30a6a1d70487.jpg  \n",
            " extracting: valid/images/orange--30-_jpg.rf.e41e04221e08f7cd8d4d86a8516382c8.jpg  \n",
            " extracting: valid/images/orange--37-_jpg.rf.40468f8954815c59cf62330a9d4c85fb.jpg  \n",
            " extracting: valid/images/orange--37-_jpg.rf.d40182b5e5e4ec581f6fa21097b926b8.jpg  \n",
            " extracting: valid/images/orange--4-_jpg.rf.8032d772f6bebba8607f13ec90c015d3.jpg  \n",
            " extracting: valid/images/orange--42-_jpg.rf.595a92b5b304e47c2844e525f41bcc36.jpg  \n",
            " extracting: valid/images/orange--44-_jpg.rf.c010b0d4d0d2b9ee5bb971be80133107.jpg  \n",
            " extracting: valid/images/orange--46-_jpg.rf.ed648eb5d8fe20d0f67f4f9ce6ceac4c.jpg  \n",
            " extracting: valid/images/orange--47-_jpg.rf.fefd755766e398fcfe9bf9aca2e456e2.jpg  \n",
            " extracting: valid/images/orange--59-_jpg.rf.088f3953ad862115a2de7400a01bc9fe.jpg  \n",
            " extracting: valid/images/orange--64-_jpg.rf.b48ef37a8503e9ba7016e4f0c9dc068e.jpg  \n",
            " extracting: valid/images/orange--72-_jpg.rf.d57fa42b9c1cc298bde8fc2e6370df23.jpg  \n",
            " extracting: valid/images/orange--74-_jpg.rf.1f0e9b6f9325355263ee7a5878dcb85e.jpg  \n",
            " extracting: valid/images/orange--79-_jpg.rf.d309e444b35f504b12fc400373c1d8ef.jpg  \n",
            " extracting: valid/images/orange--86-_jpg.rf.0175e32fce385a12cabe740a03be207c.jpg  \n",
            " extracting: valid/images/orange--89-_jpg.rf.13005a68e08b479d1287802ffd90c299.jpg  \n",
            " extracting: valid/images/orange--94-_jpg.rf.5f53d1139432d07d75ac843e63f474d7.jpg  \n",
            " extracting: valid/images/orange--95-_jpg.rf.5a992d7c72470c0f44c52402d7462d91.jpg  \n",
            "   creating: valid/labels/\n",
            " extracting: valid/labels/orange--10-_jpg.rf.5f2d9beeded2c41e9a21f4122591b448.txt  \n",
            " extracting: valid/labels/orange--108-_jpg.rf.b6f2e7c823e0c814ca82324416daf427.txt  \n",
            " extracting: valid/labels/orange--109-_jpg.rf.14f2e0623a767c17f6348e6f842bb2f4.txt  \n",
            " extracting: valid/labels/orange--110-_jpg.rf.7b300e5479e7f0b983c12a10439bffc9.txt  \n",
            " extracting: valid/labels/orange--112-_jpg.rf.9a04dd8b4347cf4764af769684dc16f2.txt  \n",
            " extracting: valid/labels/orange--118-_jpg.rf.a84669f7eea59c6bee32b4a84b645df5.txt  \n",
            " extracting: valid/labels/orange--13-_jpg.rf.eff34828135e6de18b5afdff73ad8fd3.txt  \n",
            " extracting: valid/labels/orange--19-_jpg.rf.31b7be4fc5a3b616b89ec774d669fcfa.txt  \n",
            " extracting: valid/labels/orange--20-_jpg.rf.87e0e6f9a064e506521a713d7c681864.txt  \n",
            " extracting: valid/labels/orange--22-_jpg.rf.0f98be3964d06c0b115b1265808aaa72.txt  \n",
            " extracting: valid/labels/orange--23-_jpg.rf.35d61f935dd1f66bc4390126e24ea623.txt  \n",
            " extracting: valid/labels/orange--24-_jpg.rf.df4ba12ae83c4813dd7c37dff64b48bb.txt  \n",
            " extracting: valid/labels/orange--25-_jpg.rf.d5d8f903ff19aea34c65533c1443ae04.txt  \n",
            " extracting: valid/labels/orange--28-_jpg.rf.db450989fd164d9d2eedba3613ce1e25.txt  \n",
            " extracting: valid/labels/orange--30-_jpg.rf.b54e1c0ab6d7925d4aaa30a6a1d70487.txt  \n",
            " extracting: valid/labels/orange--30-_jpg.rf.e41e04221e08f7cd8d4d86a8516382c8.txt  \n",
            " extracting: valid/labels/orange--37-_jpg.rf.40468f8954815c59cf62330a9d4c85fb.txt  \n",
            " extracting: valid/labels/orange--37-_jpg.rf.d40182b5e5e4ec581f6fa21097b926b8.txt  \n",
            " extracting: valid/labels/orange--4-_jpg.rf.8032d772f6bebba8607f13ec90c015d3.txt  \n",
            " extracting: valid/labels/orange--42-_jpg.rf.595a92b5b304e47c2844e525f41bcc36.txt  \n",
            " extracting: valid/labels/orange--44-_jpg.rf.c010b0d4d0d2b9ee5bb971be80133107.txt  \n",
            " extracting: valid/labels/orange--46-_jpg.rf.ed648eb5d8fe20d0f67f4f9ce6ceac4c.txt  \n",
            " extracting: valid/labels/orange--47-_jpg.rf.fefd755766e398fcfe9bf9aca2e456e2.txt  \n",
            " extracting: valid/labels/orange--59-_jpg.rf.088f3953ad862115a2de7400a01bc9fe.txt  \n",
            " extracting: valid/labels/orange--64-_jpg.rf.b48ef37a8503e9ba7016e4f0c9dc068e.txt  \n",
            " extracting: valid/labels/orange--72-_jpg.rf.d57fa42b9c1cc298bde8fc2e6370df23.txt  \n",
            " extracting: valid/labels/orange--74-_jpg.rf.1f0e9b6f9325355263ee7a5878dcb85e.txt  \n",
            " extracting: valid/labels/orange--79-_jpg.rf.d309e444b35f504b12fc400373c1d8ef.txt  \n",
            " extracting: valid/labels/orange--86-_jpg.rf.0175e32fce385a12cabe740a03be207c.txt  \n",
            " extracting: valid/labels/orange--89-_jpg.rf.13005a68e08b479d1287802ffd90c299.txt  \n",
            " extracting: valid/labels/orange--94-_jpg.rf.5f53d1139432d07d75ac843e63f474d7.txt  \n",
            " extracting: valid/labels/orange--95-_jpg.rf.5a992d7c72470c0f44c52402d7462d91.txt  \n"
          ]
        }
      ]
    },
    {
      "cell_type": "code",
      "execution_count": null,
      "metadata": {
        "colab": {
          "base_uri": "https://localhost:8080/"
        },
        "id": "TQswR9gUxmDL",
        "outputId": "8f85938e-8e01-487c-a548-62ec6674fcd2"
      },
      "outputs": [
        {
          "output_type": "stream",
          "name": "stdout",
          "text": [
            "\u001b[2K     \u001b[90m━━━━━━━━━━━━━━━━━━━━━━━━━━━━━━━━━━━━━━━━\u001b[0m \u001b[32m41.3/41.3 kB\u001b[0m \u001b[31m3.0 MB/s\u001b[0m eta \u001b[36m0:00:00\u001b[0m\n",
            "\u001b[2K   \u001b[90m━━━━━━━━━━━━━━━━━━━━━━━━━━━━━━━━━━━━━━━━\u001b[0m \u001b[32m869.0/869.0 kB\u001b[0m \u001b[31m50.4 MB/s\u001b[0m eta \u001b[36m0:00:00\u001b[0m\n",
            "\u001b[?25h"
          ]
        }
      ],
      "source": [
        "! pip install ultralytics -q"
      ]
    },
    {
      "cell_type": "code",
      "source": [
        "from ultralytics import YOLO"
      ],
      "metadata": {
        "id": "tH6rs92yyDiD"
      },
      "execution_count": null,
      "outputs": []
    },
    {
      "cell_type": "code",
      "source": [
        "# Load a model\n",
        "model = YOLO(\"yolov9c.pt\")  # load a pretrained model (recommended for training)\n",
        "\n",
        "# Train the model\n",
        "results = model.train(\n",
        "    data=\"/content/data.yaml\",\n",
        "    epochs=200,  # Start with fewer epochs for testing\n",
        "    imgsz=224,  # Increase image size\n",
        "    batch=16,   # Reduce batch size if memory is an issue\n",
        "    verbose=True  # This will give you more detailed output\n",
        ")"
      ],
      "metadata": {
        "colab": {
          "base_uri": "https://localhost:8080/"
        },
        "id": "ZZrx1CUAyFjw",
        "outputId": "94377ca6-fe9d-4470-cf18-48cde000aed8"
      },
      "execution_count": null,
      "outputs": [
        {
          "output_type": "stream",
          "name": "stdout",
          "text": [
            "Downloading https://github.com/ultralytics/assets/releases/download/v8.2.0/yolov9c.pt to 'yolov9c.pt'...\n"
          ]
        },
        {
          "output_type": "stream",
          "name": "stderr",
          "text": [
            "100%|██████████| 49.4M/49.4M [00:01<00:00, 49.3MB/s]\n"
          ]
        },
        {
          "output_type": "stream",
          "name": "stdout",
          "text": [
            "Ultralytics YOLOv8.2.78 🚀 Python-3.10.12 torch-2.3.1+cu121 CUDA:0 (Tesla T4, 15102MiB)\n",
            "\u001b[34m\u001b[1mengine/trainer: \u001b[0mtask=detect, mode=train, model=yolov9c.pt, data=/content/data.yaml, epochs=200, time=None, patience=100, batch=16, imgsz=224, save=True, save_period=-1, cache=False, device=None, workers=8, project=None, name=train, exist_ok=False, pretrained=True, optimizer=auto, verbose=True, seed=0, deterministic=True, single_cls=False, rect=False, cos_lr=False, close_mosaic=10, resume=False, amp=True, fraction=1.0, profile=False, freeze=None, multi_scale=False, overlap_mask=True, mask_ratio=4, dropout=0.0, val=True, split=val, save_json=False, save_hybrid=False, conf=None, iou=0.7, max_det=300, half=False, dnn=False, plots=True, source=None, vid_stride=1, stream_buffer=False, visualize=False, augment=False, agnostic_nms=False, classes=None, retina_masks=False, embed=None, show=False, save_frames=False, save_txt=False, save_conf=False, save_crop=False, show_labels=True, show_conf=True, show_boxes=True, line_width=None, format=torchscript, keras=False, optimize=False, int8=False, dynamic=False, simplify=False, opset=None, workspace=4, nms=False, lr0=0.01, lrf=0.01, momentum=0.937, weight_decay=0.0005, warmup_epochs=3.0, warmup_momentum=0.8, warmup_bias_lr=0.1, box=7.5, cls=0.5, dfl=1.5, pose=12.0, kobj=1.0, label_smoothing=0.0, nbs=64, hsv_h=0.015, hsv_s=0.7, hsv_v=0.4, degrees=0.0, translate=0.1, scale=0.5, shear=0.0, perspective=0.0, flipud=0.0, fliplr=0.5, bgr=0.0, mosaic=1.0, mixup=0.0, copy_paste=0.0, auto_augment=randaugment, erasing=0.4, crop_fraction=1.0, cfg=None, tracker=botsort.yaml, save_dir=runs/detect/train\n",
            "Overriding model.yaml nc=80 with nc=1\n",
            "\n",
            "                   from  n    params  module                                       arguments                     \n",
            "  0                  -1  1      1856  ultralytics.nn.modules.conv.Conv             [3, 64, 3, 2]                 \n",
            "  1                  -1  1     73984  ultralytics.nn.modules.conv.Conv             [64, 128, 3, 2]               \n",
            "  2                  -1  1    212864  ultralytics.nn.modules.block.RepNCSPELAN4    [128, 256, 128, 64, 1]        \n",
            "  3                  -1  1    164352  ultralytics.nn.modules.block.ADown           [256, 256]                    \n",
            "  4                  -1  1    847616  ultralytics.nn.modules.block.RepNCSPELAN4    [256, 512, 256, 128, 1]       \n",
            "  5                  -1  1    656384  ultralytics.nn.modules.block.ADown           [512, 512]                    \n",
            "  6                  -1  1   2857472  ultralytics.nn.modules.block.RepNCSPELAN4    [512, 512, 512, 256, 1]       \n",
            "  7                  -1  1    656384  ultralytics.nn.modules.block.ADown           [512, 512]                    \n",
            "  8                  -1  1   2857472  ultralytics.nn.modules.block.RepNCSPELAN4    [512, 512, 512, 256, 1]       \n",
            "  9                  -1  1    656896  ultralytics.nn.modules.block.SPPELAN         [512, 512, 256]               \n",
            " 10                  -1  1         0  torch.nn.modules.upsampling.Upsample         [None, 2, 'nearest']          \n",
            " 11             [-1, 6]  1         0  ultralytics.nn.modules.conv.Concat           [1]                           \n",
            " 12                  -1  1   3119616  ultralytics.nn.modules.block.RepNCSPELAN4    [1024, 512, 512, 256, 1]      \n",
            " 13                  -1  1         0  torch.nn.modules.upsampling.Upsample         [None, 2, 'nearest']          \n",
            " 14             [-1, 4]  1         0  ultralytics.nn.modules.conv.Concat           [1]                           \n",
            " 15                  -1  1    912640  ultralytics.nn.modules.block.RepNCSPELAN4    [1024, 256, 256, 128, 1]      \n",
            " 16                  -1  1    164352  ultralytics.nn.modules.block.ADown           [256, 256]                    \n",
            " 17            [-1, 12]  1         0  ultralytics.nn.modules.conv.Concat           [1]                           \n",
            " 18                  -1  1   2988544  ultralytics.nn.modules.block.RepNCSPELAN4    [768, 512, 512, 256, 1]       \n",
            " 19                  -1  1    656384  ultralytics.nn.modules.block.ADown           [512, 512]                    \n",
            " 20             [-1, 9]  1         0  ultralytics.nn.modules.conv.Concat           [1]                           \n",
            " 21                  -1  1   3119616  ultralytics.nn.modules.block.RepNCSPELAN4    [1024, 512, 512, 256, 1]      \n",
            " 22        [15, 18, 21]  1   5583571  ultralytics.nn.modules.head.Detect           [1, [256, 512, 512]]          \n",
            "YOLOv9c summary: 618 layers, 25,530,003 parameters, 25,529,987 gradients, 103.7 GFLOPs\n",
            "\n",
            "Transferred 931/937 items from pretrained weights\n",
            "\u001b[34m\u001b[1mTensorBoard: \u001b[0mStart with 'tensorboard --logdir runs/detect/train', view at http://localhost:6006/\n",
            "Freezing layer 'model.22.dfl.conv.weight'\n",
            "\u001b[34m\u001b[1mAMP: \u001b[0mrunning Automatic Mixed Precision (AMP) checks with YOLOv8n...\n",
            "\u001b[34m\u001b[1mAMP: \u001b[0mchecks passed ✅\n"
          ]
        },
        {
          "output_type": "stream",
          "name": "stderr",
          "text": [
            "\u001b[34m\u001b[1mtrain: \u001b[0mScanning /content/train/labels.cache... 336 images, 0 backgrounds, 0 corrupt: 100%|██████████| 336/336 [00:00<?, ?it/s]"
          ]
        },
        {
          "output_type": "stream",
          "name": "stdout",
          "text": [
            "\u001b[34m\u001b[1malbumentations: \u001b[0mBlur(p=0.01, blur_limit=(3, 7)), MedianBlur(p=0.01, blur_limit=(3, 7)), ToGray(p=0.01), CLAHE(p=0.01, clip_limit=(1, 4.0), tile_grid_size=(8, 8))\n"
          ]
        },
        {
          "output_type": "stream",
          "name": "stderr",
          "text": [
            "\n",
            "/usr/lib/python3.10/multiprocessing/popen_fork.py:66: RuntimeWarning: os.fork() was called. os.fork() is incompatible with multithreaded code, and JAX is multithreaded, so this will likely lead to a deadlock.\n",
            "  self.pid = os.fork()\n",
            "\u001b[34m\u001b[1mval: \u001b[0mScanning /content/valid/labels.cache... 32 images, 0 backgrounds, 0 corrupt: 100%|██████████| 32/32 [00:00<?, ?it/s]\n"
          ]
        },
        {
          "output_type": "stream",
          "name": "stdout",
          "text": [
            "Plotting labels to runs/detect/train/labels.jpg... \n",
            "\u001b[34m\u001b[1moptimizer:\u001b[0m 'optimizer=auto' found, ignoring 'lr0=0.01' and 'momentum=0.937' and determining best 'optimizer', 'lr0' and 'momentum' automatically... \n",
            "\u001b[34m\u001b[1moptimizer:\u001b[0m AdamW(lr=0.002, momentum=0.9) with parameter groups 154 weight(decay=0.0), 161 weight(decay=0.0005), 160 bias(decay=0.0)\n",
            "\u001b[34m\u001b[1mTensorBoard: \u001b[0mmodel graph visualization added ✅\n",
            "Image sizes 224 train, 224 val\n",
            "Using 2 dataloader workers\n",
            "Logging results to \u001b[1mruns/detect/train\u001b[0m\n",
            "Starting training for 200 epochs...\n",
            "\n",
            "      Epoch    GPU_mem   box_loss   cls_loss   dfl_loss  Instances       Size\n"
          ]
        },
        {
          "output_type": "stream",
          "name": "stderr",
          "text": [
            "      1/200      2.32G      1.529      1.848      1.379        181        224: 100%|██████████| 21/21 [00:11<00:00,  1.90it/s]\n",
            "                 Class     Images  Instances      Box(P          R      mAP50  mAP50-95): 100%|██████████| 1/1 [00:01<00:00,  1.65s/it]"
          ]
        },
        {
          "output_type": "stream",
          "name": "stdout",
          "text": [
            "                   all         32        124      0.201      0.347      0.171     0.0795\n"
          ]
        },
        {
          "output_type": "stream",
          "name": "stderr",
          "text": [
            "\n"
          ]
        },
        {
          "output_type": "stream",
          "name": "stdout",
          "text": [
            "\n",
            "      Epoch    GPU_mem   box_loss   cls_loss   dfl_loss  Instances       Size\n"
          ]
        },
        {
          "output_type": "stream",
          "name": "stderr",
          "text": [
            "      2/200      2.03G      1.371     0.9436      1.313         86        224: 100%|██████████| 21/21 [00:05<00:00,  3.82it/s]\n",
            "                 Class     Images  Instances      Box(P          R      mAP50  mAP50-95): 100%|██████████| 1/1 [00:00<00:00,  3.27it/s]"
          ]
        },
        {
          "output_type": "stream",
          "name": "stdout",
          "text": [
            "                   all         32        124     0.0579      0.395     0.0451     0.0174\n"
          ]
        },
        {
          "output_type": "stream",
          "name": "stderr",
          "text": [
            "\n"
          ]
        },
        {
          "output_type": "stream",
          "name": "stdout",
          "text": [
            "\n",
            "      Epoch    GPU_mem   box_loss   cls_loss   dfl_loss  Instances       Size\n"
          ]
        },
        {
          "output_type": "stream",
          "name": "stderr",
          "text": [
            "      3/200      1.97G       1.43     0.9545      1.312        116        224: 100%|██████████| 21/21 [00:06<00:00,  3.50it/s]\n",
            "                 Class     Images  Instances      Box(P          R      mAP50  mAP50-95): 100%|██████████| 1/1 [00:00<00:00,  3.37it/s]"
          ]
        },
        {
          "output_type": "stream",
          "name": "stdout",
          "text": [
            "                   all         32        124    0.00848      0.613    0.00682    0.00296\n"
          ]
        },
        {
          "output_type": "stream",
          "name": "stderr",
          "text": [
            "\n"
          ]
        },
        {
          "output_type": "stream",
          "name": "stdout",
          "text": [
            "\n",
            "      Epoch    GPU_mem   box_loss   cls_loss   dfl_loss  Instances       Size\n"
          ]
        },
        {
          "output_type": "stream",
          "name": "stderr",
          "text": [
            "      4/200      2.03G      1.427     0.9154      1.351         76        224: 100%|██████████| 21/21 [00:04<00:00,  4.21it/s]\n",
            "                 Class     Images  Instances      Box(P          R      mAP50  mAP50-95): 100%|██████████| 1/1 [00:00<00:00,  3.57it/s]"
          ]
        },
        {
          "output_type": "stream",
          "name": "stdout",
          "text": [
            "                   all         32        124       0.01      0.677    0.00863    0.00349\n"
          ]
        },
        {
          "output_type": "stream",
          "name": "stderr",
          "text": [
            "\n"
          ]
        },
        {
          "output_type": "stream",
          "name": "stdout",
          "text": [
            "\n",
            "      Epoch    GPU_mem   box_loss   cls_loss   dfl_loss  Instances       Size\n"
          ]
        },
        {
          "output_type": "stream",
          "name": "stderr",
          "text": [
            "      5/200      2.03G      1.454     0.9504      1.332         93        224: 100%|██████████| 21/21 [00:04<00:00,  4.21it/s]\n",
            "                 Class     Images  Instances      Box(P          R      mAP50  mAP50-95): 100%|██████████| 1/1 [00:00<00:00,  5.55it/s]"
          ]
        },
        {
          "output_type": "stream",
          "name": "stdout",
          "text": [
            "                   all         32        124     0.0033      0.242    0.00214   0.000678\n"
          ]
        },
        {
          "output_type": "stream",
          "name": "stderr",
          "text": [
            "\n"
          ]
        },
        {
          "output_type": "stream",
          "name": "stdout",
          "text": [
            "\n",
            "      Epoch    GPU_mem   box_loss   cls_loss   dfl_loss  Instances       Size\n"
          ]
        },
        {
          "output_type": "stream",
          "name": "stderr",
          "text": [
            "      6/200      1.96G      1.429     0.9647      1.305        133        224: 100%|██████████| 21/21 [00:04<00:00,  5.21it/s]\n",
            "                 Class     Images  Instances      Box(P          R      mAP50  mAP50-95): 100%|██████████| 1/1 [00:00<00:00,  5.49it/s]"
          ]
        },
        {
          "output_type": "stream",
          "name": "stdout",
          "text": [
            "                   all         32        124     0.0367      0.379     0.0258    0.00801\n"
          ]
        },
        {
          "output_type": "stream",
          "name": "stderr",
          "text": [
            "\n"
          ]
        },
        {
          "output_type": "stream",
          "name": "stdout",
          "text": [
            "\n",
            "      Epoch    GPU_mem   box_loss   cls_loss   dfl_loss  Instances       Size\n"
          ]
        },
        {
          "output_type": "stream",
          "name": "stderr",
          "text": [
            "      7/200      1.96G      1.381     0.8934      1.292         74        224: 100%|██████████| 21/21 [00:06<00:00,  3.47it/s]\n",
            "                 Class     Images  Instances      Box(P          R      mAP50  mAP50-95): 100%|██████████| 1/1 [00:00<00:00,  5.78it/s]"
          ]
        },
        {
          "output_type": "stream",
          "name": "stdout",
          "text": [
            "                   all         32        124      0.337      0.589      0.292      0.108\n"
          ]
        },
        {
          "output_type": "stream",
          "name": "stderr",
          "text": [
            "\n"
          ]
        },
        {
          "output_type": "stream",
          "name": "stdout",
          "text": [
            "\n",
            "      Epoch    GPU_mem   box_loss   cls_loss   dfl_loss  Instances       Size\n"
          ]
        },
        {
          "output_type": "stream",
          "name": "stderr",
          "text": [
            "      8/200      1.97G      1.387     0.8962      1.298        129        224: 100%|██████████| 21/21 [00:04<00:00,  5.12it/s]\n",
            "                 Class     Images  Instances      Box(P          R      mAP50  mAP50-95): 100%|██████████| 1/1 [00:00<00:00,  5.44it/s]"
          ]
        },
        {
          "output_type": "stream",
          "name": "stdout",
          "text": [
            "                   all         32        124       0.66      0.782      0.725      0.354\n"
          ]
        },
        {
          "output_type": "stream",
          "name": "stderr",
          "text": [
            "\n"
          ]
        },
        {
          "output_type": "stream",
          "name": "stdout",
          "text": [
            "\n",
            "      Epoch    GPU_mem   box_loss   cls_loss   dfl_loss  Instances       Size\n"
          ]
        },
        {
          "output_type": "stream",
          "name": "stderr",
          "text": [
            "      9/200      2.03G      1.365     0.8674      1.295         86        224: 100%|██████████| 21/21 [00:04<00:00,  5.04it/s]\n",
            "                 Class     Images  Instances      Box(P          R      mAP50  mAP50-95): 100%|██████████| 1/1 [00:00<00:00,  5.24it/s]\n"
          ]
        },
        {
          "output_type": "stream",
          "name": "stdout",
          "text": [
            "                   all         32        124      0.698      0.707      0.735      0.324\n",
            "\n",
            "      Epoch    GPU_mem   box_loss   cls_loss   dfl_loss  Instances       Size\n"
          ]
        },
        {
          "output_type": "stream",
          "name": "stderr",
          "text": [
            "     10/200      1.98G      1.335      0.867      1.277         97        224: 100%|██████████| 21/21 [00:04<00:00,  4.80it/s]\n",
            "                 Class     Images  Instances      Box(P          R      mAP50  mAP50-95): 100%|██████████| 1/1 [00:00<00:00,  3.87it/s]"
          ]
        },
        {
          "output_type": "stream",
          "name": "stdout",
          "text": [
            "                   all         32        124      0.781      0.798      0.852      0.452\n"
          ]
        },
        {
          "output_type": "stream",
          "name": "stderr",
          "text": [
            "\n"
          ]
        },
        {
          "output_type": "stream",
          "name": "stdout",
          "text": [
            "\n",
            "      Epoch    GPU_mem   box_loss   cls_loss   dfl_loss  Instances       Size\n"
          ]
        },
        {
          "output_type": "stream",
          "name": "stderr",
          "text": [
            "     11/200      1.96G       1.31     0.8051      1.229        121        224: 100%|██████████| 21/21 [00:04<00:00,  4.32it/s]\n",
            "                 Class     Images  Instances      Box(P          R      mAP50  mAP50-95): 100%|██████████| 1/1 [00:00<00:00,  5.42it/s]"
          ]
        },
        {
          "output_type": "stream",
          "name": "stdout",
          "text": [
            "                   all         32        124       0.84      0.762      0.854       0.44\n"
          ]
        },
        {
          "output_type": "stream",
          "name": "stderr",
          "text": [
            "\n"
          ]
        },
        {
          "output_type": "stream",
          "name": "stdout",
          "text": [
            "\n",
            "      Epoch    GPU_mem   box_loss   cls_loss   dfl_loss  Instances       Size\n"
          ]
        },
        {
          "output_type": "stream",
          "name": "stderr",
          "text": [
            "     12/200      1.98G      1.288     0.8161      1.266        132        224: 100%|██████████| 21/21 [00:04<00:00,  5.05it/s]\n",
            "                 Class     Images  Instances      Box(P          R      mAP50  mAP50-95): 100%|██████████| 1/1 [00:00<00:00,  5.73it/s]"
          ]
        },
        {
          "output_type": "stream",
          "name": "stdout",
          "text": [
            "                   all         32        124      0.862      0.806       0.87      0.471\n"
          ]
        },
        {
          "output_type": "stream",
          "name": "stderr",
          "text": [
            "\n"
          ]
        },
        {
          "output_type": "stream",
          "name": "stdout",
          "text": [
            "\n",
            "      Epoch    GPU_mem   box_loss   cls_loss   dfl_loss  Instances       Size\n"
          ]
        },
        {
          "output_type": "stream",
          "name": "stderr",
          "text": [
            "     13/200      2.02G      1.238     0.7652      1.235        130        224: 100%|██████████| 21/21 [00:05<00:00,  3.74it/s]\n",
            "                 Class     Images  Instances      Box(P          R      mAP50  mAP50-95): 100%|██████████| 1/1 [00:00<00:00,  5.61it/s]"
          ]
        },
        {
          "output_type": "stream",
          "name": "stdout",
          "text": [
            "                   all         32        124      0.805      0.797       0.85      0.461\n"
          ]
        },
        {
          "output_type": "stream",
          "name": "stderr",
          "text": [
            "\n"
          ]
        },
        {
          "output_type": "stream",
          "name": "stdout",
          "text": [
            "\n",
            "      Epoch    GPU_mem   box_loss   cls_loss   dfl_loss  Instances       Size\n"
          ]
        },
        {
          "output_type": "stream",
          "name": "stderr",
          "text": [
            "     14/200      1.97G      1.239     0.7639      1.226         74        224: 100%|██████████| 21/21 [00:04<00:00,  5.00it/s]\n",
            "                 Class     Images  Instances      Box(P          R      mAP50  mAP50-95): 100%|██████████| 1/1 [00:00<00:00,  5.24it/s]\n"
          ]
        },
        {
          "output_type": "stream",
          "name": "stdout",
          "text": [
            "                   all         32        124      0.792      0.798      0.868      0.482\n",
            "\n",
            "      Epoch    GPU_mem   box_loss   cls_loss   dfl_loss  Instances       Size\n"
          ]
        },
        {
          "output_type": "stream",
          "name": "stderr",
          "text": [
            "     15/200      1.98G      1.275     0.7459       1.19        144        224: 100%|██████████| 21/21 [00:05<00:00,  3.63it/s]\n",
            "                 Class     Images  Instances      Box(P          R      mAP50  mAP50-95): 100%|██████████| 1/1 [00:00<00:00,  3.56it/s]"
          ]
        },
        {
          "output_type": "stream",
          "name": "stdout",
          "text": [
            "                   all         32        124      0.861      0.797       0.84       0.43\n"
          ]
        },
        {
          "output_type": "stream",
          "name": "stderr",
          "text": [
            "\n"
          ]
        },
        {
          "output_type": "stream",
          "name": "stdout",
          "text": [
            "\n",
            "      Epoch    GPU_mem   box_loss   cls_loss   dfl_loss  Instances       Size\n"
          ]
        },
        {
          "output_type": "stream",
          "name": "stderr",
          "text": [
            "     16/200      1.97G       1.24     0.7539      1.232        161        224: 100%|██████████| 21/21 [00:04<00:00,  4.91it/s]\n",
            "                 Class     Images  Instances      Box(P          R      mAP50  mAP50-95): 100%|██████████| 1/1 [00:00<00:00,  5.52it/s]"
          ]
        },
        {
          "output_type": "stream",
          "name": "stdout",
          "text": [
            "                   all         32        124      0.734      0.718      0.732      0.409\n"
          ]
        },
        {
          "output_type": "stream",
          "name": "stderr",
          "text": [
            "\n"
          ]
        },
        {
          "output_type": "stream",
          "name": "stdout",
          "text": [
            "\n",
            "      Epoch    GPU_mem   box_loss   cls_loss   dfl_loss  Instances       Size\n"
          ]
        },
        {
          "output_type": "stream",
          "name": "stderr",
          "text": [
            "     17/200      2.02G      1.281     0.7583      1.222         76        224: 100%|██████████| 21/21 [00:04<00:00,  5.00it/s]\n",
            "                 Class     Images  Instances      Box(P          R      mAP50  mAP50-95): 100%|██████████| 1/1 [00:00<00:00,  4.10it/s]"
          ]
        },
        {
          "output_type": "stream",
          "name": "stdout",
          "text": [
            "                   all         32        124      0.821      0.815      0.852      0.492\n"
          ]
        },
        {
          "output_type": "stream",
          "name": "stderr",
          "text": [
            "\n"
          ]
        },
        {
          "output_type": "stream",
          "name": "stdout",
          "text": [
            "\n",
            "      Epoch    GPU_mem   box_loss   cls_loss   dfl_loss  Instances       Size\n"
          ]
        },
        {
          "output_type": "stream",
          "name": "stderr",
          "text": [
            "     18/200      1.97G      1.221     0.7081      1.199        162        224: 100%|██████████| 21/21 [00:05<00:00,  3.85it/s]\n",
            "                 Class     Images  Instances      Box(P          R      mAP50  mAP50-95): 100%|██████████| 1/1 [00:00<00:00,  5.09it/s]\n"
          ]
        },
        {
          "output_type": "stream",
          "name": "stdout",
          "text": [
            "                   all         32        124       0.81      0.791      0.848      0.481\n",
            "\n",
            "      Epoch    GPU_mem   box_loss   cls_loss   dfl_loss  Instances       Size\n"
          ]
        },
        {
          "output_type": "stream",
          "name": "stderr",
          "text": [
            "     19/200      1.97G       1.24     0.7144      1.204        121        224: 100%|██████████| 21/21 [00:04<00:00,  5.00it/s]\n",
            "                 Class     Images  Instances      Box(P          R      mAP50  mAP50-95): 100%|██████████| 1/1 [00:00<00:00,  5.35it/s]"
          ]
        },
        {
          "output_type": "stream",
          "name": "stdout",
          "text": [
            "                   all         32        124      0.897      0.774      0.883        0.5\n"
          ]
        },
        {
          "output_type": "stream",
          "name": "stderr",
          "text": [
            "\n"
          ]
        },
        {
          "output_type": "stream",
          "name": "stdout",
          "text": [
            "\n",
            "      Epoch    GPU_mem   box_loss   cls_loss   dfl_loss  Instances       Size\n"
          ]
        },
        {
          "output_type": "stream",
          "name": "stderr",
          "text": [
            "     20/200      1.96G      1.181     0.6965      1.177        134        224: 100%|██████████| 21/21 [00:06<00:00,  3.50it/s]\n",
            "                 Class     Images  Instances      Box(P          R      mAP50  mAP50-95): 100%|██████████| 1/1 [00:00<00:00,  4.33it/s]"
          ]
        },
        {
          "output_type": "stream",
          "name": "stdout",
          "text": [
            "                   all         32        124      0.877      0.804      0.905      0.487\n"
          ]
        },
        {
          "output_type": "stream",
          "name": "stderr",
          "text": [
            "\n"
          ]
        },
        {
          "output_type": "stream",
          "name": "stdout",
          "text": [
            "\n",
            "      Epoch    GPU_mem   box_loss   cls_loss   dfl_loss  Instances       Size\n"
          ]
        },
        {
          "output_type": "stream",
          "name": "stderr",
          "text": [
            "     21/200      2.03G      1.246     0.7121      1.231         88        224: 100%|██████████| 21/21 [00:04<00:00,  5.01it/s]\n",
            "                 Class     Images  Instances      Box(P          R      mAP50  mAP50-95): 100%|██████████| 1/1 [00:00<00:00,  5.33it/s]"
          ]
        },
        {
          "output_type": "stream",
          "name": "stdout",
          "text": [
            "                   all         32        124      0.843      0.863      0.901      0.505\n"
          ]
        },
        {
          "output_type": "stream",
          "name": "stderr",
          "text": [
            "\n"
          ]
        },
        {
          "output_type": "stream",
          "name": "stdout",
          "text": [
            "\n",
            "      Epoch    GPU_mem   box_loss   cls_loss   dfl_loss  Instances       Size\n"
          ]
        },
        {
          "output_type": "stream",
          "name": "stderr",
          "text": [
            "     22/200      1.97G      1.207     0.7017      1.214         98        224: 100%|██████████| 21/21 [00:05<00:00,  3.87it/s]\n",
            "                 Class     Images  Instances      Box(P          R      mAP50  mAP50-95): 100%|██████████| 1/1 [00:00<00:00,  5.64it/s]"
          ]
        },
        {
          "output_type": "stream",
          "name": "stdout",
          "text": [
            "                   all         32        124      0.802      0.847      0.854      0.467\n"
          ]
        },
        {
          "output_type": "stream",
          "name": "stderr",
          "text": [
            "\n"
          ]
        },
        {
          "output_type": "stream",
          "name": "stdout",
          "text": [
            "\n",
            "      Epoch    GPU_mem   box_loss   cls_loss   dfl_loss  Instances       Size\n"
          ]
        },
        {
          "output_type": "stream",
          "name": "stderr",
          "text": [
            "     23/200      1.97G      1.173     0.6868      1.211         87        224: 100%|██████████| 21/21 [00:04<00:00,  5.06it/s]\n",
            "                 Class     Images  Instances      Box(P          R      mAP50  mAP50-95): 100%|██████████| 1/1 [00:00<00:00,  5.38it/s]"
          ]
        },
        {
          "output_type": "stream",
          "name": "stdout",
          "text": [
            "                   all         32        124       0.87      0.887      0.899      0.554\n"
          ]
        },
        {
          "output_type": "stream",
          "name": "stderr",
          "text": [
            "\n"
          ]
        },
        {
          "output_type": "stream",
          "name": "stdout",
          "text": [
            "\n",
            "      Epoch    GPU_mem   box_loss   cls_loss   dfl_loss  Instances       Size\n"
          ]
        },
        {
          "output_type": "stream",
          "name": "stderr",
          "text": [
            "     24/200      1.97G      1.135     0.6787      1.159         72        224: 100%|██████████| 21/21 [00:05<00:00,  3.57it/s]\n",
            "                 Class     Images  Instances      Box(P          R      mAP50  mAP50-95): 100%|██████████| 1/1 [00:00<00:00,  3.91it/s]"
          ]
        },
        {
          "output_type": "stream",
          "name": "stdout",
          "text": [
            "                   all         32        124      0.834      0.811      0.881      0.502\n"
          ]
        },
        {
          "output_type": "stream",
          "name": "stderr",
          "text": [
            "\n"
          ]
        },
        {
          "output_type": "stream",
          "name": "stdout",
          "text": [
            "\n",
            "      Epoch    GPU_mem   box_loss   cls_loss   dfl_loss  Instances       Size\n"
          ]
        },
        {
          "output_type": "stream",
          "name": "stderr",
          "text": [
            "     25/200      2.02G      1.162     0.7066      1.188        212        224: 100%|██████████| 21/21 [00:06<00:00,  3.49it/s]\n",
            "                 Class     Images  Instances      Box(P          R      mAP50  mAP50-95): 100%|██████████| 1/1 [00:00<00:00,  5.19it/s]"
          ]
        },
        {
          "output_type": "stream",
          "name": "stdout",
          "text": [
            "                   all         32        124      0.842      0.887      0.914      0.525\n"
          ]
        },
        {
          "output_type": "stream",
          "name": "stderr",
          "text": [
            "\n"
          ]
        },
        {
          "output_type": "stream",
          "name": "stdout",
          "text": [
            "\n",
            "      Epoch    GPU_mem   box_loss   cls_loss   dfl_loss  Instances       Size\n"
          ]
        },
        {
          "output_type": "stream",
          "name": "stderr",
          "text": [
            "     26/200      1.97G      1.158     0.6617      1.167        134        224: 100%|██████████| 21/21 [00:05<00:00,  3.83it/s]\n",
            "                 Class     Images  Instances      Box(P          R      mAP50  mAP50-95): 100%|██████████| 1/1 [00:00<00:00,  3.65it/s]"
          ]
        },
        {
          "output_type": "stream",
          "name": "stdout",
          "text": [
            "                   all         32        124      0.817      0.866      0.891      0.527\n"
          ]
        },
        {
          "output_type": "stream",
          "name": "stderr",
          "text": [
            "\n"
          ]
        },
        {
          "output_type": "stream",
          "name": "stdout",
          "text": [
            "\n",
            "      Epoch    GPU_mem   box_loss   cls_loss   dfl_loss  Instances       Size\n"
          ]
        },
        {
          "output_type": "stream",
          "name": "stderr",
          "text": [
            "     27/200      1.97G      1.138     0.6516      1.151        111        224: 100%|██████████| 21/21 [00:04<00:00,  5.13it/s]\n",
            "                 Class     Images  Instances      Box(P          R      mAP50  mAP50-95): 100%|██████████| 1/1 [00:00<00:00,  5.70it/s]"
          ]
        },
        {
          "output_type": "stream",
          "name": "stdout",
          "text": [
            "                   all         32        124      0.835      0.895      0.926      0.557\n"
          ]
        },
        {
          "output_type": "stream",
          "name": "stderr",
          "text": [
            "\n"
          ]
        },
        {
          "output_type": "stream",
          "name": "stdout",
          "text": [
            "\n",
            "      Epoch    GPU_mem   box_loss   cls_loss   dfl_loss  Instances       Size\n"
          ]
        },
        {
          "output_type": "stream",
          "name": "stderr",
          "text": [
            "     28/200      1.97G      1.206     0.6886      1.156         89        224: 100%|██████████| 21/21 [00:04<00:00,  4.62it/s]\n",
            "                 Class     Images  Instances      Box(P          R      mAP50  mAP50-95): 100%|██████████| 1/1 [00:00<00:00,  3.35it/s]"
          ]
        },
        {
          "output_type": "stream",
          "name": "stdout",
          "text": [
            "                   all         32        124      0.887      0.839      0.903      0.532\n"
          ]
        },
        {
          "output_type": "stream",
          "name": "stderr",
          "text": [
            "\n"
          ]
        },
        {
          "output_type": "stream",
          "name": "stdout",
          "text": [
            "\n",
            "      Epoch    GPU_mem   box_loss   cls_loss   dfl_loss  Instances       Size\n"
          ]
        },
        {
          "output_type": "stream",
          "name": "stderr",
          "text": [
            "     29/200      2.02G      1.137      0.645      1.142         66        224: 100%|██████████| 21/21 [00:05<00:00,  4.08it/s]\n",
            "                 Class     Images  Instances      Box(P          R      mAP50  mAP50-95): 100%|██████████| 1/1 [00:00<00:00,  5.35it/s]"
          ]
        },
        {
          "output_type": "stream",
          "name": "stdout",
          "text": [
            "                   all         32        124      0.896      0.774      0.886      0.544\n"
          ]
        },
        {
          "output_type": "stream",
          "name": "stderr",
          "text": [
            "\n"
          ]
        },
        {
          "output_type": "stream",
          "name": "stdout",
          "text": [
            "\n",
            "      Epoch    GPU_mem   box_loss   cls_loss   dfl_loss  Instances       Size\n"
          ]
        },
        {
          "output_type": "stream",
          "name": "stderr",
          "text": [
            "     30/200      1.97G      1.107     0.6499      1.136         97        224: 100%|██████████| 21/21 [00:04<00:00,  5.01it/s]\n",
            "                 Class     Images  Instances      Box(P          R      mAP50  mAP50-95): 100%|██████████| 1/1 [00:00<00:00,  5.21it/s]"
          ]
        },
        {
          "output_type": "stream",
          "name": "stdout",
          "text": [
            "                   all         32        124      0.854      0.863      0.921      0.522\n"
          ]
        },
        {
          "output_type": "stream",
          "name": "stderr",
          "text": [
            "\n"
          ]
        },
        {
          "output_type": "stream",
          "name": "stdout",
          "text": [
            "\n",
            "      Epoch    GPU_mem   box_loss   cls_loss   dfl_loss  Instances       Size\n"
          ]
        },
        {
          "output_type": "stream",
          "name": "stderr",
          "text": [
            "     31/200      1.97G      1.093     0.6352      1.141         78        224: 100%|██████████| 21/21 [00:06<00:00,  3.49it/s]\n",
            "                 Class     Images  Instances      Box(P          R      mAP50  mAP50-95): 100%|██████████| 1/1 [00:00<00:00,  5.69it/s]"
          ]
        },
        {
          "output_type": "stream",
          "name": "stdout",
          "text": [
            "                   all         32        124      0.901      0.847      0.921      0.544\n"
          ]
        },
        {
          "output_type": "stream",
          "name": "stderr",
          "text": [
            "\n"
          ]
        },
        {
          "output_type": "stream",
          "name": "stdout",
          "text": [
            "\n",
            "      Epoch    GPU_mem   box_loss   cls_loss   dfl_loss  Instances       Size\n"
          ]
        },
        {
          "output_type": "stream",
          "name": "stderr",
          "text": [
            "     32/200      1.96G      1.113     0.6452      1.159        155        224: 100%|██████████| 21/21 [00:04<00:00,  5.13it/s]\n",
            "                 Class     Images  Instances      Box(P          R      mAP50  mAP50-95): 100%|██████████| 1/1 [00:00<00:00,  5.89it/s]"
          ]
        },
        {
          "output_type": "stream",
          "name": "stdout",
          "text": [
            "                   all         32        124      0.927      0.824      0.899      0.525\n"
          ]
        },
        {
          "output_type": "stream",
          "name": "stderr",
          "text": [
            "\n"
          ]
        },
        {
          "output_type": "stream",
          "name": "stdout",
          "text": [
            "\n",
            "      Epoch    GPU_mem   box_loss   cls_loss   dfl_loss  Instances       Size\n"
          ]
        },
        {
          "output_type": "stream",
          "name": "stderr",
          "text": [
            "     33/200      2.03G      1.131     0.6377      1.169        113        224: 100%|██████████| 21/21 [00:04<00:00,  4.46it/s]\n",
            "                 Class     Images  Instances      Box(P          R      mAP50  mAP50-95): 100%|██████████| 1/1 [00:00<00:00,  3.98it/s]"
          ]
        },
        {
          "output_type": "stream",
          "name": "stdout",
          "text": [
            "                   all         32        124      0.832      0.734      0.796      0.483\n"
          ]
        },
        {
          "output_type": "stream",
          "name": "stderr",
          "text": [
            "\n"
          ]
        },
        {
          "output_type": "stream",
          "name": "stdout",
          "text": [
            "\n",
            "      Epoch    GPU_mem   box_loss   cls_loss   dfl_loss  Instances       Size\n"
          ]
        },
        {
          "output_type": "stream",
          "name": "stderr",
          "text": [
            "     34/200      1.97G       1.11     0.6401      1.138        118        224: 100%|██████████| 21/21 [00:04<00:00,  4.70it/s]\n",
            "                 Class     Images  Instances      Box(P          R      mAP50  mAP50-95): 100%|██████████| 1/1 [00:00<00:00,  5.58it/s]"
          ]
        },
        {
          "output_type": "stream",
          "name": "stdout",
          "text": [
            "                   all         32        124      0.869      0.823      0.886      0.514\n"
          ]
        },
        {
          "output_type": "stream",
          "name": "stderr",
          "text": [
            "\n"
          ]
        },
        {
          "output_type": "stream",
          "name": "stdout",
          "text": [
            "\n",
            "      Epoch    GPU_mem   box_loss   cls_loss   dfl_loss  Instances       Size\n"
          ]
        },
        {
          "output_type": "stream",
          "name": "stderr",
          "text": [
            "     35/200      1.97G      1.109     0.6331       1.14        116        224: 100%|██████████| 21/21 [00:04<00:00,  4.95it/s]\n",
            "                 Class     Images  Instances      Box(P          R      mAP50  mAP50-95): 100%|██████████| 1/1 [00:00<00:00,  5.44it/s]"
          ]
        },
        {
          "output_type": "stream",
          "name": "stdout",
          "text": [
            "                   all         32        124      0.865      0.825      0.889      0.502\n"
          ]
        },
        {
          "output_type": "stream",
          "name": "stderr",
          "text": [
            "\n"
          ]
        },
        {
          "output_type": "stream",
          "name": "stdout",
          "text": [
            "\n",
            "      Epoch    GPU_mem   box_loss   cls_loss   dfl_loss  Instances       Size\n"
          ]
        },
        {
          "output_type": "stream",
          "name": "stderr",
          "text": [
            "     36/200      1.97G      1.068     0.6113      1.138        123        224: 100%|██████████| 21/21 [00:05<00:00,  3.62it/s]\n",
            "                 Class     Images  Instances      Box(P          R      mAP50  mAP50-95): 100%|██████████| 1/1 [00:00<00:00,  5.80it/s]"
          ]
        },
        {
          "output_type": "stream",
          "name": "stdout",
          "text": [
            "                   all         32        124      0.889       0.84      0.908      0.525\n"
          ]
        },
        {
          "output_type": "stream",
          "name": "stderr",
          "text": [
            "\n"
          ]
        },
        {
          "output_type": "stream",
          "name": "stdout",
          "text": [
            "\n",
            "      Epoch    GPU_mem   box_loss   cls_loss   dfl_loss  Instances       Size\n"
          ]
        },
        {
          "output_type": "stream",
          "name": "stderr",
          "text": [
            "     37/200      2.03G      1.129     0.6313      1.149        130        224: 100%|██████████| 21/21 [00:04<00:00,  5.13it/s]\n",
            "                 Class     Images  Instances      Box(P          R      mAP50  mAP50-95): 100%|██████████| 1/1 [00:00<00:00,  5.48it/s]"
          ]
        },
        {
          "output_type": "stream",
          "name": "stdout",
          "text": [
            "                   all         32        124      0.898      0.871      0.917      0.503\n"
          ]
        },
        {
          "output_type": "stream",
          "name": "stderr",
          "text": [
            "\n"
          ]
        },
        {
          "output_type": "stream",
          "name": "stdout",
          "text": [
            "\n",
            "      Epoch    GPU_mem   box_loss   cls_loss   dfl_loss  Instances       Size\n"
          ]
        },
        {
          "output_type": "stream",
          "name": "stderr",
          "text": [
            "     38/200      1.96G      1.068     0.6214      1.148         97        224: 100%|██████████| 21/21 [00:05<00:00,  3.72it/s]\n",
            "                 Class     Images  Instances      Box(P          R      mAP50  mAP50-95): 100%|██████████| 1/1 [00:00<00:00,  3.29it/s]"
          ]
        },
        {
          "output_type": "stream",
          "name": "stdout",
          "text": [
            "                   all         32        124      0.831      0.863      0.863        0.5\n"
          ]
        },
        {
          "output_type": "stream",
          "name": "stderr",
          "text": [
            "\n"
          ]
        },
        {
          "output_type": "stream",
          "name": "stdout",
          "text": [
            "\n",
            "      Epoch    GPU_mem   box_loss   cls_loss   dfl_loss  Instances       Size\n"
          ]
        },
        {
          "output_type": "stream",
          "name": "stderr",
          "text": [
            "     39/200      1.97G      1.096     0.6174      1.118        130        224: 100%|██████████| 21/21 [00:04<00:00,  5.10it/s]\n",
            "                 Class     Images  Instances      Box(P          R      mAP50  mAP50-95): 100%|██████████| 1/1 [00:00<00:00,  5.76it/s]"
          ]
        },
        {
          "output_type": "stream",
          "name": "stdout",
          "text": [
            "                   all         32        124      0.849      0.895      0.901      0.549\n"
          ]
        },
        {
          "output_type": "stream",
          "name": "stderr",
          "text": [
            "\n"
          ]
        },
        {
          "output_type": "stream",
          "name": "stdout",
          "text": [
            "\n",
            "      Epoch    GPU_mem   box_loss   cls_loss   dfl_loss  Instances       Size\n"
          ]
        },
        {
          "output_type": "stream",
          "name": "stderr",
          "text": [
            "     40/200      1.97G      1.089     0.6178      1.141        138        224: 100%|██████████| 21/21 [00:04<00:00,  4.60it/s]\n",
            "                 Class     Images  Instances      Box(P          R      mAP50  mAP50-95): 100%|██████████| 1/1 [00:00<00:00,  3.95it/s]"
          ]
        },
        {
          "output_type": "stream",
          "name": "stdout",
          "text": [
            "                   all         32        124      0.831      0.879      0.902      0.544\n"
          ]
        },
        {
          "output_type": "stream",
          "name": "stderr",
          "text": [
            "\n"
          ]
        },
        {
          "output_type": "stream",
          "name": "stdout",
          "text": [
            "\n",
            "      Epoch    GPU_mem   box_loss   cls_loss   dfl_loss  Instances       Size\n"
          ]
        },
        {
          "output_type": "stream",
          "name": "stderr",
          "text": [
            "     41/200      2.03G      1.062     0.5879      1.118         71        224: 100%|██████████| 21/21 [00:04<00:00,  4.47it/s]\n",
            "                 Class     Images  Instances      Box(P          R      mAP50  mAP50-95): 100%|██████████| 1/1 [00:00<00:00,  5.55it/s]"
          ]
        },
        {
          "output_type": "stream",
          "name": "stdout",
          "text": [
            "                   all         32        124       0.86       0.84      0.908      0.556\n"
          ]
        },
        {
          "output_type": "stream",
          "name": "stderr",
          "text": [
            "\n"
          ]
        },
        {
          "output_type": "stream",
          "name": "stdout",
          "text": [
            "\n",
            "      Epoch    GPU_mem   box_loss   cls_loss   dfl_loss  Instances       Size\n"
          ]
        },
        {
          "output_type": "stream",
          "name": "stderr",
          "text": [
            "     42/200      1.96G      1.083     0.5953      1.141        114        224: 100%|██████████| 21/21 [00:04<00:00,  5.10it/s]\n",
            "                 Class     Images  Instances      Box(P          R      mAP50  mAP50-95): 100%|██████████| 1/1 [00:00<00:00,  5.47it/s]"
          ]
        },
        {
          "output_type": "stream",
          "name": "stdout",
          "text": [
            "                   all         32        124      0.838      0.879      0.909      0.522\n"
          ]
        },
        {
          "output_type": "stream",
          "name": "stderr",
          "text": [
            "\n"
          ]
        },
        {
          "output_type": "stream",
          "name": "stdout",
          "text": [
            "\n",
            "      Epoch    GPU_mem   box_loss   cls_loss   dfl_loss  Instances       Size\n"
          ]
        },
        {
          "output_type": "stream",
          "name": "stderr",
          "text": [
            "     43/200      1.97G      1.093     0.6107      1.146         98        224: 100%|██████████| 21/21 [00:05<00:00,  3.58it/s]\n",
            "                 Class     Images  Instances      Box(P          R      mAP50  mAP50-95): 100%|██████████| 1/1 [00:00<00:00,  5.30it/s]"
          ]
        },
        {
          "output_type": "stream",
          "name": "stdout",
          "text": [
            "                   all         32        124      0.861      0.855      0.894      0.499\n"
          ]
        },
        {
          "output_type": "stream",
          "name": "stderr",
          "text": [
            "\n"
          ]
        },
        {
          "output_type": "stream",
          "name": "stdout",
          "text": [
            "\n",
            "      Epoch    GPU_mem   box_loss   cls_loss   dfl_loss  Instances       Size\n"
          ]
        },
        {
          "output_type": "stream",
          "name": "stderr",
          "text": [
            "     44/200      1.97G      1.079     0.5951      1.121        148        224: 100%|██████████| 21/21 [00:04<00:00,  5.02it/s]\n",
            "                 Class     Images  Instances      Box(P          R      mAP50  mAP50-95): 100%|██████████| 1/1 [00:00<00:00,  4.77it/s]"
          ]
        },
        {
          "output_type": "stream",
          "name": "stdout",
          "text": [
            "                   all         32        124      0.828      0.857      0.862      0.499\n"
          ]
        },
        {
          "output_type": "stream",
          "name": "stderr",
          "text": [
            "\n"
          ]
        },
        {
          "output_type": "stream",
          "name": "stdout",
          "text": [
            "\n",
            "      Epoch    GPU_mem   box_loss   cls_loss   dfl_loss  Instances       Size\n"
          ]
        },
        {
          "output_type": "stream",
          "name": "stderr",
          "text": [
            "     45/200      2.02G      1.069     0.6044      1.118         83        224: 100%|██████████| 21/21 [00:05<00:00,  3.93it/s]\n",
            "                 Class     Images  Instances      Box(P          R      mAP50  mAP50-95): 100%|██████████| 1/1 [00:00<00:00,  3.23it/s]"
          ]
        },
        {
          "output_type": "stream",
          "name": "stdout",
          "text": [
            "                   all         32        124      0.885      0.879      0.921      0.539\n"
          ]
        },
        {
          "output_type": "stream",
          "name": "stderr",
          "text": [
            "\n"
          ]
        },
        {
          "output_type": "stream",
          "name": "stdout",
          "text": [
            "\n",
            "      Epoch    GPU_mem   box_loss   cls_loss   dfl_loss  Instances       Size\n"
          ]
        },
        {
          "output_type": "stream",
          "name": "stderr",
          "text": [
            "     46/200      1.97G      1.076     0.5911       1.12        104        224: 100%|██████████| 21/21 [00:04<00:00,  4.82it/s]\n",
            "                 Class     Images  Instances      Box(P          R      mAP50  mAP50-95): 100%|██████████| 1/1 [00:00<00:00,  5.56it/s]"
          ]
        },
        {
          "output_type": "stream",
          "name": "stdout",
          "text": [
            "                   all         32        124      0.888      0.768      0.864      0.511\n"
          ]
        },
        {
          "output_type": "stream",
          "name": "stderr",
          "text": [
            "\n"
          ]
        },
        {
          "output_type": "stream",
          "name": "stdout",
          "text": [
            "\n",
            "      Epoch    GPU_mem   box_loss   cls_loss   dfl_loss  Instances       Size\n"
          ]
        },
        {
          "output_type": "stream",
          "name": "stderr",
          "text": [
            "     47/200      1.98G      1.059      0.601      1.119         90        224: 100%|██████████| 21/21 [00:04<00:00,  5.09it/s]\n",
            "                 Class     Images  Instances      Box(P          R      mAP50  mAP50-95): 100%|██████████| 1/1 [00:00<00:00,  5.59it/s]"
          ]
        },
        {
          "output_type": "stream",
          "name": "stdout",
          "text": [
            "                   all         32        124      0.821      0.812      0.855      0.486\n"
          ]
        },
        {
          "output_type": "stream",
          "name": "stderr",
          "text": [
            "\n"
          ]
        },
        {
          "output_type": "stream",
          "name": "stdout",
          "text": [
            "\n",
            "      Epoch    GPU_mem   box_loss   cls_loss   dfl_loss  Instances       Size\n"
          ]
        },
        {
          "output_type": "stream",
          "name": "stderr",
          "text": [
            "     48/200      1.97G     0.9958     0.5618      1.106         75        224: 100%|██████████| 21/21 [00:05<00:00,  3.86it/s]\n",
            "                 Class     Images  Instances      Box(P          R      mAP50  mAP50-95): 100%|██████████| 1/1 [00:00<00:00,  4.86it/s]"
          ]
        },
        {
          "output_type": "stream",
          "name": "stdout",
          "text": [
            "                   all         32        124      0.827      0.928      0.916      0.533\n"
          ]
        },
        {
          "output_type": "stream",
          "name": "stderr",
          "text": [
            "\n"
          ]
        },
        {
          "output_type": "stream",
          "name": "stdout",
          "text": [
            "\n",
            "      Epoch    GPU_mem   box_loss   cls_loss   dfl_loss  Instances       Size\n"
          ]
        },
        {
          "output_type": "stream",
          "name": "stderr",
          "text": [
            "     49/200      2.03G       1.05     0.5864      1.116        160        224: 100%|██████████| 21/21 [00:05<00:00,  3.59it/s]\n",
            "                 Class     Images  Instances      Box(P          R      mAP50  mAP50-95): 100%|██████████| 1/1 [00:00<00:00,  5.32it/s]"
          ]
        },
        {
          "output_type": "stream",
          "name": "stdout",
          "text": [
            "                   all         32        124      0.844      0.839      0.891      0.509\n"
          ]
        },
        {
          "output_type": "stream",
          "name": "stderr",
          "text": [
            "\n"
          ]
        },
        {
          "output_type": "stream",
          "name": "stdout",
          "text": [
            "\n",
            "      Epoch    GPU_mem   box_loss   cls_loss   dfl_loss  Instances       Size\n"
          ]
        },
        {
          "output_type": "stream",
          "name": "stderr",
          "text": [
            "     50/200      1.97G      1.015     0.5738      1.115        100        224: 100%|██████████| 21/21 [00:05<00:00,  3.79it/s]\n",
            "                 Class     Images  Instances      Box(P          R      mAP50  mAP50-95): 100%|██████████| 1/1 [00:00<00:00,  5.57it/s]"
          ]
        },
        {
          "output_type": "stream",
          "name": "stdout",
          "text": [
            "                   all         32        124      0.869      0.831      0.874      0.528\n"
          ]
        },
        {
          "output_type": "stream",
          "name": "stderr",
          "text": [
            "\n"
          ]
        },
        {
          "output_type": "stream",
          "name": "stdout",
          "text": [
            "\n",
            "      Epoch    GPU_mem   box_loss   cls_loss   dfl_loss  Instances       Size\n"
          ]
        },
        {
          "output_type": "stream",
          "name": "stderr",
          "text": [
            "     51/200      1.96G      1.028     0.5666       1.09        120        224: 100%|██████████| 21/21 [00:04<00:00,  5.09it/s]\n",
            "                 Class     Images  Instances      Box(P          R      mAP50  mAP50-95): 100%|██████████| 1/1 [00:00<00:00,  5.17it/s]\n"
          ]
        },
        {
          "output_type": "stream",
          "name": "stdout",
          "text": [
            "                   all         32        124      0.893      0.874      0.921      0.544\n",
            "\n",
            "      Epoch    GPU_mem   box_loss   cls_loss   dfl_loss  Instances       Size\n"
          ]
        },
        {
          "output_type": "stream",
          "name": "stderr",
          "text": [
            "     52/200      1.97G     0.9812     0.5379      1.079        142        224: 100%|██████████| 21/21 [00:05<00:00,  3.86it/s]\n",
            "                 Class     Images  Instances      Box(P          R      mAP50  mAP50-95): 100%|██████████| 1/1 [00:00<00:00,  3.47it/s]"
          ]
        },
        {
          "output_type": "stream",
          "name": "stdout",
          "text": [
            "                   all         32        124      0.872      0.847      0.881      0.527\n"
          ]
        },
        {
          "output_type": "stream",
          "name": "stderr",
          "text": [
            "\n"
          ]
        },
        {
          "output_type": "stream",
          "name": "stdout",
          "text": [
            "\n",
            "      Epoch    GPU_mem   box_loss   cls_loss   dfl_loss  Instances       Size\n"
          ]
        },
        {
          "output_type": "stream",
          "name": "stderr",
          "text": [
            "     53/200      2.03G      1.024     0.5506      1.097         84        224: 100%|██████████| 21/21 [00:04<00:00,  4.70it/s]\n",
            "                 Class     Images  Instances      Box(P          R      mAP50  mAP50-95): 100%|██████████| 1/1 [00:00<00:00,  5.29it/s]"
          ]
        },
        {
          "output_type": "stream",
          "name": "stdout",
          "text": [
            "                   all         32        124      0.858      0.839      0.882      0.509\n"
          ]
        },
        {
          "output_type": "stream",
          "name": "stderr",
          "text": [
            "\n"
          ]
        },
        {
          "output_type": "stream",
          "name": "stdout",
          "text": [
            "\n",
            "      Epoch    GPU_mem   box_loss   cls_loss   dfl_loss  Instances       Size\n"
          ]
        },
        {
          "output_type": "stream",
          "name": "stderr",
          "text": [
            "     54/200      1.97G      1.011     0.5482      1.099        100        224: 100%|██████████| 21/21 [00:04<00:00,  5.07it/s]\n",
            "                 Class     Images  Instances      Box(P          R      mAP50  mAP50-95): 100%|██████████| 1/1 [00:00<00:00,  5.80it/s]"
          ]
        },
        {
          "output_type": "stream",
          "name": "stdout",
          "text": [
            "                   all         32        124       0.89      0.918      0.941       0.54\n"
          ]
        },
        {
          "output_type": "stream",
          "name": "stderr",
          "text": [
            "\n"
          ]
        },
        {
          "output_type": "stream",
          "name": "stdout",
          "text": [
            "\n",
            "      Epoch    GPU_mem   box_loss   cls_loss   dfl_loss  Instances       Size\n"
          ]
        },
        {
          "output_type": "stream",
          "name": "stderr",
          "text": [
            "     55/200      1.97G      1.026     0.5554      1.103        130        224: 100%|██████████| 21/21 [00:05<00:00,  3.85it/s]\n",
            "                 Class     Images  Instances      Box(P          R      mAP50  mAP50-95): 100%|██████████| 1/1 [00:00<00:00,  5.59it/s]"
          ]
        },
        {
          "output_type": "stream",
          "name": "stdout",
          "text": [
            "                   all         32        124      0.911      0.871      0.928      0.546\n"
          ]
        },
        {
          "output_type": "stream",
          "name": "stderr",
          "text": [
            "\n"
          ]
        },
        {
          "output_type": "stream",
          "name": "stdout",
          "text": [
            "\n",
            "      Epoch    GPU_mem   box_loss   cls_loss   dfl_loss  Instances       Size\n"
          ]
        },
        {
          "output_type": "stream",
          "name": "stderr",
          "text": [
            "     56/200      1.97G     0.9396     0.5283        1.1        101        224: 100%|██████████| 21/21 [00:04<00:00,  4.98it/s]\n",
            "                 Class     Images  Instances      Box(P          R      mAP50  mAP50-95): 100%|██████████| 1/1 [00:00<00:00,  5.86it/s]"
          ]
        },
        {
          "output_type": "stream",
          "name": "stdout",
          "text": [
            "                   all         32        124      0.899      0.859      0.923      0.585\n"
          ]
        },
        {
          "output_type": "stream",
          "name": "stderr",
          "text": [
            "\n"
          ]
        },
        {
          "output_type": "stream",
          "name": "stdout",
          "text": [
            "\n",
            "      Epoch    GPU_mem   box_loss   cls_loss   dfl_loss  Instances       Size\n"
          ]
        },
        {
          "output_type": "stream",
          "name": "stderr",
          "text": [
            "     57/200      2.03G      1.023     0.5587       1.09         88        224: 100%|██████████| 21/21 [00:05<00:00,  3.58it/s]\n",
            "                 Class     Images  Instances      Box(P          R      mAP50  mAP50-95): 100%|██████████| 1/1 [00:00<00:00,  5.62it/s]"
          ]
        },
        {
          "output_type": "stream",
          "name": "stdout",
          "text": [
            "                   all         32        124      0.896      0.836      0.902      0.557\n"
          ]
        },
        {
          "output_type": "stream",
          "name": "stderr",
          "text": [
            "\n"
          ]
        },
        {
          "output_type": "stream",
          "name": "stdout",
          "text": [
            "\n",
            "      Epoch    GPU_mem   box_loss   cls_loss   dfl_loss  Instances       Size\n"
          ]
        },
        {
          "output_type": "stream",
          "name": "stderr",
          "text": [
            "     58/200      1.97G      1.024     0.5506      1.089        185        224: 100%|██████████| 21/21 [00:04<00:00,  4.97it/s]\n",
            "                 Class     Images  Instances      Box(P          R      mAP50  mAP50-95): 100%|██████████| 1/1 [00:00<00:00,  5.44it/s]"
          ]
        },
        {
          "output_type": "stream",
          "name": "stdout",
          "text": [
            "                   all         32        124      0.888      0.831      0.895      0.527\n"
          ]
        },
        {
          "output_type": "stream",
          "name": "stderr",
          "text": [
            "\n"
          ]
        },
        {
          "output_type": "stream",
          "name": "stdout",
          "text": [
            "\n",
            "      Epoch    GPU_mem   box_loss   cls_loss   dfl_loss  Instances       Size\n"
          ]
        },
        {
          "output_type": "stream",
          "name": "stderr",
          "text": [
            "     59/200      1.97G     0.9877     0.5477      1.089         86        224: 100%|██████████| 21/21 [00:04<00:00,  4.51it/s]\n",
            "                 Class     Images  Instances      Box(P          R      mAP50  mAP50-95): 100%|██████████| 1/1 [00:00<00:00,  3.73it/s]"
          ]
        },
        {
          "output_type": "stream",
          "name": "stdout",
          "text": [
            "                   all         32        124      0.897      0.841      0.879      0.522\n"
          ]
        },
        {
          "output_type": "stream",
          "name": "stderr",
          "text": [
            "\n"
          ]
        },
        {
          "output_type": "stream",
          "name": "stdout",
          "text": [
            "\n",
            "      Epoch    GPU_mem   box_loss   cls_loss   dfl_loss  Instances       Size\n"
          ]
        },
        {
          "output_type": "stream",
          "name": "stderr",
          "text": [
            "     60/200      1.97G     0.9892     0.5369      1.073        120        224: 100%|██████████| 21/21 [00:04<00:00,  4.26it/s]\n",
            "                 Class     Images  Instances      Box(P          R      mAP50  mAP50-95): 100%|██████████| 1/1 [00:00<00:00,  5.37it/s]"
          ]
        },
        {
          "output_type": "stream",
          "name": "stdout",
          "text": [
            "                   all         32        124      0.934      0.839       0.92      0.575\n"
          ]
        },
        {
          "output_type": "stream",
          "name": "stderr",
          "text": [
            "\n"
          ]
        },
        {
          "output_type": "stream",
          "name": "stdout",
          "text": [
            "\n",
            "      Epoch    GPU_mem   box_loss   cls_loss   dfl_loss  Instances       Size\n"
          ]
        },
        {
          "output_type": "stream",
          "name": "stderr",
          "text": [
            "     61/200      2.03G     0.9566      0.523      1.076        116        224: 100%|██████████| 21/21 [00:04<00:00,  5.00it/s]\n",
            "                 Class     Images  Instances      Box(P          R      mAP50  mAP50-95): 100%|██████████| 1/1 [00:00<00:00,  5.91it/s]"
          ]
        },
        {
          "output_type": "stream",
          "name": "stdout",
          "text": [
            "                   all         32        124       0.84      0.848      0.892      0.552\n"
          ]
        },
        {
          "output_type": "stream",
          "name": "stderr",
          "text": [
            "\n"
          ]
        },
        {
          "output_type": "stream",
          "name": "stdout",
          "text": [
            "\n",
            "      Epoch    GPU_mem   box_loss   cls_loss   dfl_loss  Instances       Size\n"
          ]
        },
        {
          "output_type": "stream",
          "name": "stderr",
          "text": [
            "     62/200      1.97G     0.9547     0.5318      1.081         74        224: 100%|██████████| 21/21 [00:06<00:00,  3.36it/s]\n",
            "                 Class     Images  Instances      Box(P          R      mAP50  mAP50-95): 100%|██████████| 1/1 [00:00<00:00,  4.01it/s]"
          ]
        },
        {
          "output_type": "stream",
          "name": "stdout",
          "text": [
            "                   all         32        124      0.883      0.823      0.891      0.543\n"
          ]
        },
        {
          "output_type": "stream",
          "name": "stderr",
          "text": [
            "\n"
          ]
        },
        {
          "output_type": "stream",
          "name": "stdout",
          "text": [
            "\n",
            "      Epoch    GPU_mem   box_loss   cls_loss   dfl_loss  Instances       Size\n"
          ]
        },
        {
          "output_type": "stream",
          "name": "stderr",
          "text": [
            "     63/200      1.97G     0.9493     0.5195      1.081        122        224: 100%|██████████| 21/21 [00:04<00:00,  4.97it/s]\n",
            "                 Class     Images  Instances      Box(P          R      mAP50  mAP50-95): 100%|██████████| 1/1 [00:00<00:00,  5.57it/s]"
          ]
        },
        {
          "output_type": "stream",
          "name": "stdout",
          "text": [
            "                   all         32        124      0.863      0.847      0.904      0.567\n"
          ]
        },
        {
          "output_type": "stream",
          "name": "stderr",
          "text": [
            "\n"
          ]
        },
        {
          "output_type": "stream",
          "name": "stdout",
          "text": [
            "\n",
            "      Epoch    GPU_mem   box_loss   cls_loss   dfl_loss  Instances       Size\n"
          ]
        },
        {
          "output_type": "stream",
          "name": "stderr",
          "text": [
            "     64/200      1.96G     0.9287     0.5144      1.072         70        224: 100%|██████████| 21/21 [00:04<00:00,  4.46it/s]\n",
            "                 Class     Images  Instances      Box(P          R      mAP50  mAP50-95): 100%|██████████| 1/1 [00:00<00:00,  3.86it/s]"
          ]
        },
        {
          "output_type": "stream",
          "name": "stdout",
          "text": [
            "                   all         32        124      0.874      0.899      0.931      0.596\n"
          ]
        },
        {
          "output_type": "stream",
          "name": "stderr",
          "text": [
            "\n"
          ]
        },
        {
          "output_type": "stream",
          "name": "stdout",
          "text": [
            "\n",
            "      Epoch    GPU_mem   box_loss   cls_loss   dfl_loss  Instances       Size\n"
          ]
        },
        {
          "output_type": "stream",
          "name": "stderr",
          "text": [
            "     65/200      2.03G     0.9533      0.511      1.073        111        224: 100%|██████████| 21/21 [00:04<00:00,  4.57it/s]\n",
            "                 Class     Images  Instances      Box(P          R      mAP50  mAP50-95): 100%|██████████| 1/1 [00:00<00:00,  5.49it/s]"
          ]
        },
        {
          "output_type": "stream",
          "name": "stdout",
          "text": [
            "                   all         32        124      0.912      0.837      0.917      0.552\n"
          ]
        },
        {
          "output_type": "stream",
          "name": "stderr",
          "text": [
            "\n"
          ]
        },
        {
          "output_type": "stream",
          "name": "stdout",
          "text": [
            "\n",
            "      Epoch    GPU_mem   box_loss   cls_loss   dfl_loss  Instances       Size\n"
          ]
        },
        {
          "output_type": "stream",
          "name": "stderr",
          "text": [
            "     66/200      1.97G     0.9547     0.5297      1.076        175        224: 100%|██████████| 21/21 [00:04<00:00,  5.05it/s]\n",
            "                 Class     Images  Instances      Box(P          R      mAP50  mAP50-95): 100%|██████████| 1/1 [00:00<00:00,  5.80it/s]"
          ]
        },
        {
          "output_type": "stream",
          "name": "stdout",
          "text": [
            "                   all         32        124       0.81      0.863      0.892      0.548\n"
          ]
        },
        {
          "output_type": "stream",
          "name": "stderr",
          "text": [
            "\n"
          ]
        },
        {
          "output_type": "stream",
          "name": "stdout",
          "text": [
            "\n",
            "      Epoch    GPU_mem   box_loss   cls_loss   dfl_loss  Instances       Size\n"
          ]
        },
        {
          "output_type": "stream",
          "name": "stderr",
          "text": [
            "     67/200      1.97G     0.9478     0.5211      1.085        148        224: 100%|██████████| 21/21 [00:06<00:00,  3.34it/s]\n",
            "                 Class     Images  Instances      Box(P          R      mAP50  mAP50-95): 100%|██████████| 1/1 [00:00<00:00,  5.77it/s]"
          ]
        },
        {
          "output_type": "stream",
          "name": "stdout",
          "text": [
            "                   all         32        124      0.948      0.823      0.915      0.577\n"
          ]
        },
        {
          "output_type": "stream",
          "name": "stderr",
          "text": [
            "\n"
          ]
        },
        {
          "output_type": "stream",
          "name": "stdout",
          "text": [
            "\n",
            "      Epoch    GPU_mem   box_loss   cls_loss   dfl_loss  Instances       Size\n"
          ]
        },
        {
          "output_type": "stream",
          "name": "stderr",
          "text": [
            "     68/200      1.97G     0.9316     0.4981      1.066         73        224: 100%|██████████| 21/21 [00:04<00:00,  5.00it/s]\n",
            "                 Class     Images  Instances      Box(P          R      mAP50  mAP50-95): 100%|██████████| 1/1 [00:00<00:00,  5.73it/s]"
          ]
        },
        {
          "output_type": "stream",
          "name": "stdout",
          "text": [
            "                   all         32        124      0.927      0.815      0.911      0.545\n"
          ]
        },
        {
          "output_type": "stream",
          "name": "stderr",
          "text": [
            "\n"
          ]
        },
        {
          "output_type": "stream",
          "name": "stdout",
          "text": [
            "\n",
            "      Epoch    GPU_mem   box_loss   cls_loss   dfl_loss  Instances       Size\n"
          ]
        },
        {
          "output_type": "stream",
          "name": "stderr",
          "text": [
            "     69/200      2.02G     0.8916     0.4971      1.053         86        224: 100%|██████████| 21/21 [00:04<00:00,  4.29it/s]\n",
            "                 Class     Images  Instances      Box(P          R      mAP50  mAP50-95): 100%|██████████| 1/1 [00:00<00:00,  3.42it/s]"
          ]
        },
        {
          "output_type": "stream",
          "name": "stdout",
          "text": [
            "                   all         32        124      0.868      0.847      0.906      0.544\n"
          ]
        },
        {
          "output_type": "stream",
          "name": "stderr",
          "text": [
            "\n"
          ]
        },
        {
          "output_type": "stream",
          "name": "stdout",
          "text": [
            "\n",
            "      Epoch    GPU_mem   box_loss   cls_loss   dfl_loss  Instances       Size\n"
          ]
        },
        {
          "output_type": "stream",
          "name": "stderr",
          "text": [
            "     70/200      1.97G     0.9056     0.5031      1.059         86        224: 100%|██████████| 21/21 [00:04<00:00,  4.85it/s]\n",
            "                 Class     Images  Instances      Box(P          R      mAP50  mAP50-95): 100%|██████████| 1/1 [00:00<00:00,  5.76it/s]"
          ]
        },
        {
          "output_type": "stream",
          "name": "stdout",
          "text": [
            "                   all         32        124      0.881      0.823      0.896      0.524\n"
          ]
        },
        {
          "output_type": "stream",
          "name": "stderr",
          "text": [
            "\n"
          ]
        },
        {
          "output_type": "stream",
          "name": "stdout",
          "text": [
            "\n",
            "      Epoch    GPU_mem   box_loss   cls_loss   dfl_loss  Instances       Size\n"
          ]
        },
        {
          "output_type": "stream",
          "name": "stderr",
          "text": [
            "     71/200      1.97G     0.9449     0.5121      1.056        118        224: 100%|██████████| 21/21 [00:04<00:00,  4.97it/s]\n",
            "                 Class     Images  Instances      Box(P          R      mAP50  mAP50-95): 100%|██████████| 1/1 [00:00<00:00,  5.49it/s]"
          ]
        },
        {
          "output_type": "stream",
          "name": "stdout",
          "text": [
            "                   all         32        124      0.881      0.837      0.896       0.54\n"
          ]
        },
        {
          "output_type": "stream",
          "name": "stderr",
          "text": [
            "\n"
          ]
        },
        {
          "output_type": "stream",
          "name": "stdout",
          "text": [
            "\n",
            "      Epoch    GPU_mem   box_loss   cls_loss   dfl_loss  Instances       Size\n"
          ]
        },
        {
          "output_type": "stream",
          "name": "stderr",
          "text": [
            "     72/200      1.99G     0.9285     0.5062      1.057        112        224: 100%|██████████| 21/21 [00:06<00:00,  3.38it/s]\n",
            "                 Class     Images  Instances      Box(P          R      mAP50  mAP50-95): 100%|██████████| 1/1 [00:00<00:00,  3.95it/s]"
          ]
        },
        {
          "output_type": "stream",
          "name": "stdout",
          "text": [
            "                   all         32        124      0.848      0.903       0.93      0.569\n"
          ]
        },
        {
          "output_type": "stream",
          "name": "stderr",
          "text": [
            "\n"
          ]
        },
        {
          "output_type": "stream",
          "name": "stdout",
          "text": [
            "\n",
            "      Epoch    GPU_mem   box_loss   cls_loss   dfl_loss  Instances       Size\n"
          ]
        },
        {
          "output_type": "stream",
          "name": "stderr",
          "text": [
            "     73/200      2.02G     0.9178     0.5029      1.059         90        224: 100%|██████████| 21/21 [00:04<00:00,  4.64it/s]\n",
            "                 Class     Images  Instances      Box(P          R      mAP50  mAP50-95): 100%|██████████| 1/1 [00:00<00:00,  3.84it/s]"
          ]
        },
        {
          "output_type": "stream",
          "name": "stdout",
          "text": [
            "                   all         32        124      0.895      0.879      0.921      0.573\n"
          ]
        },
        {
          "output_type": "stream",
          "name": "stderr",
          "text": [
            "\n"
          ]
        },
        {
          "output_type": "stream",
          "name": "stdout",
          "text": [
            "\n",
            "      Epoch    GPU_mem   box_loss   cls_loss   dfl_loss  Instances       Size\n"
          ]
        },
        {
          "output_type": "stream",
          "name": "stderr",
          "text": [
            "     74/200      1.97G     0.9266     0.4998      1.054        125        224: 100%|██████████| 21/21 [00:05<00:00,  4.00it/s]\n",
            "                 Class     Images  Instances      Box(P          R      mAP50  mAP50-95): 100%|██████████| 1/1 [00:00<00:00,  5.38it/s]"
          ]
        },
        {
          "output_type": "stream",
          "name": "stdout",
          "text": [
            "                   all         32        124      0.903      0.887      0.928      0.589\n"
          ]
        },
        {
          "output_type": "stream",
          "name": "stderr",
          "text": [
            "\n"
          ]
        },
        {
          "output_type": "stream",
          "name": "stdout",
          "text": [
            "\n",
            "      Epoch    GPU_mem   box_loss   cls_loss   dfl_loss  Instances       Size\n"
          ]
        },
        {
          "output_type": "stream",
          "name": "stderr",
          "text": [
            "     75/200      1.97G     0.9002     0.5031      1.063         87        224: 100%|██████████| 21/21 [00:04<00:00,  5.09it/s]\n",
            "                 Class     Images  Instances      Box(P          R      mAP50  mAP50-95): 100%|██████████| 1/1 [00:00<00:00,  5.45it/s]"
          ]
        },
        {
          "output_type": "stream",
          "name": "stdout",
          "text": [
            "                   all         32        124      0.862      0.859      0.907      0.543\n"
          ]
        },
        {
          "output_type": "stream",
          "name": "stderr",
          "text": [
            "\n"
          ]
        },
        {
          "output_type": "stream",
          "name": "stdout",
          "text": [
            "\n",
            "      Epoch    GPU_mem   box_loss   cls_loss   dfl_loss  Instances       Size\n"
          ]
        },
        {
          "output_type": "stream",
          "name": "stderr",
          "text": [
            "     76/200      1.97G     0.9097     0.4983      1.067        150        224: 100%|██████████| 21/21 [00:05<00:00,  3.51it/s]\n",
            "                 Class     Images  Instances      Box(P          R      mAP50  mAP50-95): 100%|██████████| 1/1 [00:00<00:00,  5.56it/s]"
          ]
        },
        {
          "output_type": "stream",
          "name": "stdout",
          "text": [
            "                   all         32        124      0.818      0.836      0.867      0.517\n"
          ]
        },
        {
          "output_type": "stream",
          "name": "stderr",
          "text": [
            "\n"
          ]
        },
        {
          "output_type": "stream",
          "name": "stdout",
          "text": [
            "\n",
            "      Epoch    GPU_mem   box_loss   cls_loss   dfl_loss  Instances       Size\n"
          ]
        },
        {
          "output_type": "stream",
          "name": "stderr",
          "text": [
            "     77/200      2.03G     0.8984      0.493      1.049        122        224: 100%|██████████| 21/21 [00:04<00:00,  5.16it/s]\n",
            "                 Class     Images  Instances      Box(P          R      mAP50  mAP50-95): 100%|██████████| 1/1 [00:00<00:00,  5.41it/s]"
          ]
        },
        {
          "output_type": "stream",
          "name": "stdout",
          "text": [
            "                   all         32        124      0.852      0.871      0.913      0.565\n"
          ]
        },
        {
          "output_type": "stream",
          "name": "stderr",
          "text": [
            "\n"
          ]
        },
        {
          "output_type": "stream",
          "name": "stdout",
          "text": [
            "\n",
            "      Epoch    GPU_mem   box_loss   cls_loss   dfl_loss  Instances       Size\n"
          ]
        },
        {
          "output_type": "stream",
          "name": "stderr",
          "text": [
            "     78/200      1.97G        0.9     0.4993      1.037        113        224: 100%|██████████| 21/21 [00:04<00:00,  4.43it/s]\n",
            "                 Class     Images  Instances      Box(P          R      mAP50  mAP50-95): 100%|██████████| 1/1 [00:00<00:00,  4.16it/s]"
          ]
        },
        {
          "output_type": "stream",
          "name": "stdout",
          "text": [
            "                   all         32        124      0.796      0.879      0.881      0.549\n"
          ]
        },
        {
          "output_type": "stream",
          "name": "stderr",
          "text": [
            "\n"
          ]
        },
        {
          "output_type": "stream",
          "name": "stdout",
          "text": [
            "\n",
            "      Epoch    GPU_mem   box_loss   cls_loss   dfl_loss  Instances       Size\n"
          ]
        },
        {
          "output_type": "stream",
          "name": "stderr",
          "text": [
            "     79/200      1.98G      0.929      0.493       1.05        121        224: 100%|██████████| 21/21 [00:04<00:00,  4.65it/s]\n",
            "                 Class     Images  Instances      Box(P          R      mAP50  mAP50-95): 100%|██████████| 1/1 [00:00<00:00,  5.48it/s]"
          ]
        },
        {
          "output_type": "stream",
          "name": "stdout",
          "text": [
            "                   all         32        124       0.84      0.863      0.898      0.562\n"
          ]
        },
        {
          "output_type": "stream",
          "name": "stderr",
          "text": [
            "\n"
          ]
        },
        {
          "output_type": "stream",
          "name": "stdout",
          "text": [
            "\n",
            "      Epoch    GPU_mem   box_loss   cls_loss   dfl_loss  Instances       Size\n"
          ]
        },
        {
          "output_type": "stream",
          "name": "stderr",
          "text": [
            "     80/200      1.97G     0.8936     0.4947       1.06        135        224: 100%|██████████| 21/21 [00:04<00:00,  5.13it/s]\n",
            "                 Class     Images  Instances      Box(P          R      mAP50  mAP50-95): 100%|██████████| 1/1 [00:00<00:00,  5.51it/s]"
          ]
        },
        {
          "output_type": "stream",
          "name": "stdout",
          "text": [
            "                   all         32        124      0.889      0.855      0.914       0.55\n"
          ]
        },
        {
          "output_type": "stream",
          "name": "stderr",
          "text": [
            "\n"
          ]
        },
        {
          "output_type": "stream",
          "name": "stdout",
          "text": [
            "\n",
            "      Epoch    GPU_mem   box_loss   cls_loss   dfl_loss  Instances       Size\n"
          ]
        },
        {
          "output_type": "stream",
          "name": "stderr",
          "text": [
            "     81/200      2.03G     0.8854     0.4788      1.052         95        224: 100%|██████████| 21/21 [00:05<00:00,  3.55it/s]\n",
            "                 Class     Images  Instances      Box(P          R      mAP50  mAP50-95): 100%|██████████| 1/1 [00:00<00:00,  5.41it/s]"
          ]
        },
        {
          "output_type": "stream",
          "name": "stdout",
          "text": [
            "                   all         32        124      0.902      0.863      0.917      0.567\n"
          ]
        },
        {
          "output_type": "stream",
          "name": "stderr",
          "text": [
            "\n"
          ]
        },
        {
          "output_type": "stream",
          "name": "stdout",
          "text": [
            "\n",
            "      Epoch    GPU_mem   box_loss   cls_loss   dfl_loss  Instances       Size\n"
          ]
        },
        {
          "output_type": "stream",
          "name": "stderr",
          "text": [
            "     82/200      1.97G     0.8824     0.4843      1.063         94        224: 100%|██████████| 21/21 [00:04<00:00,  5.12it/s]\n",
            "                 Class     Images  Instances      Box(P          R      mAP50  mAP50-95): 100%|██████████| 1/1 [00:00<00:00,  5.58it/s]"
          ]
        },
        {
          "output_type": "stream",
          "name": "stdout",
          "text": [
            "                   all         32        124       0.91      0.871      0.926      0.568\n"
          ]
        },
        {
          "output_type": "stream",
          "name": "stderr",
          "text": [
            "\n"
          ]
        },
        {
          "output_type": "stream",
          "name": "stdout",
          "text": [
            "\n",
            "      Epoch    GPU_mem   box_loss   cls_loss   dfl_loss  Instances       Size\n"
          ]
        },
        {
          "output_type": "stream",
          "name": "stderr",
          "text": [
            "     83/200      1.97G     0.9362     0.4999      1.047        109        224: 100%|██████████| 21/21 [00:05<00:00,  3.81it/s]\n",
            "                 Class     Images  Instances      Box(P          R      mAP50  mAP50-95): 100%|██████████| 1/1 [00:00<00:00,  3.35it/s]"
          ]
        },
        {
          "output_type": "stream",
          "name": "stdout",
          "text": [
            "                   all         32        124       0.89       0.85      0.913      0.553\n"
          ]
        },
        {
          "output_type": "stream",
          "name": "stderr",
          "text": [
            "\n"
          ]
        },
        {
          "output_type": "stream",
          "name": "stdout",
          "text": [
            "\n",
            "      Epoch    GPU_mem   box_loss   cls_loss   dfl_loss  Instances       Size\n"
          ]
        },
        {
          "output_type": "stream",
          "name": "stderr",
          "text": [
            "     84/200      1.97G     0.8651     0.4821      1.051         66        224: 100%|██████████| 21/21 [00:04<00:00,  4.97it/s]\n",
            "                 Class     Images  Instances      Box(P          R      mAP50  mAP50-95): 100%|██████████| 1/1 [00:00<00:00,  5.49it/s]"
          ]
        },
        {
          "output_type": "stream",
          "name": "stdout",
          "text": [
            "                   all         32        124       0.86      0.903      0.901      0.564\n"
          ]
        },
        {
          "output_type": "stream",
          "name": "stderr",
          "text": [
            "\n"
          ]
        },
        {
          "output_type": "stream",
          "name": "stdout",
          "text": [
            "\n",
            "      Epoch    GPU_mem   box_loss   cls_loss   dfl_loss  Instances       Size\n"
          ]
        },
        {
          "output_type": "stream",
          "name": "stderr",
          "text": [
            "     85/200      2.03G     0.9327     0.4946      1.036        107        224: 100%|██████████| 21/21 [00:04<00:00,  5.16it/s]\n",
            "                 Class     Images  Instances      Box(P          R      mAP50  mAP50-95): 100%|██████████| 1/1 [00:00<00:00,  3.94it/s]"
          ]
        },
        {
          "output_type": "stream",
          "name": "stdout",
          "text": [
            "                   all         32        124      0.835      0.847      0.895      0.553\n"
          ]
        },
        {
          "output_type": "stream",
          "name": "stderr",
          "text": [
            "\n"
          ]
        },
        {
          "output_type": "stream",
          "name": "stdout",
          "text": [
            "\n",
            "      Epoch    GPU_mem   box_loss   cls_loss   dfl_loss  Instances       Size\n"
          ]
        },
        {
          "output_type": "stream",
          "name": "stderr",
          "text": [
            "     86/200      1.97G      0.889     0.4814      1.054        157        224: 100%|██████████| 21/21 [00:05<00:00,  3.99it/s]\n",
            "                 Class     Images  Instances      Box(P          R      mAP50  mAP50-95): 100%|██████████| 1/1 [00:00<00:00,  5.38it/s]"
          ]
        },
        {
          "output_type": "stream",
          "name": "stdout",
          "text": [
            "                   all         32        124      0.852      0.839      0.913       0.56\n"
          ]
        },
        {
          "output_type": "stream",
          "name": "stderr",
          "text": [
            "\n"
          ]
        },
        {
          "output_type": "stream",
          "name": "stdout",
          "text": [
            "\n",
            "      Epoch    GPU_mem   box_loss   cls_loss   dfl_loss  Instances       Size\n"
          ]
        },
        {
          "output_type": "stream",
          "name": "stderr",
          "text": [
            "     87/200      1.97G     0.8913     0.4722       1.05         66        224: 100%|██████████| 21/21 [00:04<00:00,  5.15it/s]\n",
            "                 Class     Images  Instances      Box(P          R      mAP50  mAP50-95): 100%|██████████| 1/1 [00:00<00:00,  5.79it/s]"
          ]
        },
        {
          "output_type": "stream",
          "name": "stdout",
          "text": [
            "                   all         32        124      0.878      0.879      0.932      0.572\n"
          ]
        },
        {
          "output_type": "stream",
          "name": "stderr",
          "text": [
            "\n"
          ]
        },
        {
          "output_type": "stream",
          "name": "stdout",
          "text": [
            "\n",
            "      Epoch    GPU_mem   box_loss   cls_loss   dfl_loss  Instances       Size\n"
          ]
        },
        {
          "output_type": "stream",
          "name": "stderr",
          "text": [
            "     88/200      1.97G     0.9144     0.4897      1.055        127        224: 100%|██████████| 21/21 [00:05<00:00,  3.62it/s]\n",
            "                 Class     Images  Instances      Box(P          R      mAP50  mAP50-95): 100%|██████████| 1/1 [00:00<00:00,  5.39it/s]"
          ]
        },
        {
          "output_type": "stream",
          "name": "stdout",
          "text": [
            "                   all         32        124       0.88      0.883      0.921      0.564\n"
          ]
        },
        {
          "output_type": "stream",
          "name": "stderr",
          "text": [
            "\n"
          ]
        },
        {
          "output_type": "stream",
          "name": "stdout",
          "text": [
            "\n",
            "      Epoch    GPU_mem   box_loss   cls_loss   dfl_loss  Instances       Size\n"
          ]
        },
        {
          "output_type": "stream",
          "name": "stderr",
          "text": [
            "     89/200      2.02G     0.9361     0.5046      1.053        132        224: 100%|██████████| 21/21 [00:04<00:00,  5.12it/s]\n",
            "                 Class     Images  Instances      Box(P          R      mAP50  mAP50-95): 100%|██████████| 1/1 [00:00<00:00,  5.80it/s]"
          ]
        },
        {
          "output_type": "stream",
          "name": "stdout",
          "text": [
            "                   all         32        124      0.868      0.901      0.922      0.577\n"
          ]
        },
        {
          "output_type": "stream",
          "name": "stderr",
          "text": [
            "\n"
          ]
        },
        {
          "output_type": "stream",
          "name": "stdout",
          "text": [
            "\n",
            "      Epoch    GPU_mem   box_loss   cls_loss   dfl_loss  Instances       Size\n"
          ]
        },
        {
          "output_type": "stream",
          "name": "stderr",
          "text": [
            "     90/200      1.98G     0.9292      0.502      1.048        102        224: 100%|██████████| 21/21 [00:04<00:00,  4.62it/s]\n",
            "                 Class     Images  Instances      Box(P          R      mAP50  mAP50-95): 100%|██████████| 1/1 [00:00<00:00,  3.93it/s]"
          ]
        },
        {
          "output_type": "stream",
          "name": "stdout",
          "text": [
            "                   all         32        124      0.894      0.884      0.921      0.569\n"
          ]
        },
        {
          "output_type": "stream",
          "name": "stderr",
          "text": [
            "\n"
          ]
        },
        {
          "output_type": "stream",
          "name": "stdout",
          "text": [
            "\n",
            "      Epoch    GPU_mem   box_loss   cls_loss   dfl_loss  Instances       Size\n"
          ]
        },
        {
          "output_type": "stream",
          "name": "stderr",
          "text": [
            "     91/200      1.96G     0.8829     0.4717      1.037        118        224: 100%|██████████| 21/21 [00:04<00:00,  4.32it/s]\n",
            "                 Class     Images  Instances      Box(P          R      mAP50  mAP50-95): 100%|██████████| 1/1 [00:00<00:00,  5.81it/s]"
          ]
        },
        {
          "output_type": "stream",
          "name": "stdout",
          "text": [
            "                   all         32        124      0.905      0.839      0.913       0.57\n"
          ]
        },
        {
          "output_type": "stream",
          "name": "stderr",
          "text": [
            "\n"
          ]
        },
        {
          "output_type": "stream",
          "name": "stdout",
          "text": [
            "\n",
            "      Epoch    GPU_mem   box_loss   cls_loss   dfl_loss  Instances       Size\n"
          ]
        },
        {
          "output_type": "stream",
          "name": "stderr",
          "text": [
            "     92/200      1.97G     0.8591     0.4653      1.021         92        224: 100%|██████████| 21/21 [00:04<00:00,  5.06it/s]\n",
            "                 Class     Images  Instances      Box(P          R      mAP50  mAP50-95): 100%|██████████| 1/1 [00:00<00:00,  5.77it/s]"
          ]
        },
        {
          "output_type": "stream",
          "name": "stdout",
          "text": [
            "                   all         32        124      0.844      0.863      0.908      0.568\n"
          ]
        },
        {
          "output_type": "stream",
          "name": "stderr",
          "text": [
            "\n"
          ]
        },
        {
          "output_type": "stream",
          "name": "stdout",
          "text": [
            "\n",
            "      Epoch    GPU_mem   box_loss   cls_loss   dfl_loss  Instances       Size\n"
          ]
        },
        {
          "output_type": "stream",
          "name": "stderr",
          "text": [
            "     93/200      2.04G     0.8379      0.452      1.033         89        224: 100%|██████████| 21/21 [00:05<00:00,  3.53it/s]\n",
            "                 Class     Images  Instances      Box(P          R      mAP50  mAP50-95): 100%|██████████| 1/1 [00:00<00:00,  5.21it/s]"
          ]
        },
        {
          "output_type": "stream",
          "name": "stdout",
          "text": [
            "                   all         32        124      0.842      0.847      0.909      0.551\n"
          ]
        },
        {
          "output_type": "stream",
          "name": "stderr",
          "text": [
            "\n"
          ]
        },
        {
          "output_type": "stream",
          "name": "stdout",
          "text": [
            "\n",
            "      Epoch    GPU_mem   box_loss   cls_loss   dfl_loss  Instances       Size\n"
          ]
        },
        {
          "output_type": "stream",
          "name": "stderr",
          "text": [
            "     94/200      1.96G      0.898     0.4649       1.03         79        224: 100%|██████████| 21/21 [00:04<00:00,  4.93it/s]\n",
            "                 Class     Images  Instances      Box(P          R      mAP50  mAP50-95): 100%|██████████| 1/1 [00:00<00:00,  5.64it/s]"
          ]
        },
        {
          "output_type": "stream",
          "name": "stdout",
          "text": [
            "                   all         32        124      0.878      0.855      0.922      0.565\n"
          ]
        },
        {
          "output_type": "stream",
          "name": "stderr",
          "text": [
            "\n"
          ]
        },
        {
          "output_type": "stream",
          "name": "stdout",
          "text": [
            "\n",
            "      Epoch    GPU_mem   box_loss   cls_loss   dfl_loss  Instances       Size\n"
          ]
        },
        {
          "output_type": "stream",
          "name": "stderr",
          "text": [
            "     95/200      1.97G     0.8146     0.4564      1.033         82        224: 100%|██████████| 21/21 [00:04<00:00,  4.24it/s]\n",
            "                 Class     Images  Instances      Box(P          R      mAP50  mAP50-95): 100%|██████████| 1/1 [00:00<00:00,  3.96it/s]"
          ]
        },
        {
          "output_type": "stream",
          "name": "stdout",
          "text": [
            "                   all         32        124      0.862      0.857      0.909      0.562\n"
          ]
        },
        {
          "output_type": "stream",
          "name": "stderr",
          "text": [
            "\n"
          ]
        },
        {
          "output_type": "stream",
          "name": "stdout",
          "text": [
            "\n",
            "      Epoch    GPU_mem   box_loss   cls_loss   dfl_loss  Instances       Size\n"
          ]
        },
        {
          "output_type": "stream",
          "name": "stderr",
          "text": [
            "     96/200      1.96G     0.8689     0.4654      1.035         66        224: 100%|██████████| 21/21 [00:04<00:00,  4.48it/s]\n",
            "                 Class     Images  Instances      Box(P          R      mAP50  mAP50-95): 100%|██████████| 1/1 [00:00<00:00,  5.29it/s]"
          ]
        },
        {
          "output_type": "stream",
          "name": "stdout",
          "text": [
            "                   all         32        124      0.869      0.907      0.919      0.586\n"
          ]
        },
        {
          "output_type": "stream",
          "name": "stderr",
          "text": [
            "\n"
          ]
        },
        {
          "output_type": "stream",
          "name": "stdout",
          "text": [
            "\n",
            "      Epoch    GPU_mem   box_loss   cls_loss   dfl_loss  Instances       Size\n"
          ]
        },
        {
          "output_type": "stream",
          "name": "stderr",
          "text": [
            "     97/200      2.04G     0.8497     0.4648      1.043        101        224: 100%|██████████| 21/21 [00:06<00:00,  3.34it/s]\n",
            "                 Class     Images  Instances      Box(P          R      mAP50  mAP50-95): 100%|██████████| 1/1 [00:00<00:00,  3.78it/s]"
          ]
        },
        {
          "output_type": "stream",
          "name": "stdout",
          "text": [
            "                   all         32        124      0.898      0.853      0.922      0.554\n"
          ]
        },
        {
          "output_type": "stream",
          "name": "stderr",
          "text": [
            "\n"
          ]
        },
        {
          "output_type": "stream",
          "name": "stdout",
          "text": [
            "\n",
            "      Epoch    GPU_mem   box_loss   cls_loss   dfl_loss  Instances       Size\n"
          ]
        },
        {
          "output_type": "stream",
          "name": "stderr",
          "text": [
            "     98/200      1.97G     0.9031     0.4786      1.047        117        224: 100%|██████████| 21/21 [00:04<00:00,  4.37it/s]\n",
            "                 Class     Images  Instances      Box(P          R      mAP50  mAP50-95): 100%|██████████| 1/1 [00:00<00:00,  5.43it/s]"
          ]
        },
        {
          "output_type": "stream",
          "name": "stdout",
          "text": [
            "                   all         32        124      0.914      0.862      0.932      0.591\n"
          ]
        },
        {
          "output_type": "stream",
          "name": "stderr",
          "text": [
            "\n"
          ]
        },
        {
          "output_type": "stream",
          "name": "stdout",
          "text": [
            "\n",
            "      Epoch    GPU_mem   box_loss   cls_loss   dfl_loss  Instances       Size\n"
          ]
        },
        {
          "output_type": "stream",
          "name": "stderr",
          "text": [
            "     99/200      1.97G     0.8328     0.4493      1.018        180        224: 100%|██████████| 21/21 [00:04<00:00,  5.07it/s]\n",
            "                 Class     Images  Instances      Box(P          R      mAP50  mAP50-95): 100%|██████████| 1/1 [00:00<00:00,  5.48it/s]"
          ]
        },
        {
          "output_type": "stream",
          "name": "stdout",
          "text": [
            "                   all         32        124      0.928      0.823      0.921      0.555\n"
          ]
        },
        {
          "output_type": "stream",
          "name": "stderr",
          "text": [
            "\n"
          ]
        },
        {
          "output_type": "stream",
          "name": "stdout",
          "text": [
            "\n",
            "      Epoch    GPU_mem   box_loss   cls_loss   dfl_loss  Instances       Size\n"
          ]
        },
        {
          "output_type": "stream",
          "name": "stderr",
          "text": [
            "    100/200      1.96G     0.8361     0.4503       1.01        119        224: 100%|██████████| 21/21 [00:06<00:00,  3.35it/s]\n",
            "                 Class     Images  Instances      Box(P          R      mAP50  mAP50-95): 100%|██████████| 1/1 [00:00<00:00,  5.85it/s]"
          ]
        },
        {
          "output_type": "stream",
          "name": "stdout",
          "text": [
            "                   all         32        124      0.876      0.857      0.911      0.549\n"
          ]
        },
        {
          "output_type": "stream",
          "name": "stderr",
          "text": [
            "\n"
          ]
        },
        {
          "output_type": "stream",
          "name": "stdout",
          "text": [
            "\n",
            "      Epoch    GPU_mem   box_loss   cls_loss   dfl_loss  Instances       Size\n"
          ]
        },
        {
          "output_type": "stream",
          "name": "stderr",
          "text": [
            "    101/200      2.03G     0.8212     0.4484      1.013         55        224: 100%|██████████| 21/21 [00:04<00:00,  5.08it/s]\n",
            "                 Class     Images  Instances      Box(P          R      mAP50  mAP50-95): 100%|██████████| 1/1 [00:00<00:00,  5.34it/s]"
          ]
        },
        {
          "output_type": "stream",
          "name": "stdout",
          "text": [
            "                   all         32        124      0.894      0.855       0.91      0.579\n"
          ]
        },
        {
          "output_type": "stream",
          "name": "stderr",
          "text": [
            "\n"
          ]
        },
        {
          "output_type": "stream",
          "name": "stdout",
          "text": [
            "\n",
            "      Epoch    GPU_mem   box_loss   cls_loss   dfl_loss  Instances       Size\n"
          ]
        },
        {
          "output_type": "stream",
          "name": "stderr",
          "text": [
            "    102/200      1.97G     0.7858     0.4367      1.021        128        224: 100%|██████████| 21/21 [00:04<00:00,  4.69it/s]\n",
            "                 Class     Images  Instances      Box(P          R      mAP50  mAP50-95): 100%|██████████| 1/1 [00:00<00:00,  4.03it/s]"
          ]
        },
        {
          "output_type": "stream",
          "name": "stdout",
          "text": [
            "                   all         32        124      0.839      0.871      0.896      0.558\n"
          ]
        },
        {
          "output_type": "stream",
          "name": "stderr",
          "text": [
            "\n"
          ]
        },
        {
          "output_type": "stream",
          "name": "stdout",
          "text": [
            "\n",
            "      Epoch    GPU_mem   box_loss   cls_loss   dfl_loss  Instances       Size\n"
          ]
        },
        {
          "output_type": "stream",
          "name": "stderr",
          "text": [
            "    103/200      1.97G     0.8537     0.4632      1.034         95        224: 100%|██████████| 21/21 [00:05<00:00,  4.00it/s]\n",
            "                 Class     Images  Instances      Box(P          R      mAP50  mAP50-95): 100%|██████████| 1/1 [00:00<00:00,  5.59it/s]"
          ]
        },
        {
          "output_type": "stream",
          "name": "stdout",
          "text": [
            "                   all         32        124      0.843      0.911       0.93      0.559\n"
          ]
        },
        {
          "output_type": "stream",
          "name": "stderr",
          "text": [
            "\n"
          ]
        },
        {
          "output_type": "stream",
          "name": "stdout",
          "text": [
            "\n",
            "      Epoch    GPU_mem   box_loss   cls_loss   dfl_loss  Instances       Size\n"
          ]
        },
        {
          "output_type": "stream",
          "name": "stderr",
          "text": [
            "    104/200      1.97G      0.799     0.4376      1.008         71        224: 100%|██████████| 21/21 [00:04<00:00,  4.94it/s]\n",
            "                 Class     Images  Instances      Box(P          R      mAP50  mAP50-95): 100%|██████████| 1/1 [00:00<00:00,  5.46it/s]"
          ]
        },
        {
          "output_type": "stream",
          "name": "stdout",
          "text": [
            "                   all         32        124       0.91      0.823       0.91       0.57\n"
          ]
        },
        {
          "output_type": "stream",
          "name": "stderr",
          "text": [
            "\n"
          ]
        },
        {
          "output_type": "stream",
          "name": "stdout",
          "text": [
            "\n",
            "      Epoch    GPU_mem   box_loss   cls_loss   dfl_loss  Instances       Size\n"
          ]
        },
        {
          "output_type": "stream",
          "name": "stderr",
          "text": [
            "    105/200      2.02G      0.837     0.4543       1.03        156        224: 100%|██████████| 21/21 [00:06<00:00,  3.47it/s]\n",
            "                 Class     Images  Instances      Box(P          R      mAP50  mAP50-95): 100%|██████████| 1/1 [00:00<00:00,  4.03it/s]"
          ]
        },
        {
          "output_type": "stream",
          "name": "stdout",
          "text": [
            "                   all         32        124       0.86      0.844      0.898      0.547\n"
          ]
        },
        {
          "output_type": "stream",
          "name": "stderr",
          "text": [
            "\n"
          ]
        },
        {
          "output_type": "stream",
          "name": "stdout",
          "text": [
            "\n",
            "      Epoch    GPU_mem   box_loss   cls_loss   dfl_loss  Instances       Size\n"
          ]
        },
        {
          "output_type": "stream",
          "name": "stderr",
          "text": [
            "    106/200      1.97G     0.8129     0.4329      1.005         62        224: 100%|██████████| 21/21 [00:04<00:00,  5.04it/s]\n",
            "                 Class     Images  Instances      Box(P          R      mAP50  mAP50-95): 100%|██████████| 1/1 [00:00<00:00,  5.53it/s]"
          ]
        },
        {
          "output_type": "stream",
          "name": "stdout",
          "text": [
            "                   all         32        124      0.915      0.871      0.928      0.574\n"
          ]
        },
        {
          "output_type": "stream",
          "name": "stderr",
          "text": [
            "\n"
          ]
        },
        {
          "output_type": "stream",
          "name": "stdout",
          "text": [
            "\n",
            "      Epoch    GPU_mem   box_loss   cls_loss   dfl_loss  Instances       Size\n"
          ]
        },
        {
          "output_type": "stream",
          "name": "stderr",
          "text": [
            "    107/200      1.97G     0.8045     0.4362      1.002        140        224: 100%|██████████| 21/21 [00:04<00:00,  4.87it/s]\n",
            "                 Class     Images  Instances      Box(P          R      mAP50  mAP50-95): 100%|██████████| 1/1 [00:00<00:00,  4.13it/s]"
          ]
        },
        {
          "output_type": "stream",
          "name": "stdout",
          "text": [
            "                   all         32        124      0.915      0.867       0.92      0.567\n"
          ]
        },
        {
          "output_type": "stream",
          "name": "stderr",
          "text": [
            "\n"
          ]
        },
        {
          "output_type": "stream",
          "name": "stdout",
          "text": [
            "\n",
            "      Epoch    GPU_mem   box_loss   cls_loss   dfl_loss  Instances       Size\n"
          ]
        },
        {
          "output_type": "stream",
          "name": "stderr",
          "text": [
            "    108/200      1.97G      0.785     0.4232      1.018        107        224: 100%|██████████| 21/21 [00:05<00:00,  4.01it/s]\n",
            "                 Class     Images  Instances      Box(P          R      mAP50  mAP50-95): 100%|██████████| 1/1 [00:00<00:00,  5.69it/s]"
          ]
        },
        {
          "output_type": "stream",
          "name": "stdout",
          "text": [
            "                   all         32        124      0.937      0.844      0.931      0.579\n"
          ]
        },
        {
          "output_type": "stream",
          "name": "stderr",
          "text": [
            "\n"
          ]
        },
        {
          "output_type": "stream",
          "name": "stdout",
          "text": [
            "\n",
            "      Epoch    GPU_mem   box_loss   cls_loss   dfl_loss  Instances       Size\n"
          ]
        },
        {
          "output_type": "stream",
          "name": "stderr",
          "text": [
            "    109/200      2.03G     0.7891     0.4212      0.995        102        224: 100%|██████████| 21/21 [00:04<00:00,  4.87it/s]\n",
            "                 Class     Images  Instances      Box(P          R      mAP50  mAP50-95): 100%|██████████| 1/1 [00:00<00:00,  5.79it/s]"
          ]
        },
        {
          "output_type": "stream",
          "name": "stdout",
          "text": [
            "                   all         32        124      0.888      0.895      0.929      0.583\n"
          ]
        },
        {
          "output_type": "stream",
          "name": "stderr",
          "text": [
            "\n"
          ]
        },
        {
          "output_type": "stream",
          "name": "stdout",
          "text": [
            "\n",
            "      Epoch    GPU_mem   box_loss   cls_loss   dfl_loss  Instances       Size\n"
          ]
        },
        {
          "output_type": "stream",
          "name": "stderr",
          "text": [
            "    110/200      1.97G        0.8     0.4254      1.012         90        224: 100%|██████████| 21/21 [00:05<00:00,  3.60it/s]\n",
            "                 Class     Images  Instances      Box(P          R      mAP50  mAP50-95): 100%|██████████| 1/1 [00:00<00:00,  5.35it/s]"
          ]
        },
        {
          "output_type": "stream",
          "name": "stdout",
          "text": [
            "                   all         32        124       0.87      0.863      0.926      0.572\n"
          ]
        },
        {
          "output_type": "stream",
          "name": "stderr",
          "text": [
            "\n"
          ]
        },
        {
          "output_type": "stream",
          "name": "stdout",
          "text": [
            "\n",
            "      Epoch    GPU_mem   box_loss   cls_loss   dfl_loss  Instances       Size\n"
          ]
        },
        {
          "output_type": "stream",
          "name": "stderr",
          "text": [
            "    111/200      1.97G     0.8225     0.4351      1.018        104        224: 100%|██████████| 21/21 [00:04<00:00,  5.06it/s]\n",
            "                 Class     Images  Instances      Box(P          R      mAP50  mAP50-95): 100%|██████████| 1/1 [00:00<00:00,  5.70it/s]"
          ]
        },
        {
          "output_type": "stream",
          "name": "stdout",
          "text": [
            "                   all         32        124       0.91      0.879      0.928      0.574\n"
          ]
        },
        {
          "output_type": "stream",
          "name": "stderr",
          "text": [
            "\n"
          ]
        },
        {
          "output_type": "stream",
          "name": "stdout",
          "text": [
            "\n",
            "      Epoch    GPU_mem   box_loss   cls_loss   dfl_loss  Instances       Size\n"
          ]
        },
        {
          "output_type": "stream",
          "name": "stderr",
          "text": [
            "    112/200      1.97G     0.7849     0.4225     0.9937         87        224: 100%|██████████| 21/21 [00:04<00:00,  4.24it/s]\n",
            "                 Class     Images  Instances      Box(P          R      mAP50  mAP50-95): 100%|██████████| 1/1 [00:00<00:00,  3.78it/s]"
          ]
        },
        {
          "output_type": "stream",
          "name": "stdout",
          "text": [
            "                   all         32        124      0.907      0.871      0.921      0.554\n"
          ]
        },
        {
          "output_type": "stream",
          "name": "stderr",
          "text": [
            "\n"
          ]
        },
        {
          "output_type": "stream",
          "name": "stdout",
          "text": [
            "\n",
            "      Epoch    GPU_mem   box_loss   cls_loss   dfl_loss  Instances       Size\n"
          ]
        },
        {
          "output_type": "stream",
          "name": "stderr",
          "text": [
            "    113/200      2.03G     0.8445     0.4394     0.9938        151        224: 100%|██████████| 21/21 [00:04<00:00,  4.60it/s]\n",
            "                 Class     Images  Instances      Box(P          R      mAP50  mAP50-95): 100%|██████████| 1/1 [00:00<00:00,  5.27it/s]\n"
          ]
        },
        {
          "output_type": "stream",
          "name": "stdout",
          "text": [
            "                   all         32        124      0.873      0.887      0.921      0.577\n",
            "\n",
            "      Epoch    GPU_mem   box_loss   cls_loss   dfl_loss  Instances       Size\n"
          ]
        },
        {
          "output_type": "stream",
          "name": "stderr",
          "text": [
            "    114/200      1.96G      0.784      0.423      1.005        144        224: 100%|██████████| 21/21 [00:04<00:00,  4.79it/s]\n",
            "                 Class     Images  Instances      Box(P          R      mAP50  mAP50-95): 100%|██████████| 1/1 [00:00<00:00,  5.40it/s]"
          ]
        },
        {
          "output_type": "stream",
          "name": "stdout",
          "text": [
            "                   all         32        124      0.885      0.863      0.915      0.566\n"
          ]
        },
        {
          "output_type": "stream",
          "name": "stderr",
          "text": [
            "\n"
          ]
        },
        {
          "output_type": "stream",
          "name": "stdout",
          "text": [
            "\n",
            "      Epoch    GPU_mem   box_loss   cls_loss   dfl_loss  Instances       Size\n"
          ]
        },
        {
          "output_type": "stream",
          "name": "stderr",
          "text": [
            "    115/200      1.96G     0.7754     0.4216     0.9919        104        224: 100%|██████████| 21/21 [00:05<00:00,  3.79it/s]\n",
            "                 Class     Images  Instances      Box(P          R      mAP50  mAP50-95): 100%|██████████| 1/1 [00:00<00:00,  5.67it/s]"
          ]
        },
        {
          "output_type": "stream",
          "name": "stdout",
          "text": [
            "                   all         32        124      0.875      0.903      0.926       0.57\n"
          ]
        },
        {
          "output_type": "stream",
          "name": "stderr",
          "text": [
            "\n"
          ]
        },
        {
          "output_type": "stream",
          "name": "stdout",
          "text": [
            "\n",
            "      Epoch    GPU_mem   box_loss   cls_loss   dfl_loss  Instances       Size\n"
          ]
        },
        {
          "output_type": "stream",
          "name": "stderr",
          "text": [
            "    116/200      1.97G     0.7922     0.4198     0.9995        103        224: 100%|██████████| 21/21 [00:04<00:00,  5.01it/s]\n",
            "                 Class     Images  Instances      Box(P          R      mAP50  mAP50-95): 100%|██████████| 1/1 [00:00<00:00,  5.31it/s]"
          ]
        },
        {
          "output_type": "stream",
          "name": "stdout",
          "text": [
            "                   all         32        124      0.839      0.847      0.903       0.57\n"
          ]
        },
        {
          "output_type": "stream",
          "name": "stderr",
          "text": [
            "\n"
          ]
        },
        {
          "output_type": "stream",
          "name": "stdout",
          "text": [
            "\n",
            "      Epoch    GPU_mem   box_loss   cls_loss   dfl_loss  Instances       Size\n"
          ]
        },
        {
          "output_type": "stream",
          "name": "stderr",
          "text": [
            "    117/200      2.03G     0.7857     0.4156      1.008         95        224: 100%|██████████| 21/21 [00:05<00:00,  3.59it/s]\n",
            "                 Class     Images  Instances      Box(P          R      mAP50  mAP50-95): 100%|██████████| 1/1 [00:00<00:00,  3.96it/s]"
          ]
        },
        {
          "output_type": "stream",
          "name": "stdout",
          "text": [
            "                   all         32        124      0.848      0.857      0.932       0.56\n"
          ]
        },
        {
          "output_type": "stream",
          "name": "stderr",
          "text": [
            "\n"
          ]
        },
        {
          "output_type": "stream",
          "name": "stdout",
          "text": [
            "\n",
            "      Epoch    GPU_mem   box_loss   cls_loss   dfl_loss  Instances       Size\n"
          ]
        },
        {
          "output_type": "stream",
          "name": "stderr",
          "text": [
            "    118/200      1.97G     0.7553     0.4173      1.008        125        224: 100%|██████████| 21/21 [00:04<00:00,  4.60it/s]\n",
            "                 Class     Images  Instances      Box(P          R      mAP50  mAP50-95): 100%|██████████| 1/1 [00:00<00:00,  4.89it/s]"
          ]
        },
        {
          "output_type": "stream",
          "name": "stdout",
          "text": [
            "                   all         32        124      0.872      0.882      0.926      0.558\n"
          ]
        },
        {
          "output_type": "stream",
          "name": "stderr",
          "text": [
            "\n"
          ]
        },
        {
          "output_type": "stream",
          "name": "stdout",
          "text": [
            "\n",
            "      Epoch    GPU_mem   box_loss   cls_loss   dfl_loss  Instances       Size\n"
          ]
        },
        {
          "output_type": "stream",
          "name": "stderr",
          "text": [
            "    119/200      1.97G     0.7654     0.4124      1.006         94        224: 100%|██████████| 21/21 [00:04<00:00,  4.86it/s]\n",
            "                 Class     Images  Instances      Box(P          R      mAP50  mAP50-95): 100%|██████████| 1/1 [00:00<00:00,  4.39it/s]"
          ]
        },
        {
          "output_type": "stream",
          "name": "stdout",
          "text": [
            "                   all         32        124      0.887      0.887      0.921      0.577\n"
          ]
        },
        {
          "output_type": "stream",
          "name": "stderr",
          "text": [
            "\n"
          ]
        },
        {
          "output_type": "stream",
          "name": "stdout",
          "text": [
            "\n",
            "      Epoch    GPU_mem   box_loss   cls_loss   dfl_loss  Instances       Size\n"
          ]
        },
        {
          "output_type": "stream",
          "name": "stderr",
          "text": [
            "    120/200      1.97G     0.7854     0.4131     0.9899        114        224: 100%|██████████| 21/21 [00:05<00:00,  3.96it/s]\n",
            "                 Class     Images  Instances      Box(P          R      mAP50  mAP50-95): 100%|██████████| 1/1 [00:00<00:00,  5.67it/s]"
          ]
        },
        {
          "output_type": "stream",
          "name": "stdout",
          "text": [
            "                   all         32        124      0.855      0.863      0.914       0.56\n"
          ]
        },
        {
          "output_type": "stream",
          "name": "stderr",
          "text": [
            "\n"
          ]
        },
        {
          "output_type": "stream",
          "name": "stdout",
          "text": [
            "\n",
            "      Epoch    GPU_mem   box_loss   cls_loss   dfl_loss  Instances       Size\n"
          ]
        },
        {
          "output_type": "stream",
          "name": "stderr",
          "text": [
            "    121/200      2.03G     0.8259     0.4373     0.9989        100        224: 100%|██████████| 21/21 [00:04<00:00,  4.62it/s]\n",
            "                 Class     Images  Instances      Box(P          R      mAP50  mAP50-95): 100%|██████████| 1/1 [00:00<00:00,  3.54it/s]"
          ]
        },
        {
          "output_type": "stream",
          "name": "stdout",
          "text": [
            "                   all         32        124      0.829      0.863      0.889      0.552\n"
          ]
        },
        {
          "output_type": "stream",
          "name": "stderr",
          "text": [
            "\n"
          ]
        },
        {
          "output_type": "stream",
          "name": "stdout",
          "text": [
            "\n",
            "      Epoch    GPU_mem   box_loss   cls_loss   dfl_loss  Instances       Size\n"
          ]
        },
        {
          "output_type": "stream",
          "name": "stderr",
          "text": [
            "    122/200      1.97G     0.7644     0.4055     0.9866         76        224: 100%|██████████| 21/21 [00:06<00:00,  3.22it/s]\n",
            "                 Class     Images  Instances      Box(P          R      mAP50  mAP50-95): 100%|██████████| 1/1 [00:00<00:00,  5.73it/s]"
          ]
        },
        {
          "output_type": "stream",
          "name": "stdout",
          "text": [
            "                   all         32        124      0.868      0.871      0.895      0.555\n"
          ]
        },
        {
          "output_type": "stream",
          "name": "stderr",
          "text": [
            "\n"
          ]
        },
        {
          "output_type": "stream",
          "name": "stdout",
          "text": [
            "\n",
            "      Epoch    GPU_mem   box_loss   cls_loss   dfl_loss  Instances       Size\n"
          ]
        },
        {
          "output_type": "stream",
          "name": "stderr",
          "text": [
            "    123/200      1.97G     0.7425     0.4148     0.9873        122        224: 100%|██████████| 21/21 [00:04<00:00,  4.98it/s]\n",
            "                 Class     Images  Instances      Box(P          R      mAP50  mAP50-95): 100%|██████████| 1/1 [00:00<00:00,  5.29it/s]"
          ]
        },
        {
          "output_type": "stream",
          "name": "stdout",
          "text": [
            "                   all         32        124      0.881      0.847      0.895      0.558\n"
          ]
        },
        {
          "output_type": "stream",
          "name": "stderr",
          "text": [
            "\n"
          ]
        },
        {
          "output_type": "stream",
          "name": "stdout",
          "text": [
            "\n",
            "      Epoch    GPU_mem   box_loss   cls_loss   dfl_loss  Instances       Size\n"
          ]
        },
        {
          "output_type": "stream",
          "name": "stderr",
          "text": [
            "    124/200      1.97G     0.7408      0.401     0.9852        116        224: 100%|██████████| 21/21 [00:05<00:00,  3.97it/s]\n",
            "                 Class     Images  Instances      Box(P          R      mAP50  mAP50-95): 100%|██████████| 1/1 [00:00<00:00,  3.49it/s]"
          ]
        },
        {
          "output_type": "stream",
          "name": "stdout",
          "text": [
            "                   all         32        124      0.919      0.824      0.922      0.562\n"
          ]
        },
        {
          "output_type": "stream",
          "name": "stderr",
          "text": [
            "\n"
          ]
        },
        {
          "output_type": "stream",
          "name": "stdout",
          "text": [
            "\n",
            "      Epoch    GPU_mem   box_loss   cls_loss   dfl_loss  Instances       Size\n"
          ]
        },
        {
          "output_type": "stream",
          "name": "stderr",
          "text": [
            "    125/200      2.02G     0.7382     0.3963     0.9796        134        224: 100%|██████████| 21/21 [00:04<00:00,  4.88it/s]\n",
            "                 Class     Images  Instances      Box(P          R      mAP50  mAP50-95): 100%|██████████| 1/1 [00:00<00:00,  5.76it/s]"
          ]
        },
        {
          "output_type": "stream",
          "name": "stdout",
          "text": [
            "                   all         32        124      0.912      0.833      0.919      0.556\n"
          ]
        },
        {
          "output_type": "stream",
          "name": "stderr",
          "text": [
            "\n"
          ]
        },
        {
          "output_type": "stream",
          "name": "stdout",
          "text": [
            "\n",
            "      Epoch    GPU_mem   box_loss   cls_loss   dfl_loss  Instances       Size\n"
          ]
        },
        {
          "output_type": "stream",
          "name": "stderr",
          "text": [
            "    126/200      1.97G     0.7557     0.4084     0.9921        137        224: 100%|██████████| 21/21 [00:04<00:00,  5.04it/s]\n",
            "                 Class     Images  Instances      Box(P          R      mAP50  mAP50-95): 100%|██████████| 1/1 [00:00<00:00,  5.11it/s]\n"
          ]
        },
        {
          "output_type": "stream",
          "name": "stdout",
          "text": [
            "                   all         32        124      0.912      0.839      0.906      0.545\n",
            "\n",
            "      Epoch    GPU_mem   box_loss   cls_loss   dfl_loss  Instances       Size\n"
          ]
        },
        {
          "output_type": "stream",
          "name": "stderr",
          "text": [
            "    127/200      1.98G     0.7419     0.3943     0.9864        148        224: 100%|██████████| 21/21 [00:05<00:00,  3.59it/s]\n",
            "                 Class     Images  Instances      Box(P          R      mAP50  mAP50-95): 100%|██████████| 1/1 [00:00<00:00,  5.72it/s]"
          ]
        },
        {
          "output_type": "stream",
          "name": "stdout",
          "text": [
            "                   all         32        124       0.93      0.864       0.92       0.58\n"
          ]
        },
        {
          "output_type": "stream",
          "name": "stderr",
          "text": [
            "\n"
          ]
        },
        {
          "output_type": "stream",
          "name": "stdout",
          "text": [
            "\n",
            "      Epoch    GPU_mem   box_loss   cls_loss   dfl_loss  Instances       Size\n"
          ]
        },
        {
          "output_type": "stream",
          "name": "stderr",
          "text": [
            "    128/200      1.97G      0.743     0.3937     0.9644        129        224: 100%|██████████| 21/21 [00:04<00:00,  5.02it/s]\n",
            "                 Class     Images  Instances      Box(P          R      mAP50  mAP50-95): 100%|██████████| 1/1 [00:00<00:00,  5.36it/s]"
          ]
        },
        {
          "output_type": "stream",
          "name": "stdout",
          "text": [
            "                   all         32        124      0.912      0.833      0.907       0.57\n"
          ]
        },
        {
          "output_type": "stream",
          "name": "stderr",
          "text": [
            "\n"
          ]
        },
        {
          "output_type": "stream",
          "name": "stdout",
          "text": [
            "\n",
            "      Epoch    GPU_mem   box_loss   cls_loss   dfl_loss  Instances       Size\n"
          ]
        },
        {
          "output_type": "stream",
          "name": "stderr",
          "text": [
            "    129/200      2.03G     0.7172     0.4023     0.9791         78        224: 100%|██████████| 21/21 [00:05<00:00,  3.95it/s]\n",
            "                 Class     Images  Instances      Box(P          R      mAP50  mAP50-95): 100%|██████████| 1/1 [00:00<00:00,  4.23it/s]"
          ]
        },
        {
          "output_type": "stream",
          "name": "stdout",
          "text": [
            "                   all         32        124      0.905      0.831      0.922      0.564\n"
          ]
        },
        {
          "output_type": "stream",
          "name": "stderr",
          "text": [
            "\n"
          ]
        },
        {
          "output_type": "stream",
          "name": "stdout",
          "text": [
            "\n",
            "      Epoch    GPU_mem   box_loss   cls_loss   dfl_loss  Instances       Size\n"
          ]
        },
        {
          "output_type": "stream",
          "name": "stderr",
          "text": [
            "    130/200      1.97G     0.7176      0.391     0.9721        108        224: 100%|██████████| 21/21 [00:04<00:00,  5.02it/s]\n",
            "                 Class     Images  Instances      Box(P          R      mAP50  mAP50-95): 100%|██████████| 1/1 [00:00<00:00,  5.77it/s]"
          ]
        },
        {
          "output_type": "stream",
          "name": "stdout",
          "text": [
            "                   all         32        124      0.901      0.806      0.907      0.565\n"
          ]
        },
        {
          "output_type": "stream",
          "name": "stderr",
          "text": [
            "\n"
          ]
        },
        {
          "output_type": "stream",
          "name": "stdout",
          "text": [
            "\n",
            "      Epoch    GPU_mem   box_loss   cls_loss   dfl_loss  Instances       Size\n"
          ]
        },
        {
          "output_type": "stream",
          "name": "stderr",
          "text": [
            "    131/200      1.97G     0.7279     0.3986      0.972        183        224: 100%|██████████| 21/21 [00:04<00:00,  5.07it/s]\n",
            "                 Class     Images  Instances      Box(P          R      mAP50  mAP50-95): 100%|██████████| 1/1 [00:00<00:00,  4.25it/s]"
          ]
        },
        {
          "output_type": "stream",
          "name": "stdout",
          "text": [
            "                   all         32        124      0.892      0.831      0.887      0.553\n"
          ]
        },
        {
          "output_type": "stream",
          "name": "stderr",
          "text": [
            "\n"
          ]
        },
        {
          "output_type": "stream",
          "name": "stdout",
          "text": [
            "\n",
            "      Epoch    GPU_mem   box_loss   cls_loss   dfl_loss  Instances       Size\n"
          ]
        },
        {
          "output_type": "stream",
          "name": "stderr",
          "text": [
            "    132/200      1.96G     0.7107     0.3812     0.9673         97        224: 100%|██████████| 21/21 [00:05<00:00,  3.52it/s]\n",
            "                 Class     Images  Instances      Box(P          R      mAP50  mAP50-95): 100%|██████████| 1/1 [00:00<00:00,  5.88it/s]"
          ]
        },
        {
          "output_type": "stream",
          "name": "stdout",
          "text": [
            "                   all         32        124        0.9      0.839      0.907      0.552\n"
          ]
        },
        {
          "output_type": "stream",
          "name": "stderr",
          "text": [
            "\n"
          ]
        },
        {
          "output_type": "stream",
          "name": "stdout",
          "text": [
            "\n",
            "      Epoch    GPU_mem   box_loss   cls_loss   dfl_loss  Instances       Size\n"
          ]
        },
        {
          "output_type": "stream",
          "name": "stderr",
          "text": [
            "    133/200      2.03G     0.7252     0.3888     0.9811         69        224: 100%|██████████| 21/21 [00:04<00:00,  5.06it/s]\n",
            "                 Class     Images  Instances      Box(P          R      mAP50  mAP50-95): 100%|██████████| 1/1 [00:00<00:00,  5.26it/s]"
          ]
        },
        {
          "output_type": "stream",
          "name": "stdout",
          "text": [
            "                   all         32        124      0.879      0.823      0.898      0.548\n"
          ]
        },
        {
          "output_type": "stream",
          "name": "stderr",
          "text": [
            "\n"
          ]
        },
        {
          "output_type": "stream",
          "name": "stdout",
          "text": [
            "\n",
            "      Epoch    GPU_mem   box_loss   cls_loss   dfl_loss  Instances       Size\n"
          ]
        },
        {
          "output_type": "stream",
          "name": "stderr",
          "text": [
            "    134/200      1.97G      0.712     0.3936     0.9828        183        224: 100%|██████████| 21/21 [00:05<00:00,  3.90it/s]\n",
            "                 Class     Images  Instances      Box(P          R      mAP50  mAP50-95): 100%|██████████| 1/1 [00:00<00:00,  3.17it/s]"
          ]
        },
        {
          "output_type": "stream",
          "name": "stdout",
          "text": [
            "                   all         32        124      0.851      0.855      0.904      0.561\n"
          ]
        },
        {
          "output_type": "stream",
          "name": "stderr",
          "text": [
            "\n"
          ]
        },
        {
          "output_type": "stream",
          "name": "stdout",
          "text": [
            "\n",
            "      Epoch    GPU_mem   box_loss   cls_loss   dfl_loss  Instances       Size\n"
          ]
        },
        {
          "output_type": "stream",
          "name": "stderr",
          "text": [
            "    135/200      1.97G     0.7242     0.3984     0.9825         92        224: 100%|██████████| 21/21 [00:04<00:00,  4.91it/s]\n",
            "                 Class     Images  Instances      Box(P          R      mAP50  mAP50-95): 100%|██████████| 1/1 [00:00<00:00,  5.54it/s]"
          ]
        },
        {
          "output_type": "stream",
          "name": "stdout",
          "text": [
            "                   all         32        124      0.901      0.886      0.939       0.57\n"
          ]
        },
        {
          "output_type": "stream",
          "name": "stderr",
          "text": [
            "\n"
          ]
        },
        {
          "output_type": "stream",
          "name": "stdout",
          "text": [
            "\n",
            "      Epoch    GPU_mem   box_loss   cls_loss   dfl_loss  Instances       Size\n"
          ]
        },
        {
          "output_type": "stream",
          "name": "stderr",
          "text": [
            "    136/200      1.96G     0.7322     0.3955     0.9831        164        224: 100%|██████████| 21/21 [00:04<00:00,  5.04it/s]\n",
            "                 Class     Images  Instances      Box(P          R      mAP50  mAP50-95): 100%|██████████| 1/1 [00:00<00:00,  5.47it/s]"
          ]
        },
        {
          "output_type": "stream",
          "name": "stdout",
          "text": [
            "                   all         32        124      0.914      0.862      0.926      0.557\n"
          ]
        },
        {
          "output_type": "stream",
          "name": "stderr",
          "text": [
            "\n"
          ]
        },
        {
          "output_type": "stream",
          "name": "stdout",
          "text": [
            "\n",
            "      Epoch    GPU_mem   box_loss   cls_loss   dfl_loss  Instances       Size\n"
          ]
        },
        {
          "output_type": "stream",
          "name": "stderr",
          "text": [
            "    137/200      2.02G     0.7302     0.3944     0.9725         90        224: 100%|██████████| 21/21 [00:06<00:00,  3.49it/s]\n",
            "                 Class     Images  Instances      Box(P          R      mAP50  mAP50-95): 100%|██████████| 1/1 [00:00<00:00,  5.35it/s]"
          ]
        },
        {
          "output_type": "stream",
          "name": "stdout",
          "text": [
            "                   all         32        124       0.84      0.903      0.911      0.563\n"
          ]
        },
        {
          "output_type": "stream",
          "name": "stderr",
          "text": [
            "\n"
          ]
        },
        {
          "output_type": "stream",
          "name": "stdout",
          "text": [
            "\n",
            "      Epoch    GPU_mem   box_loss   cls_loss   dfl_loss  Instances       Size\n"
          ]
        },
        {
          "output_type": "stream",
          "name": "stderr",
          "text": [
            "    138/200      1.97G     0.7445      0.397     0.9738         75        224: 100%|██████████| 21/21 [00:04<00:00,  5.06it/s]\n",
            "                 Class     Images  Instances      Box(P          R      mAP50  mAP50-95): 100%|██████████| 1/1 [00:00<00:00,  5.82it/s]"
          ]
        },
        {
          "output_type": "stream",
          "name": "stdout",
          "text": [
            "                   all         32        124      0.926      0.839      0.917      0.574\n"
          ]
        },
        {
          "output_type": "stream",
          "name": "stderr",
          "text": [
            "\n"
          ]
        },
        {
          "output_type": "stream",
          "name": "stdout",
          "text": [
            "\n",
            "      Epoch    GPU_mem   box_loss   cls_loss   dfl_loss  Instances       Size\n"
          ]
        },
        {
          "output_type": "stream",
          "name": "stderr",
          "text": [
            "    139/200      1.97G     0.7361     0.3895     0.9781        104        224: 100%|██████████| 21/21 [00:05<00:00,  4.06it/s]\n",
            "                 Class     Images  Instances      Box(P          R      mAP50  mAP50-95): 100%|██████████| 1/1 [00:00<00:00,  3.35it/s]"
          ]
        },
        {
          "output_type": "stream",
          "name": "stdout",
          "text": [
            "                   all         32        124      0.899      0.862      0.918      0.559\n"
          ]
        },
        {
          "output_type": "stream",
          "name": "stderr",
          "text": [
            "\n"
          ]
        },
        {
          "output_type": "stream",
          "name": "stdout",
          "text": [
            "\n",
            "      Epoch    GPU_mem   box_loss   cls_loss   dfl_loss  Instances       Size\n"
          ]
        },
        {
          "output_type": "stream",
          "name": "stderr",
          "text": [
            "    140/200      1.97G     0.7421     0.3955     0.9748        148        224: 100%|██████████| 21/21 [00:04<00:00,  4.73it/s]\n",
            "                 Class     Images  Instances      Box(P          R      mAP50  mAP50-95): 100%|██████████| 1/1 [00:00<00:00,  5.27it/s]\n"
          ]
        },
        {
          "output_type": "stream",
          "name": "stdout",
          "text": [
            "                   all         32        124      0.877       0.86      0.894      0.547\n",
            "\n",
            "      Epoch    GPU_mem   box_loss   cls_loss   dfl_loss  Instances       Size\n"
          ]
        },
        {
          "output_type": "stream",
          "name": "stderr",
          "text": [
            "    141/200      2.03G      0.706     0.3894     0.9715        131        224: 100%|██████████| 21/21 [00:04<00:00,  5.02it/s]\n",
            "                 Class     Images  Instances      Box(P          R      mAP50  mAP50-95): 100%|██████████| 1/1 [00:00<00:00,  5.25it/s]"
          ]
        },
        {
          "output_type": "stream",
          "name": "stdout",
          "text": [
            "                   all         32        124      0.896      0.879      0.918      0.564\n"
          ]
        },
        {
          "output_type": "stream",
          "name": "stderr",
          "text": [
            "\n"
          ]
        },
        {
          "output_type": "stream",
          "name": "stdout",
          "text": [
            "\n",
            "      Epoch    GPU_mem   box_loss   cls_loss   dfl_loss  Instances       Size\n"
          ]
        },
        {
          "output_type": "stream",
          "name": "stderr",
          "text": [
            "    142/200      1.97G     0.7288     0.3809     0.9631        103        224: 100%|██████████| 21/21 [00:06<00:00,  3.44it/s]\n",
            "                 Class     Images  Instances      Box(P          R      mAP50  mAP50-95): 100%|██████████| 1/1 [00:00<00:00,  5.78it/s]"
          ]
        },
        {
          "output_type": "stream",
          "name": "stdout",
          "text": [
            "                   all         32        124      0.867      0.871       0.91      0.545\n"
          ]
        },
        {
          "output_type": "stream",
          "name": "stderr",
          "text": [
            "\n"
          ]
        },
        {
          "output_type": "stream",
          "name": "stdout",
          "text": [
            "\n",
            "      Epoch    GPU_mem   box_loss   cls_loss   dfl_loss  Instances       Size\n"
          ]
        },
        {
          "output_type": "stream",
          "name": "stderr",
          "text": [
            "    143/200      1.97G     0.7026     0.3884     0.9736         74        224: 100%|██████████| 21/21 [00:04<00:00,  5.08it/s]\n",
            "                 Class     Images  Instances      Box(P          R      mAP50  mAP50-95): 100%|██████████| 1/1 [00:00<00:00,  5.58it/s]"
          ]
        },
        {
          "output_type": "stream",
          "name": "stdout",
          "text": [
            "                   all         32        124      0.872      0.878      0.919      0.556\n"
          ]
        },
        {
          "output_type": "stream",
          "name": "stderr",
          "text": [
            "\n"
          ]
        },
        {
          "output_type": "stream",
          "name": "stdout",
          "text": [
            "\n",
            "      Epoch    GPU_mem   box_loss   cls_loss   dfl_loss  Instances       Size\n"
          ]
        },
        {
          "output_type": "stream",
          "name": "stderr",
          "text": [
            "    144/200      1.97G     0.6767     0.3797     0.9786         96        224: 100%|██████████| 21/21 [00:05<00:00,  3.91it/s]\n",
            "                 Class     Images  Instances      Box(P          R      mAP50  mAP50-95): 100%|██████████| 1/1 [00:00<00:00,  3.73it/s]"
          ]
        },
        {
          "output_type": "stream",
          "name": "stdout",
          "text": [
            "                   all         32        124      0.865      0.878      0.925       0.56\n"
          ]
        },
        {
          "output_type": "stream",
          "name": "stderr",
          "text": [
            "\n"
          ]
        },
        {
          "output_type": "stream",
          "name": "stdout",
          "text": [
            "\n",
            "      Epoch    GPU_mem   box_loss   cls_loss   dfl_loss  Instances       Size\n"
          ]
        },
        {
          "output_type": "stream",
          "name": "stderr",
          "text": [
            "    145/200      2.02G     0.6986     0.3829     0.9838        125        224: 100%|██████████| 21/21 [00:04<00:00,  4.21it/s]\n",
            "                 Class     Images  Instances      Box(P          R      mAP50  mAP50-95): 100%|██████████| 1/1 [00:00<00:00,  3.46it/s]"
          ]
        },
        {
          "output_type": "stream",
          "name": "stdout",
          "text": [
            "                   all         32        124      0.893      0.877      0.922      0.549\n"
          ]
        },
        {
          "output_type": "stream",
          "name": "stderr",
          "text": [
            "\n"
          ]
        },
        {
          "output_type": "stream",
          "name": "stdout",
          "text": [
            "\n",
            "      Epoch    GPU_mem   box_loss   cls_loss   dfl_loss  Instances       Size\n"
          ]
        },
        {
          "output_type": "stream",
          "name": "stderr",
          "text": [
            "    146/200      1.97G     0.7178     0.3805     0.9627         74        224: 100%|██████████| 21/21 [00:06<00:00,  3.08it/s]\n",
            "                 Class     Images  Instances      Box(P          R      mAP50  mAP50-95): 100%|██████████| 1/1 [00:00<00:00,  3.21it/s]"
          ]
        },
        {
          "output_type": "stream",
          "name": "stdout",
          "text": [
            "                   all         32        124       0.86      0.919       0.93      0.574\n"
          ]
        },
        {
          "output_type": "stream",
          "name": "stderr",
          "text": [
            "\n"
          ]
        },
        {
          "output_type": "stream",
          "name": "stdout",
          "text": [
            "\n",
            "      Epoch    GPU_mem   box_loss   cls_loss   dfl_loss  Instances       Size\n"
          ]
        },
        {
          "output_type": "stream",
          "name": "stderr",
          "text": [
            "    147/200      1.97G     0.6914     0.3774     0.9663        133        224: 100%|██████████| 21/21 [00:04<00:00,  4.98it/s]\n",
            "                 Class     Images  Instances      Box(P          R      mAP50  mAP50-95): 100%|██████████| 1/1 [00:00<00:00,  5.67it/s]"
          ]
        },
        {
          "output_type": "stream",
          "name": "stdout",
          "text": [
            "                   all         32        124      0.914      0.861      0.919      0.577\n"
          ]
        },
        {
          "output_type": "stream",
          "name": "stderr",
          "text": [
            "\n"
          ]
        },
        {
          "output_type": "stream",
          "name": "stdout",
          "text": [
            "\n",
            "      Epoch    GPU_mem   box_loss   cls_loss   dfl_loss  Instances       Size\n"
          ]
        },
        {
          "output_type": "stream",
          "name": "stderr",
          "text": [
            "    148/200      1.98G     0.6905     0.3732     0.9479         82        224: 100%|██████████| 21/21 [00:04<00:00,  5.04it/s]\n",
            "                 Class     Images  Instances      Box(P          R      mAP50  mAP50-95): 100%|██████████| 1/1 [00:00<00:00,  3.98it/s]"
          ]
        },
        {
          "output_type": "stream",
          "name": "stdout",
          "text": [
            "                   all         32        124      0.923      0.872      0.933       0.59\n"
          ]
        },
        {
          "output_type": "stream",
          "name": "stderr",
          "text": [
            "\n"
          ]
        },
        {
          "output_type": "stream",
          "name": "stdout",
          "text": [
            "\n",
            "      Epoch    GPU_mem   box_loss   cls_loss   dfl_loss  Instances       Size\n"
          ]
        },
        {
          "output_type": "stream",
          "name": "stderr",
          "text": [
            "    149/200      2.03G     0.6743     0.3577     0.9654        122        224: 100%|██████████| 21/21 [00:05<00:00,  3.87it/s]\n",
            "                 Class     Images  Instances      Box(P          R      mAP50  mAP50-95): 100%|██████████| 1/1 [00:00<00:00,  5.66it/s]"
          ]
        },
        {
          "output_type": "stream",
          "name": "stdout",
          "text": [
            "                   all         32        124      0.887      0.884      0.929      0.572\n"
          ]
        },
        {
          "output_type": "stream",
          "name": "stderr",
          "text": [
            "\n"
          ]
        },
        {
          "output_type": "stream",
          "name": "stdout",
          "text": [
            "\n",
            "      Epoch    GPU_mem   box_loss   cls_loss   dfl_loss  Instances       Size\n"
          ]
        },
        {
          "output_type": "stream",
          "name": "stderr",
          "text": [
            "    150/200      1.96G     0.6621     0.3636     0.9604         89        224: 100%|██████████| 21/21 [00:05<00:00,  3.72it/s]\n",
            "                 Class     Images  Instances      Box(P          R      mAP50  mAP50-95): 100%|██████████| 1/1 [00:00<00:00,  5.71it/s]"
          ]
        },
        {
          "output_type": "stream",
          "name": "stdout",
          "text": [
            "                   all         32        124      0.879       0.88      0.919      0.569\n"
          ]
        },
        {
          "output_type": "stream",
          "name": "stderr",
          "text": [
            "\n"
          ]
        },
        {
          "output_type": "stream",
          "name": "stdout",
          "text": [
            "\n",
            "      Epoch    GPU_mem   box_loss   cls_loss   dfl_loss  Instances       Size\n"
          ]
        },
        {
          "output_type": "stream",
          "name": "stderr",
          "text": [
            "    151/200      1.97G     0.6273     0.3525     0.9533         84        224: 100%|██████████| 21/21 [00:05<00:00,  3.53it/s]\n",
            "                 Class     Images  Instances      Box(P          R      mAP50  mAP50-95): 100%|██████████| 1/1 [00:00<00:00,  5.38it/s]"
          ]
        },
        {
          "output_type": "stream",
          "name": "stdout",
          "text": [
            "                   all         32        124       0.87      0.865      0.915      0.575\n"
          ]
        },
        {
          "output_type": "stream",
          "name": "stderr",
          "text": [
            "\n"
          ]
        },
        {
          "output_type": "stream",
          "name": "stdout",
          "text": [
            "\n",
            "      Epoch    GPU_mem   box_loss   cls_loss   dfl_loss  Instances       Size\n"
          ]
        },
        {
          "output_type": "stream",
          "name": "stderr",
          "text": [
            "    152/200      1.97G     0.6955     0.3836      0.963        134        224: 100%|██████████| 21/21 [00:04<00:00,  5.05it/s]\n",
            "                 Class     Images  Instances      Box(P          R      mAP50  mAP50-95): 100%|██████████| 1/1 [00:00<00:00,  5.69it/s]"
          ]
        },
        {
          "output_type": "stream",
          "name": "stdout",
          "text": [
            "                   all         32        124      0.879      0.855      0.914      0.578\n"
          ]
        },
        {
          "output_type": "stream",
          "name": "stderr",
          "text": [
            "\n"
          ]
        },
        {
          "output_type": "stream",
          "name": "stdout",
          "text": [
            "\n",
            "      Epoch    GPU_mem   box_loss   cls_loss   dfl_loss  Instances       Size\n"
          ]
        },
        {
          "output_type": "stream",
          "name": "stderr",
          "text": [
            "    153/200      2.04G     0.6763     0.3723     0.9476         79        224: 100%|██████████| 21/21 [00:05<00:00,  3.99it/s]\n",
            "                 Class     Images  Instances      Box(P          R      mAP50  mAP50-95): 100%|██████████| 1/1 [00:00<00:00,  3.40it/s]"
          ]
        },
        {
          "output_type": "stream",
          "name": "stdout",
          "text": [
            "                   all         32        124       0.89      0.879      0.918       0.58\n"
          ]
        },
        {
          "output_type": "stream",
          "name": "stderr",
          "text": [
            "\n"
          ]
        },
        {
          "output_type": "stream",
          "name": "stdout",
          "text": [
            "\n",
            "      Epoch    GPU_mem   box_loss   cls_loss   dfl_loss  Instances       Size\n"
          ]
        },
        {
          "output_type": "stream",
          "name": "stderr",
          "text": [
            "    154/200      1.96G     0.6428     0.3566     0.9387         93        224: 100%|██████████| 21/21 [00:04<00:00,  5.00it/s]\n",
            "                 Class     Images  Instances      Box(P          R      mAP50  mAP50-95): 100%|██████████| 1/1 [00:00<00:00,  5.63it/s]"
          ]
        },
        {
          "output_type": "stream",
          "name": "stdout",
          "text": [
            "                   all         32        124      0.899       0.86      0.924      0.595\n"
          ]
        },
        {
          "output_type": "stream",
          "name": "stderr",
          "text": [
            "\n"
          ]
        },
        {
          "output_type": "stream",
          "name": "stdout",
          "text": [
            "\n",
            "      Epoch    GPU_mem   box_loss   cls_loss   dfl_loss  Instances       Size\n"
          ]
        },
        {
          "output_type": "stream",
          "name": "stderr",
          "text": [
            "    155/200      1.97G     0.6788     0.3756      0.962        170        224: 100%|██████████| 21/21 [00:04<00:00,  4.69it/s]\n",
            "                 Class     Images  Instances      Box(P          R      mAP50  mAP50-95): 100%|██████████| 1/1 [00:00<00:00,  4.24it/s]"
          ]
        },
        {
          "output_type": "stream",
          "name": "stdout",
          "text": [
            "                   all         32        124      0.879      0.878      0.925      0.575\n"
          ]
        },
        {
          "output_type": "stream",
          "name": "stderr",
          "text": [
            "\n"
          ]
        },
        {
          "output_type": "stream",
          "name": "stdout",
          "text": [
            "\n",
            "      Epoch    GPU_mem   box_loss   cls_loss   dfl_loss  Instances       Size\n"
          ]
        },
        {
          "output_type": "stream",
          "name": "stderr",
          "text": [
            "    156/200      1.97G     0.6425     0.3568     0.9493        139        224: 100%|██████████| 21/21 [00:05<00:00,  4.09it/s]\n",
            "                 Class     Images  Instances      Box(P          R      mAP50  mAP50-95): 100%|██████████| 1/1 [00:00<00:00,  5.24it/s]"
          ]
        },
        {
          "output_type": "stream",
          "name": "stdout",
          "text": [
            "                   all         32        124      0.911      0.839      0.915      0.575\n"
          ]
        },
        {
          "output_type": "stream",
          "name": "stderr",
          "text": [
            "\n"
          ]
        },
        {
          "output_type": "stream",
          "name": "stdout",
          "text": [
            "\n",
            "      Epoch    GPU_mem   box_loss   cls_loss   dfl_loss  Instances       Size\n"
          ]
        },
        {
          "output_type": "stream",
          "name": "stderr",
          "text": [
            "    157/200      2.02G     0.6814      0.367     0.9492        123        224: 100%|██████████| 21/21 [00:04<00:00,  4.35it/s]\n",
            "                 Class     Images  Instances      Box(P          R      mAP50  mAP50-95): 100%|██████████| 1/1 [00:00<00:00,  5.40it/s]"
          ]
        },
        {
          "output_type": "stream",
          "name": "stdout",
          "text": [
            "                   all         32        124      0.898      0.853      0.906      0.566\n"
          ]
        },
        {
          "output_type": "stream",
          "name": "stderr",
          "text": [
            "\n"
          ]
        },
        {
          "output_type": "stream",
          "name": "stdout",
          "text": [
            "\n",
            "      Epoch    GPU_mem   box_loss   cls_loss   dfl_loss  Instances       Size\n"
          ]
        },
        {
          "output_type": "stream",
          "name": "stderr",
          "text": [
            "    158/200      1.96G     0.6443      0.349     0.9589        123        224: 100%|██████████| 21/21 [00:06<00:00,  3.39it/s]\n",
            "                 Class     Images  Instances      Box(P          R      mAP50  mAP50-95): 100%|██████████| 1/1 [00:00<00:00,  5.75it/s]"
          ]
        },
        {
          "output_type": "stream",
          "name": "stdout",
          "text": [
            "                   all         32        124      0.921      0.855      0.918      0.561\n"
          ]
        },
        {
          "output_type": "stream",
          "name": "stderr",
          "text": [
            "\n"
          ]
        },
        {
          "output_type": "stream",
          "name": "stdout",
          "text": [
            "\n",
            "      Epoch    GPU_mem   box_loss   cls_loss   dfl_loss  Instances       Size\n"
          ]
        },
        {
          "output_type": "stream",
          "name": "stderr",
          "text": [
            "    159/200      1.98G     0.6676     0.3648     0.9524        173        224: 100%|██████████| 21/21 [00:04<00:00,  4.99it/s]\n",
            "                 Class     Images  Instances      Box(P          R      mAP50  mAP50-95): 100%|██████████| 1/1 [00:00<00:00,  4.92it/s]"
          ]
        },
        {
          "output_type": "stream",
          "name": "stdout",
          "text": [
            "                   all         32        124      0.887      0.863      0.927      0.568\n"
          ]
        },
        {
          "output_type": "stream",
          "name": "stderr",
          "text": [
            "\n"
          ]
        },
        {
          "output_type": "stream",
          "name": "stdout",
          "text": [
            "\n",
            "      Epoch    GPU_mem   box_loss   cls_loss   dfl_loss  Instances       Size\n"
          ]
        },
        {
          "output_type": "stream",
          "name": "stderr",
          "text": [
            "    160/200      1.97G     0.6425     0.3486     0.9552         85        224: 100%|██████████| 21/21 [00:04<00:00,  4.22it/s]\n",
            "                 Class     Images  Instances      Box(P          R      mAP50  mAP50-95): 100%|██████████| 1/1 [00:00<00:00,  3.52it/s]"
          ]
        },
        {
          "output_type": "stream",
          "name": "stdout",
          "text": [
            "                   all         32        124      0.879      0.877       0.92      0.565\n"
          ]
        },
        {
          "output_type": "stream",
          "name": "stderr",
          "text": [
            "\n"
          ]
        },
        {
          "output_type": "stream",
          "name": "stdout",
          "text": [
            "\n",
            "      Epoch    GPU_mem   box_loss   cls_loss   dfl_loss  Instances       Size\n"
          ]
        },
        {
          "output_type": "stream",
          "name": "stderr",
          "text": [
            "    161/200      2.03G     0.6471     0.3548     0.9463        130        224: 100%|██████████| 21/21 [00:04<00:00,  4.72it/s]\n",
            "                 Class     Images  Instances      Box(P          R      mAP50  mAP50-95): 100%|██████████| 1/1 [00:00<00:00,  5.68it/s]"
          ]
        },
        {
          "output_type": "stream",
          "name": "stdout",
          "text": [
            "                   all         32        124      0.891      0.861      0.913      0.571\n"
          ]
        },
        {
          "output_type": "stream",
          "name": "stderr",
          "text": [
            "\n"
          ]
        },
        {
          "output_type": "stream",
          "name": "stdout",
          "text": [
            "\n",
            "      Epoch    GPU_mem   box_loss   cls_loss   dfl_loss  Instances       Size\n"
          ]
        },
        {
          "output_type": "stream",
          "name": "stderr",
          "text": [
            "    162/200      1.97G     0.6717     0.3629     0.9514        128        224: 100%|██████████| 21/21 [00:04<00:00,  5.07it/s]\n",
            "                 Class     Images  Instances      Box(P          R      mAP50  mAP50-95): 100%|██████████| 1/1 [00:00<00:00,  5.62it/s]"
          ]
        },
        {
          "output_type": "stream",
          "name": "stdout",
          "text": [
            "                   all         32        124      0.884      0.857      0.906      0.563\n"
          ]
        },
        {
          "output_type": "stream",
          "name": "stderr",
          "text": [
            "\n"
          ]
        },
        {
          "output_type": "stream",
          "name": "stdout",
          "text": [
            "\n",
            "      Epoch    GPU_mem   box_loss   cls_loss   dfl_loss  Instances       Size\n"
          ]
        },
        {
          "output_type": "stream",
          "name": "stderr",
          "text": [
            "    163/200      1.97G     0.6413     0.3486     0.9605         98        224: 100%|██████████| 21/21 [00:05<00:00,  3.74it/s]\n",
            "                 Class     Images  Instances      Box(P          R      mAP50  mAP50-95): 100%|██████████| 1/1 [00:00<00:00,  5.81it/s]"
          ]
        },
        {
          "output_type": "stream",
          "name": "stdout",
          "text": [
            "                   all         32        124      0.923      0.847      0.923      0.565\n"
          ]
        },
        {
          "output_type": "stream",
          "name": "stderr",
          "text": [
            "\n"
          ]
        },
        {
          "output_type": "stream",
          "name": "stdout",
          "text": [
            "\n",
            "      Epoch    GPU_mem   box_loss   cls_loss   dfl_loss  Instances       Size\n"
          ]
        },
        {
          "output_type": "stream",
          "name": "stderr",
          "text": [
            "    164/200      1.97G     0.6408     0.3548     0.9473         89        224: 100%|██████████| 21/21 [00:04<00:00,  4.88it/s]\n",
            "                 Class     Images  Instances      Box(P          R      mAP50  mAP50-95): 100%|██████████| 1/1 [00:00<00:00,  5.33it/s]"
          ]
        },
        {
          "output_type": "stream",
          "name": "stdout",
          "text": [
            "                   all         32        124      0.899      0.863      0.924      0.577\n"
          ]
        },
        {
          "output_type": "stream",
          "name": "stderr",
          "text": [
            "\n"
          ]
        },
        {
          "output_type": "stream",
          "name": "stdout",
          "text": [
            "\u001b[34m\u001b[1mEarlyStopping: \u001b[0mTraining stopped early as no improvement observed in last 100 epochs. Best results observed at epoch 64, best model saved as best.pt.\n",
            "To update EarlyStopping(patience=100) pass a new patience value, i.e. `patience=300` or use `patience=0` to disable EarlyStopping.\n",
            "\n",
            "164 epochs completed in 0.309 hours.\n",
            "Optimizer stripped from runs/detect/train/weights/last.pt, 51.6MB\n",
            "Optimizer stripped from runs/detect/train/weights/best.pt, 51.6MB\n",
            "\n",
            "Validating runs/detect/train/weights/best.pt...\n",
            "Ultralytics YOLOv8.2.78 🚀 Python-3.10.12 torch-2.3.1+cu121 CUDA:0 (Tesla T4, 15102MiB)\n",
            "YOLOv9c summary (fused): 384 layers, 25,320,019 parameters, 0 gradients, 102.3 GFLOPs\n"
          ]
        },
        {
          "output_type": "stream",
          "name": "stderr",
          "text": [
            "                 Class     Images  Instances      Box(P          R      mAP50  mAP50-95): 100%|██████████| 1/1 [00:00<00:00,  2.86it/s]\n"
          ]
        },
        {
          "output_type": "stream",
          "name": "stdout",
          "text": [
            "                   all         32        124      0.875        0.9      0.931      0.596\n",
            "Speed: 0.0ms preprocess, 3.3ms inference, 0.0ms loss, 2.1ms postprocess per image\n",
            "Results saved to \u001b[1mruns/detect/train\u001b[0m\n"
          ]
        }
      ]
    },
    {
      "cell_type": "code",
      "source": [
        "from ultralytics import YOLO\n",
        "\n",
        "# Load a model\n",
        "model = YOLO(\"/content/runs/detect/train/weights/best.pt\")  # Load your trained YOLOv8n model\n",
        "\n",
        "# Run batched inference on a list of images\n",
        "results = model([\"/content/large_main_effc4c52-d9de-418a-8c32-10b7be88404b.webp\"])  # Inference on the input image\n",
        "\n",
        "counter = 0\n",
        "\n",
        "# Process results list\n",
        "for result in results:\n",
        "    boxes = result.boxes  # Bounding box outputs\n",
        "    masks = result.masks  # Segmentation mask outputs\n",
        "    keypoints = result.keypoints  # Pose keypoints outputs\n",
        "    probs = result.probs  # Classification probability outputs\n",
        "    obb = result.obb  # Oriented bounding box outputs\n",
        "\n",
        "    # Filter results based on confidence score\n",
        "    filtered_boxes = boxes[boxes.conf > 0.8]  # Filter boxes with confidence > 0.5\n",
        "    filtered_masks = masks[boxes.conf > 0.8] if masks is not None else None  # Filter corresponding masks\n",
        "\n",
        "    counter +=len(filtered_boxes)\n",
        "\n",
        "    # Display and save the results\n",
        "    if filtered_boxes:\n",
        "        result.boxes = filtered_boxes\n",
        "        if filtered_masks is not None:\n",
        "            result.masks = filtered_masks\n",
        "\n",
        "        # Show results\n",
        "        result.show()\n",
        "\n",
        "        # Save the results to disk\n",
        "        result.save(filename=\"result.jpg\")\n",
        "\n",
        "print(\"number of oranges found\", counter)\n"
      ],
      "metadata": {
        "colab": {
          "base_uri": "https://localhost:8080/"
        },
        "id": "q7o5vN6i531r",
        "outputId": "fe5f3f81-a6f5-4ff1-d742-b2cb6b2f176d"
      },
      "execution_count": null,
      "outputs": [
        {
          "output_type": "stream",
          "name": "stdout",
          "text": [
            "\n",
            "0: 224x192 3 Oranges, 32.6ms\n",
            "Speed: 1.1ms preprocess, 32.6ms inference, 2.1ms postprocess per image at shape (1, 3, 224, 192)\n",
            "1\n"
          ]
        }
      ]
    }
  ]
}